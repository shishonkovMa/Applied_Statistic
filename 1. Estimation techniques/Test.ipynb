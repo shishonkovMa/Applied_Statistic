{
 "cells": [
  {
   "cell_type": "code",
   "execution_count": 17,
   "metadata": {},
   "outputs": [],
   "source": [
    "import numpy as np\n",
    "from numpy import loadtxt\n",
    "from statsmodels.stats.weightstats import DescrStatsW\n",
    "\n",
    "\n",
    "failure = loadtxt(\"failure times.txt\")"
   ]
  },
  {
   "cell_type": "markdown",
   "metadata": {},
   "source": [
    "The dataset above gives the failure times (in CPU seconds, measured in terms of execution time) of a real-time command and control software system.\n",
    "\n",
    "How often do failures happen?\n",
    "\n",
    "Calculate average time between failures, present the answer with two decimal points."
   ]
  },
  {
   "cell_type": "code",
   "execution_count": 21,
   "metadata": {},
   "outputs": [
    {
     "data": {
      "text/plain": [
       "656.8814814814815"
      ]
     },
     "execution_count": 21,
     "metadata": {},
     "output_type": "execute_result"
    }
   ],
   "source": [
    "times = []\n",
    "for i in range(1, len(failure)):\n",
    "    times.append(failure[i] - failure[i-1])\n",
    "\n",
    "np.mean(times)"
   ]
  },
  {
   "cell_type": "markdown",
   "metadata": {},
   "source": [
    "Calculate 95% confidence interval for the mean time between failures based on asymptotic normality of the sample mean. What is its upper bound? Round the answer to 2 decimal points."
   ]
  },
  {
   "cell_type": "code",
   "execution_count": 22,
   "metadata": {},
   "outputs": [
    {
     "name": "stdout",
     "output_type": "stream",
     "text": [
      "95% confidence interval: (480.30808862423476, 833.4548743387282)\n"
     ]
    }
   ],
   "source": [
    "print(\"95% confidence interval:\", DescrStatsW(times).tconfint_mean())"
   ]
  },
  {
   "cell_type": "markdown",
   "metadata": {},
   "source": [
    "Let's try to build 95% confidence interval for the same mean time between failures with bootstrap. What is its upper bound? Round the answer to 2 decimal points.\n",
    "\n",
    "To get exactly the same results as we did:\n",
    "\n",
    "- use get_bootstrap_samples and percentile_interval functions\n",
    "\n",
    "- set random seed = 0 before calling get_bootstrap_samples, once\n",
    "\n",
    "- use 10000 bootstrap resamples"
   ]
  },
  {
   "cell_type": "code",
   "execution_count": 28,
   "metadata": {},
   "outputs": [
    {
     "name": "stdout",
     "output_type": "stream",
     "text": [
      "95% confidence interval for the CPU seconds mean: [492.31703704 838.1562963 ]\n"
     ]
    }
   ],
   "source": [
    "def get_bootstrap_samples(x, n_resamples):\n",
    "    indices = np.random.randint(0, len(x), (n_resamples, len(x)))\n",
    "    resamples = x[indices]\n",
    "    return resamples\n",
    "\n",
    "\n",
    "def percentile_interval(stat, alpha):\n",
    "    boundaries = np.percentile(stat, [100 * alpha / 2., 100 * (1 - alpha / 2.)])\n",
    "    return boundaries\n",
    "\n",
    "\n",
    "np.random.seed(0)\n",
    "mean_scores = list(map(np.mean, get_bootstrap_samples(np.array(times), 10000)))\n",
    "print(\"95% confidence interval for the CPU seconds mean:\",  percentile_interval(mean_scores, 0.05))"
   ]
  },
  {
   "cell_type": "code",
   "execution_count": null,
   "metadata": {},
   "outputs": [],
   "source": []
  }
 ],
 "metadata": {
  "kernelspec": {
   "display_name": "Python 3",
   "language": "python",
   "name": "python3"
  },
  "language_info": {
   "codemirror_mode": {
    "name": "ipython",
    "version": 3
   },
   "file_extension": ".py",
   "mimetype": "text/x-python",
   "name": "python",
   "nbconvert_exporter": "python",
   "pygments_lexer": "ipython3",
   "version": "3.8.10"
  }
 },
 "nbformat": 4,
 "nbformat_minor": 4
}
