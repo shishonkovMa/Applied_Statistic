{
 "cells": [
  {
   "cell_type": "code",
   "execution_count": null,
   "metadata": {},
   "outputs": [],
   "source": [
    "import numpy as np\n",
    "import pandas as pd\n",
    "from statsmodels.stats.weightstats import _tconfint_generic\n",
    "\n",
    "\n",
    "water = pd.read_csv('water.txt', sep='\\t')\n",
    "water.head()"
   ]
  },
  {
   "cell_type": "markdown",
   "metadata": {},
   "source": [
    "For 61 big cities in England and Wales we know the average annual mortality rates (per 100000 people) and concentration of calcium in drinking water. Cities are classified as either northern or southern.\n",
    "\n",
    "water.txt\n",
    "\n",
    "Build a 95% confidence interval for mortality rate in big cities. What is its' lower bound?"
   ]
  },
  {
   "cell_type": "code",
   "execution_count": 2,
   "metadata": {},
   "outputs": [
    {
     "name": "stdout",
     "output_type": "stream",
     "text": [
      "95% confidence interval: (1476.0833413552848, 1572.2117406119285)\n"
     ]
    }
   ],
   "source": [
    "n = len(water.mortality)\n",
    "print(\"95% confidence interval:\", _tconfint_generic(water.mortality.mean(), \n",
    "                                                    water.mortality.std(ddof=1) / np.sqrt(n),\n",
    "                                                    dof = n-1,\n",
    "                                                    alpha=0.05,\n",
    "                                                    alternative = 'two-sided'))"
   ]
  },
  {
   "cell_type": "markdown",
   "metadata": {},
   "source": [
    "Build a 95% confidence interval for mortality rate in southern cities. What is its' upper bound?"
   ]
  },
  {
   "cell_type": "code",
   "execution_count": 9,
   "metadata": {},
   "outputs": [
    {
     "name": "stdout",
     "output_type": "stream",
     "text": [
      "95% confidence interval: (1320.1517462936238, 1433.463638321761)\n"
     ]
    }
   ],
   "source": [
    "water_new = water.query('location == \"South\"')\n",
    "\n",
    "n = len(water_new.mortality)\n",
    "print(\"95% confidence interval:\", _tconfint_generic(water_new.mortality.mean(), \n",
    "                                                    water_new.mortality.std(ddof=1) / np.sqrt(n),\n",
    "                                                    dof = n-1,\n",
    "                                                    alpha=0.05,\n",
    "                                                    alternative = 'two-sided'))"
   ]
  },
  {
   "cell_type": "markdown",
   "metadata": {},
   "source": [
    "Build a 95% confidence interval for mortality in northern cities. Do two intervals – for southern and nothern cities – overlap? What do you think could be concluded from it?"
   ]
  },
  {
   "cell_type": "code",
   "execution_count": 10,
   "metadata": {},
   "outputs": [
    {
     "name": "stdout",
     "output_type": "stream",
     "text": [
      "95% confidence interval: (1586.5605251961385, 1680.6394748038613)\n"
     ]
    }
   ],
   "source": [
    "water_new = water.query('location == \"North\"')\n",
    "\n",
    "n = len(water_new.mortality)\n",
    "print(\"95% confidence interval:\", _tconfint_generic(water_new.mortality.mean(), \n",
    "                                                    water_new.mortality.std(ddof=1) / np.sqrt(n),\n",
    "                                                    dof = n-1,\n",
    "                                                    alpha=0.05,\n",
    "                                                    alternative = 'two-sided'))"
   ]
  },
  {
   "cell_type": "markdown",
   "metadata": {},
   "source": [
    "Intervals do not overlap; it could mean that mortality rates in south and north are substantially different"
   ]
  },
  {
   "cell_type": "code",
   "execution_count": null,
   "metadata": {},
   "outputs": [],
   "source": []
  }
 ],
 "metadata": {
  "kernelspec": {
   "display_name": "Python 3",
   "language": "python",
   "name": "python3"
  },
  "language_info": {
   "codemirror_mode": {
    "name": "ipython",
    "version": 3
   },
   "file_extension": ".py",
   "mimetype": "text/x-python",
   "name": "python",
   "nbconvert_exporter": "python",
   "pygments_lexer": "ipython3",
   "version": "3.8.10"
  }
 },
 "nbformat": 4,
 "nbformat_minor": 4
}
