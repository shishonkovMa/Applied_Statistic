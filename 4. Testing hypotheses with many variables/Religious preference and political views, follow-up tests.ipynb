{
 "cells": [
  {
   "cell_type": "markdown",
   "metadata": {},
   "source": [
    "### Task#1\n",
    "\n",
    "Let's take another look at a pair of questions from General Social Survey conducted in 2018. Question 1: What is your religious preference? Is it Protestant, Catholic, Jewish, some other religion, or no religion? Question 2: We hear a lot of talk these days about liberals and conservatives. I'm going to show you a seven-point scale on which the political views that people might hold are arranged from extremely liberal--point 1--to extremely conservative--point 7. Where would you place yourself on this scale?\n",
    "\n",
    "religion_politics.csv\n",
    "\n",
    "From last week's video, you know that answers to these questions do not seem to be independent. Let's figure out which cell counts significantly deviate from independence hypothesis using multiple hypothesis testing adjustment.\n",
    "\n",
    "Calculate the matrix of expected counts under independence. What is the expected number of conservative protestants? Provide the answer rounded to 2 decimal points.\n",
    "\n",
    "**From one of the values returned by chi2_contingency<br>\n",
    "Answer:172.42**"
   ]
  },
  {
   "cell_type": "code",
   "execution_count": 1,
   "metadata": {},
   "outputs": [
    {
     "data": {
      "text/html": [
       "<div>\n",
       "<style scoped>\n",
       "    .dataframe tbody tr th:only-of-type {\n",
       "        vertical-align: middle;\n",
       "    }\n",
       "\n",
       "    .dataframe tbody tr th {\n",
       "        vertical-align: top;\n",
       "    }\n",
       "\n",
       "    .dataframe thead th {\n",
       "        text-align: right;\n",
       "    }\n",
       "</style>\n",
       "<table border=\"1\" class=\"dataframe\">\n",
       "  <thead>\n",
       "    <tr style=\"text-align: right;\">\n",
       "      <th></th>\n",
       "      <th>religion</th>\n",
       "      <th>politics</th>\n",
       "    </tr>\n",
       "  </thead>\n",
       "  <tbody>\n",
       "    <tr>\n",
       "      <th>0</th>\n",
       "      <td>Christian</td>\n",
       "      <td>Conservative</td>\n",
       "    </tr>\n",
       "    <tr>\n",
       "      <th>1</th>\n",
       "      <td>Catholic</td>\n",
       "      <td>Don't know</td>\n",
       "    </tr>\n",
       "    <tr>\n",
       "      <th>2</th>\n",
       "      <td>None</td>\n",
       "      <td>Slghtly conservative</td>\n",
       "    </tr>\n",
       "    <tr>\n",
       "      <th>3</th>\n",
       "      <td>Protestant</td>\n",
       "      <td>Moderate</td>\n",
       "    </tr>\n",
       "    <tr>\n",
       "      <th>4</th>\n",
       "      <td>Catholic</td>\n",
       "      <td>Extrmly conservative</td>\n",
       "    </tr>\n",
       "    <tr>\n",
       "      <th>...</th>\n",
       "      <td>...</td>\n",
       "      <td>...</td>\n",
       "    </tr>\n",
       "    <tr>\n",
       "      <th>2304</th>\n",
       "      <td>Protestant</td>\n",
       "      <td>Moderate</td>\n",
       "    </tr>\n",
       "    <tr>\n",
       "      <th>2305</th>\n",
       "      <td>Protestant</td>\n",
       "      <td>Slghtly conservative</td>\n",
       "    </tr>\n",
       "    <tr>\n",
       "      <th>2306</th>\n",
       "      <td>Jewish</td>\n",
       "      <td>Moderate</td>\n",
       "    </tr>\n",
       "    <tr>\n",
       "      <th>2307</th>\n",
       "      <td>Protestant</td>\n",
       "      <td>Conservative</td>\n",
       "    </tr>\n",
       "    <tr>\n",
       "      <th>2308</th>\n",
       "      <td>Catholic</td>\n",
       "      <td>Don't know</td>\n",
       "    </tr>\n",
       "  </tbody>\n",
       "</table>\n",
       "<p>2309 rows × 2 columns</p>\n",
       "</div>"
      ],
      "text/plain": [
       "        religion              politics\n",
       "0      Christian          Conservative\n",
       "1       Catholic            Don't know\n",
       "2           None  Slghtly conservative\n",
       "3     Protestant              Moderate\n",
       "4       Catholic  Extrmly conservative\n",
       "...          ...                   ...\n",
       "2304  Protestant              Moderate\n",
       "2305  Protestant  Slghtly conservative\n",
       "2306      Jewish              Moderate\n",
       "2307  Protestant          Conservative\n",
       "2308    Catholic            Don't know\n",
       "\n",
       "[2309 rows x 2 columns]"
      ]
     },
     "execution_count": 1,
     "metadata": {},
     "output_type": "execute_result"
    }
   ],
   "source": [
    "import pandas as pd\n",
    "\n",
    "\n",
    "df = pd.read_csv(\"religion_politics.csv\")\n",
    "df"
   ]
  },
  {
   "cell_type": "code",
   "execution_count": 2,
   "metadata": {},
   "outputs": [
    {
     "name": "stdout",
     "output_type": "stream",
     "text": [
      "Number of Protestant in the religion: 1131\n",
      "Number of Conservative in the politics: 352\n"
     ]
    }
   ],
   "source": [
    "protestant = len(df[df['religion'] == \"Protestant\"])\n",
    "print(\"Number of Protestant in the religion:\", protestant)\n",
    "conservative = len(df[df['politics'] == \"Conservative\"])\n",
    "print(\"Number of Conservative in the politics:\", conservative)"
   ]
  },
  {
   "cell_type": "code",
   "execution_count": 4,
   "metadata": {},
   "outputs": [],
   "source": [
    "# тут нужно применять таблицу кси-значений, то, что делал с соснами, разбитыми на квадраты"
   ]
  },
  {
   "cell_type": "markdown",
   "metadata": {},
   "source": [
    "### Task#2\n",
    "\n",
    "Calculate standardized Pearson residuals for the contingency table. What is the value for liberal catholics? Provide the answer rounded to 3 decimal points.\n",
    "\n",
    "**From the output of the function st_pearson_residuals defined in the \"Independence of categorical variables\" notebook in last week's example.<br>\n",
    "Answer:-3.183**"
   ]
  },
  {
   "cell_type": "code",
   "execution_count": null,
   "metadata": {},
   "outputs": [],
   "source": []
  },
  {
   "cell_type": "markdown",
   "metadata": {},
   "source": [
    "### Task#3\n",
    "\n",
    "Each residual has standard normal distribution if the observed count is in line with the expected one. Let's use them to test the hypotheses that each observed count comes from a distribution with the mean equal to the corresponding expected count, against two-sided alternative.\n",
    "\n",
    "Calculate p-values for all cells of the contingency tables. How many of them are less than or equal to 0.05?\n",
    "\n",
    "<code>ct = pd.crosstab(gss_data.religion, gss_data.politics)\n",
    "res_ct = st_pearson_residuals(ct)\n",
    "def z_to_p(z):\n",
    "    p = (1-stats.norm.cdf(abs(z)))*2\n",
    "    return p\n",
    "raw_p = np.vectorize(z_to_p)(res_ct.values)\n",
    "sum(raw_p <= 0.05)</code>\n",
    "<br>\n",
    "\n",
    "**Answer:-3.183**"
   ]
  },
  {
   "cell_type": "code",
   "execution_count": null,
   "metadata": {},
   "outputs": [],
   "source": []
  },
  {
   "cell_type": "markdown",
   "metadata": {},
   "source": [
    "### Task#4\n",
    "    \n",
    "How many hypotheses did we test on this contingency table?\n",
    "    \n",
    "**Correct, one for each cell in the contingency table.<br>\n",
    "Answer: 72**"
   ]
  },
  {
   "cell_type": "code",
   "execution_count": null,
   "metadata": {},
   "outputs": [],
   "source": []
  },
  {
   "cell_type": "markdown",
   "metadata": {},
   "source": [
    "### Task#5\n",
    "\n",
    "This calls for adjustment for multiple testing. Use Holm's method to adjust the p-values to provide FWER<=0.05. How many of the adjusted p-values are less than or equal to 0.05?\n",
    "\n",
    "<code>\n",
    "def adjusted_p_pearson_residuals(res_ct, method = 'holm'):\n",
    "    raw_p = np.vectorize(z_to_p)(res_ct.values)\n",
    "    from statsmodels.sandbox.stats.multicomp import multipletests \n",
    "    adjusted_p = pd.DataFrame(data = (multipletests(np.ndarray.flatten(raw_p), alpha = 0.05, method = 'holm')[1]).reshape(res_ct.shape[0], res_ct.shape[1]),\n",
    "                              index = res_ct.index,\n",
    "                              columns = res_ct.columns)\n",
    "    return adjusted_p\n",
    "adjusted_p = adjusted_p_pearson_residuals(res_ct)\n",
    "sum(adjusted_p.values <= 0.05)\n",
    "</code>\n",
    "\n",
    "**Answer: 72**"
   ]
  },
  {
   "cell_type": "code",
   "execution_count": null,
   "metadata": {},
   "outputs": [],
   "source": []
  },
  {
   "cell_type": "markdown",
   "metadata": {},
   "source": [
    "### Task#6\n",
    "    \n",
    "Select the correct conclusion about extremely liberal buddhists.\n",
    "\n",
    "**Answer: The number of extremely liberal buddhists is higher than expected under independence of religious preference and political views, but the difference is not significant after controlling familywise error rate**"
   ]
  },
  {
   "cell_type": "code",
   "execution_count": null,
   "metadata": {},
   "outputs": [],
   "source": []
  }
 ],
 "metadata": {
  "kernelspec": {
   "display_name": "Python 3",
   "language": "python",
   "name": "python3"
  },
  "language_info": {
   "codemirror_mode": {
    "name": "ipython",
    "version": 3
   },
   "file_extension": ".py",
   "mimetype": "text/x-python",
   "name": "python",
   "nbconvert_exporter": "python",
   "pygments_lexer": "ipython3",
   "version": "3.8.10"
  }
 },
 "nbformat": 4,
 "nbformat_minor": 4
}
