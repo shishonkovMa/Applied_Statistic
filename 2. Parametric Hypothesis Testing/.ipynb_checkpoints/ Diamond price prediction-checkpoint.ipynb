{
 "cells": [
  {
   "cell_type": "markdown",
   "metadata": {},
   "source": [
    "We have two models build to predict prices (in US dollars) of diamonds from their dimensions: simple linear regression and gradient boosted decision tree ensemble. For the test set of 13485 observations, the following file contains true prices and predictions of both models:\n",
    "\n",
    "Which of the two models is better? Calculate the difference in mean absolute errors of two models, round the result to 2 decimal points."
   ]
  },
  {
   "cell_type": "code",
   "execution_count": 1,
   "metadata": {},
   "outputs": [
    {
     "data": {
      "text/plain": [
       "6.875650288835004"
      ]
     },
     "execution_count": 1,
     "metadata": {},
     "output_type": "execute_result"
    }
   ],
   "source": [
    "import pandas as pd\n",
    "import numpy as np\n",
    "from scipy.stats import ttest_rel\n",
    "from scipy import stats\n",
    "from statsmodels.stats.weightstats import DescrStatsW, CompareMeans\n",
    "\n",
    "\n",
    "df = pd.read_csv('diamond_prices.csv')\n",
    "\n",
    "def mae(real, pred):\n",
    "    return np.mean(np.abs(real - pred))\n",
    "\n",
    "mae(df.price, df.predicted_price_lm) - mae(df.price, df.predicted_price_gbdt)"
   ]
  },
  {
   "cell_type": "markdown",
   "metadata": {},
   "source": [
    "Is the difference in predictive performance of two models significant? Test the hypothesis with appropriate test, provide the p-value rounded to 4 decimal points."
   ]
  },
  {
   "cell_type": "code",
   "execution_count": 3,
   "metadata": {},
   "outputs": [
    {
     "name": "stdout",
     "output_type": "stream",
     "text": [
      "T test: Ttest_relResult(statistic=-2.382783477618914, pvalue=0.017196067393118585)\n"
     ]
    }
   ],
   "source": [
    "# print('T test:', sc.stats.ttest_ind(np.abs(df.predicted_price_lm - df.price),\n",
    "#                                     np.abs(df.predicted_price_gbdt- df.price),\n",
    "#                                     equal_var = False))\n",
    "\n",
    "print('T test:', stats.ttest_rel(np.abs(df.predicted_price_gbdt- df.price),\n",
    "                                      np.abs(df.predicted_price_lm - df.price)))"
   ]
  },
  {
   "cell_type": "markdown",
   "metadata": {},
   "source": [
    "Build a 95% confidence interval for the difference in absolute prediction errors. What is its bound closest to zero? Provide the answer rounded to 2 decimal points."
   ]
  },
  {
   "cell_type": "code",
   "execution_count": 4,
   "metadata": {},
   "outputs": [
    {
     "name": "stdout",
     "output_type": "stream",
     "text": [
      "95% confidence interval: [1.219561, 12.531740]\n"
     ]
    }
   ],
   "source": [
    "print(\"95%% confidence interval: [%f, %f]\" % DescrStatsW(np.abs(df.predicted_price_lm - df.price) - np.abs(df.predicted_price_gbdt - df.price)).tconfint_mean())"
   ]
  },
  {
   "cell_type": "markdown",
   "metadata": {},
   "source": [
    "Which of the two models does a better job at predicting diamond prices? Plot predictions of each model against true labels:\n",
    "\n",
    "\n",
    " - Gradient boosted decision tree ensemble overall has statistically significantly better average accuracy as measured by absolute prediction error.\n",
    "\n",
    " - Linear model does almost as good as GBDT – the average difference in absolute prediction errors is only a few dollars."
   ]
  },
  {
   "cell_type": "code",
   "execution_count": null,
   "metadata": {},
   "outputs": [],
   "source": []
  }
 ],
 "metadata": {
  "kernelspec": {
   "display_name": "Python 3",
   "language": "python",
   "name": "python3"
  },
  "language_info": {
   "codemirror_mode": {
    "name": "ipython",
    "version": 3
   },
   "file_extension": ".py",
   "mimetype": "text/x-python",
   "name": "python",
   "nbconvert_exporter": "python",
   "pygments_lexer": "ipython3",
   "version": "3.8.10"
  }
 },
 "nbformat": 4,
 "nbformat_minor": 4
}
