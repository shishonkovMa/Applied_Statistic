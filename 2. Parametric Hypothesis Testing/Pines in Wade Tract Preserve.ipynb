{
 "cells": [
  {
   "cell_type": "markdown",
   "metadata": {},
   "source": [
    "Wade Tract is a nature reserve in Thomas county, Georgia, containing an old-growth longleaf pine forest untouched by human activities. For a 200х200 meters plot there we have coordinates of all the pines. In the file below sn stands for a coordinate on south-north axis, we — on west-east axis. Both have values between 0 and 200.\n",
    "\n",
    "Let's test whether spatial distribution of pines is uniform, or maybe they grow in clusters.\n",
    "\n",
    "Load the data, split the plot on 5х5 identical squares 40x40 m each, calculate the number of pines in each square (to get the same results as we did, use scipy.stats.binned_statistic_2d).\n",
    "\n",
    "If the distribution of pines is uniform, what is the expected average number of pines in each square? Enter the answer with two decimal points."
   ]
  },
  {
   "cell_type": "code",
   "execution_count": 44,
   "metadata": {},
   "outputs": [
    {
     "data": {
      "text/plain": [
       "23.36"
      ]
     },
     "execution_count": 44,
     "metadata": {},
     "output_type": "execute_result"
    }
   ],
   "source": [
    "import pandas as pd\n",
    "from scipy.stats import binned_statistic_2d\n",
    "import numpy as np\n",
    "\n",
    "\n",
    "pines = pd.read_csv('pines.txt', sep='\\t')\n",
    "\n",
    "\n",
    "xbins = np.linspace(0, 200, 6)\n",
    "ybins = [i for i in range(0, 201, 40)]\n",
    "ret = binned_statistic_2d(pines.sn, pines.we, None, 'count', bins=[xbins, ybins])\n",
    "ret[0].mean()"
   ]
  },
  {
   "attachments": {
    "image.png": {
     "image/png": "[encoded data removed]"
    }
   },
   "cell_type": "markdown",
   "metadata": {},
   "source": [
    "To compare the distribution of pines with uniform, calculate the value of chi-squared test statistic for that set of 40x40m plots. Enter it with two decimal points.\n",
    "![image.png](attachment:image.png)"
   ]
  },
  {
   "cell_type": "code",
   "execution_count": 45,
   "metadata": {},
   "outputs": [
    {
     "data": {
      "text/plain": [
       "150.58904109589042"
      ]
     },
     "execution_count": 45,
     "metadata": {},
     "output_type": "execute_result"
    }
   ],
   "source": [
    "np = ret[0].mean()\n",
    "total = 0\n",
    "for i in range(len(ret[0])):\n",
    "    for j in ret[0][i]:\n",
    "        total += (j - np)**2 / np\n",
    "total"
   ]
  },
  {
   "cell_type": "markdown",
   "metadata": {},
   "source": [
    "Is this value large enough to reject the hypothesis of uniform distribution? Calculate the p-value. Do you reject the hypothesis at 0.05?\n",
    "- p<0.05, null hypothesis is rejected"
   ]
  }
 ],
 "metadata": {
  "kernelspec": {
   "display_name": "Python 3",
   "language": "python",
   "name": "python3"
  },
  "language_info": {
   "codemirror_mode": {
    "name": "ipython",
    "version": 3
   },
   "file_extension": ".py",
   "mimetype": "text/x-python",
   "name": "python",
   "nbconvert_exporter": "python",
   "pygments_lexer": "ipython3",
   "version": "3.8.10"
  }
 },
 "nbformat": 4,
 "nbformat_minor": 4
}
