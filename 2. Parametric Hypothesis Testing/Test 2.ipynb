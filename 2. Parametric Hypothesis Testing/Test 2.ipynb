{
 "cells": [
  {
   "cell_type": "markdown",
   "metadata": {},
   "source": [
    "Every year more than 200000 people aroung the world take GMAT exam to enter MBA programs. The average score is 525 points, standard deviation – 100 points. A hundred students of a GMAT passed the exam; theis average score is 541.4 points.\n",
    "\n",
    "Test the hypothesis of inefficiency of the program against one-sided alternative that it helps students. Do you reject the null at 0.05?\n",
    "\n",
    "Enter the p-value you got rounded to 4 decimal points."
   ]
  },
  {
   "cell_type": "code",
   "execution_count": 25,
   "metadata": {},
   "outputs": [
    {
     "name": "stdout",
     "output_type": "stream",
     "text": [
      "Populating the interactive namespace from numpy and matplotlib\n"
     ]
    },
    {
     "data": {
      "text/plain": [
       "0.05050258347410371"
      ]
     },
     "execution_count": 25,
     "metadata": {},
     "output_type": "execute_result"
    }
   ],
   "source": [
    "import numpy as np\n",
    "import pandas as pd\n",
    "import scipy\n",
    "%pylab inline\n",
    "from statsmodels.stats.weightstats import DescrStatsW, CompareMeans\n",
    "from scipy.stats import norm\n",
    "from scipy import stats\n",
    "\n",
    "\n",
    "scipy.stats.norm.sf(abs(1.64))"
   ]
  },
  {
   "cell_type": "markdown",
   "metadata": {},
   "source": [
    "Now evaluate the efficiency of another GMAT preparation study group with the average score of 100 students of 541.5 points, use the same alternative. Do you reject the null at 0.05?\n",
    "\n",
    "Enter the p-value you got rounded to 4 decimal points."
   ]
  },
  {
   "cell_type": "code",
   "execution_count": 26,
   "metadata": {},
   "outputs": [
    {
     "data": {
      "text/plain": [
       "0.0494714680336481"
      ]
     },
     "execution_count": 26,
     "metadata": {},
     "output_type": "execute_result"
    }
   ],
   "source": [
    "scipy.stats.norm.sf(abs(1.65))"
   ]
  },
  {
   "cell_type": "code",
   "execution_count": null,
   "metadata": {},
   "outputs": [],
   "source": []
  }
 ],
 "metadata": {
  "kernelspec": {
   "display_name": "Python 3",
   "language": "python",
   "name": "python3"
  },
  "language_info": {
   "codemirror_mode": {
    "name": "ipython",
    "version": 3
   },
   "file_extension": ".py",
   "mimetype": "text/x-python",
   "name": "python",
   "nbconvert_exporter": "python",
   "pygments_lexer": "ipython3",
   "version": "3.8.10"
  }
 },
 "nbformat": 4,
 "nbformat_minor": 4
}
