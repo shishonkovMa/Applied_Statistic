{
 "cells": [
  {
   "cell_type": "markdown",
   "metadata": {},
   "source": [
    "For healthy young women average level of calcium in blood is 9.5 mg per deciliter with the typical standard deviation of 0.4 mg/dl. In a rurah hospital in Guatemala for 160 healthy women on early stages of pregnancy blood calcium level was measured; the average was 9.57 mg/dl. Does the average level differ from 9.5?\n",
    "\n",
    "Calculate the p-value, round it up to 4 decimal places."
   ]
  },
  {
   "cell_type": "code",
   "execution_count": 15,
   "metadata": {},
   "outputs": [
    {
     "data": {
      "text/plain": [
       "0.026856695507523787"
      ]
     },
     "execution_count": 15,
     "metadata": {},
     "output_type": "execute_result"
    }
   ],
   "source": [
    "import numpy as np\n",
    "import scipy\n",
    "from scipy import stats\n",
    "\n",
    "\n",
    "z = (9.57 - 9.5)/(0.4/np.sqrt(160))\n",
    "# 2*scipy.stats.norm.sf(abs(z)) # или аналогично ниже\n",
    "p = 2*(1-stats.norm.cdf(abs(z)))\n",
    "p"
   ]
  },
  {
   "cell_type": "markdown",
   "metadata": {},
   "source": [
    "In your opinion, is this deviation from the population average practically significant?\n",
    "\n",
    "**Answer:** Probably not: the standard deviation in the overall population is much higher than the estimated deviation from the population average."
   ]
  },
  {
   "cell_type": "code",
   "execution_count": null,
   "metadata": {},
   "outputs": [],
   "source": []
  }
 ],
 "metadata": {
  "kernelspec": {
   "display_name": "Python 3",
   "language": "python",
   "name": "python3"
  },
  "language_info": {
   "codemirror_mode": {
    "name": "ipython",
    "version": 3
   },
   "file_extension": ".py",
   "mimetype": "text/x-python",
   "name": "python",
   "nbconvert_exporter": "python",
   "pygments_lexer": "ipython3",
   "version": "3.8.10"
  }
 },
 "nbformat": 4,
 "nbformat_minor": 4
}
