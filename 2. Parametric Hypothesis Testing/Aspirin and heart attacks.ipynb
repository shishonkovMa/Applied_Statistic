{
 "cells": [
  {
   "cell_type": "markdown",
   "metadata": {},
   "source": [
    "In a 5 year randomized trial by Harvard Medical School researchers, 11037 subjects were taking aspirin every other day, and 11034 subjects were taking placebo. In the treatment group, 104 subjects had heart attacks during those 5 years; in the control group – 189 subjects.\n",
    "\n",
    "Estimate how much the probability of a heart attack decreases for the aspirin group. Provide the answer with 4 decimal points."
   ]
  },
  {
   "cell_type": "code",
   "execution_count": 2,
   "metadata": {},
   "outputs": [
    {
     "data": {
      "text/plain": [
       "-0.0077060239760047815"
      ]
     },
     "execution_count": 2,
     "metadata": {},
     "output_type": "execute_result"
    }
   ],
   "source": [
    "import numpy as np\n",
    "import scipy as sc\n",
    "from matplotlib import pyplot as plt\n",
    "from statsmodels.stats.proportion import proportion_confint, proportions_ztest, \\\n",
    "confint_proportions_2indep, test_proportions_2indep\n",
    "from bootstrap_stat import bootstrap_stat as bp\n",
    "\n",
    "\n",
    "104/11037 - 189/11034"
   ]
  },
  {
   "cell_type": "markdown",
   "metadata": {},
   "source": [
    "Calculate a 95% Wald's confidence interval for the decrease in probability of a heart attack associated with taking aspirin. What is its upper bound? Round the answer to 4 decimal points."
   ]
  },
  {
   "cell_type": "code",
   "execution_count": 4,
   "metadata": {},
   "outputs": [
    {
     "name": "stdout",
     "output_type": "stream",
     "text": [
      "Wald's interval: (0.004687750675049438, 0.010724297276960126)\n"
     ]
    }
   ],
   "source": [
    "print(\"Wald's interval:\", confint_proportions_2indep(189, 11034, 104, 11037, method = 'wald', compare='diff'))"
   ]
  },
  {
   "cell_type": "markdown",
   "metadata": {},
   "source": [
    "Test the hypothesis of equal proportions against two-sided alternative with Z-test based on Wilson's interval. What p-value do you get? Enter the number of the first significant digit in the p-value (for example, if you got 5.5×10−12, you have to enter 12)."
   ]
  },
  {
   "cell_type": "code",
   "execution_count": 5,
   "metadata": {},
   "outputs": [
    {
     "name": "stdout",
     "output_type": "stream",
     "text": [
      "Wilson's interval based test: (5.00127490046852, 5.69524362691927e-07)\n"
     ]
    }
   ],
   "source": [
    "print(\"Wilson's interval based test:\", \n",
    "      test_proportions_2indep(189, 11034, 104, 11037, alternative = 'two-sided', \n",
    "                              method = 'score', correction=False, return_results=False))"
   ]
  },
  {
   "attachments": {
    "image.png": {
     "image/png": "[encoded data removed]"
    }
   },
   "cell_type": "markdown",
   "metadata": {},
   "source": [
    "For random variables X∼Ber(p) we sometimes want to calculate a parameter called odds defined as \n",
    "![image.png](attachment:image.png)"
   ]
  },
  {
   "attachments": {
    "image.png": {
     "image/png": "[encoded data removed]"
    }
   },
   "cell_type": "markdown",
   "metadata": {},
   "source": [
    "To estimate odds from the sample, you need to plug in p^ instead of p in the formula. For example, odds of a heart attack in the aspirin group could be estimated as\n",
    "![image.png](attachment:image.png)\n",
    "Estimate how many times lower are the odds of a heart attack for people who regularly take aspirin. Provide the answer rounded to 4 decimal points."
   ]
  },
  {
   "cell_type": "code",
   "execution_count": 7,
   "metadata": {},
   "outputs": [
    {
     "data": {
      "text/plain": [
       "1.8320539419087138"
      ]
     },
     "execution_count": 7,
     "metadata": {},
     "output_type": "execute_result"
    }
   ],
   "source": [
    "p_asp = 189/11034\n",
    "p_pla = 104/11037\n",
    "\n",
    "(p_asp/(1-p_asp))/(p_pla/(1-p_pla))"
   ]
  },
  {
   "cell_type": "markdown",
   "metadata": {},
   "source": [
    "The variable you estimated in the previous question is called odds ratio. Calculate 95% confidence interval for it with bootstrap. What is its lower bound? Provide the answer with 4 decimal points.\n",
    "\n",
    "To get exactly the same results as we did:\n",
    "\n",
    "- use get_bootstrap_samples and percentile_interval functions from the example notebook\n",
    "\n",
    "- set random seed = 0 before calling get_bootstrap_samples, once\n",
    "\n",
    "- use 1000 bootstrap resamples from each sample"
   ]
  }
 ],
 "metadata": {
  "kernelspec": {
   "display_name": "Python 3",
   "language": "python",
   "name": "python3"
  },
  "language_info": {
   "codemirror_mode": {
    "name": "ipython",
    "version": 3
   },
   "file_extension": ".py",
   "mimetype": "text/x-python",
   "name": "python",
   "nbconvert_exporter": "python",
   "pygments_lexer": "ipython3",
   "version": "3.8.10"
  }
 },
 "nbformat": 4,
 "nbformat_minor": 4
}
