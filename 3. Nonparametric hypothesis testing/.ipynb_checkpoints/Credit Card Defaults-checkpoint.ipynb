{
 "cells": [
  {
   "cell_type": "markdown",
   "metadata": {},
   "source": [
    "The dataset for this assignment was collected in Taiwan in 2005, when the credit card issuers faced the cash and credit card debt crisis. In order to increase market share, card-issuing banks over-issued cash and credit cards to unqualified applicants. At the same time, most cardholders, irrespective of their repayment ability, overused credit card for consumption and accumulated heavy credit and cash–card debts. The crisis caused the blow to consumer finance confidence and was a big challenge for both banks and cardholders.\n",
    "\n",
    "The data were collected from an important bank (a cash and credit card issuer) in Taiwan and the targets were credit card holders of the bank. Variables the dataset contains are:\n",
    "\n",
    "·       LIMIT_BAL: credit limit in NT dollars (including for client's family)\n",
    "\n",
    "·       GENDER: 1 = male, 2 = female\n",
    "\n",
    "·       EDUCATION: 0 = doctorate, 1 = masters; 2 = bachelor; 3 = school graduate; 4 = elementary education; 5= other; 6 = no data.\n",
    "\n",
    "·       MARITAL: marital status: 0 = no answer; 1 = married; 2 = single; 3 = no data.\n",
    "\n",
    "·       AGE: age in years\n",
    "\n",
    "·       PAY_APR – PAY_SEP : history of past monthly payments, from April (PAY_APR) to September (PAY_SEP) 2005. The measurement scale for the repayment status is 0 = pay duly; 1 = payment delay for one month; 2 = payment delay for two months; . . .; 8 = payment delay for eight months; 9 = payment delay for nine months and above.\n",
    "\n",
    "·       BILL_APR – BILL_SEP: the amount of bill statement (NT dollars) each month\n",
    "\n",
    "·       PAY_APR – PAY_SEP: the amount of previous payment (NT dollar)\n",
    "\n",
    "·       default: binary indicator of a default (1 = Yes, 0 = No)\n",
    "\n",
    "---\n",
    "\n",
    "**We would like to explore whether there are differences between customers who defaulted and did not.**\n",
    "\n",
    "**Assignment**\n",
    "\n",
    "1. <a href='#1'>Credit limit: test whether there are differences between median credit limits of two groups.</a>\n",
    "\n",
    "2. <a href='#2'>Gender: test whether gender composition of two groups differ.</a>\n",
    "\n",
    "3. <a href='#3'>Education: test whether education levels differs between two groups. If it does, then how exactly?</a>\n",
    "\n",
    "4. <a href='#4'>Marital status: Check how marital status is related to the default indicator: you need to propose a measure by which you can measure the possible relationship of these variables and calculate its value.</a>\n",
    "\n",
    "5. <a href='#5'>Age: test whether there are differences between mean ages of clients in two groups.</a>"
   ]
  },
  {
   "cell_type": "code",
   "execution_count": 1,
   "metadata": {},
   "outputs": [
    {
     "data": {
      "text/html": [
       "<div>\n",
       "<style scoped>\n",
       "    .dataframe tbody tr th:only-of-type {\n",
       "        vertical-align: middle;\n",
       "    }\n",
       "\n",
       "    .dataframe tbody tr th {\n",
       "        vertical-align: top;\n",
       "    }\n",
       "\n",
       "    .dataframe thead th {\n",
       "        text-align: right;\n",
       "    }\n",
       "</style>\n",
       "<table border=\"1\" class=\"dataframe\">\n",
       "  <thead>\n",
       "    <tr style=\"text-align: right;\">\n",
       "      <th></th>\n",
       "      <th>ID</th>\n",
       "      <th>LIMIT_BAL</th>\n",
       "      <th>GENDER</th>\n",
       "      <th>EDUCATION</th>\n",
       "      <th>MARITAL</th>\n",
       "      <th>AGE</th>\n",
       "      <th>PAY_SEP</th>\n",
       "      <th>PAY_AUG</th>\n",
       "      <th>PAY_JUL</th>\n",
       "      <th>PAY_JUN</th>\n",
       "      <th>...</th>\n",
       "      <th>BILL_JUN</th>\n",
       "      <th>BILL_MAY</th>\n",
       "      <th>BILL_APR</th>\n",
       "      <th>PAY_SEP.1</th>\n",
       "      <th>PAY_AUG.1</th>\n",
       "      <th>PAY_JUL.1</th>\n",
       "      <th>PAY_JUN.1</th>\n",
       "      <th>PAY_MAY.1</th>\n",
       "      <th>PAY_APR.1</th>\n",
       "      <th>default</th>\n",
       "    </tr>\n",
       "  </thead>\n",
       "  <tbody>\n",
       "    <tr>\n",
       "      <th>0</th>\n",
       "      <td>1</td>\n",
       "      <td>20000</td>\n",
       "      <td>2</td>\n",
       "      <td>2</td>\n",
       "      <td>1</td>\n",
       "      <td>24</td>\n",
       "      <td>2</td>\n",
       "      <td>2</td>\n",
       "      <td>0</td>\n",
       "      <td>0</td>\n",
       "      <td>...</td>\n",
       "      <td>0</td>\n",
       "      <td>0</td>\n",
       "      <td>0</td>\n",
       "      <td>0</td>\n",
       "      <td>689</td>\n",
       "      <td>0</td>\n",
       "      <td>0</td>\n",
       "      <td>0</td>\n",
       "      <td>0</td>\n",
       "      <td>1</td>\n",
       "    </tr>\n",
       "    <tr>\n",
       "      <th>1</th>\n",
       "      <td>2</td>\n",
       "      <td>120000</td>\n",
       "      <td>2</td>\n",
       "      <td>2</td>\n",
       "      <td>2</td>\n",
       "      <td>26</td>\n",
       "      <td>0</td>\n",
       "      <td>2</td>\n",
       "      <td>0</td>\n",
       "      <td>0</td>\n",
       "      <td>...</td>\n",
       "      <td>3272</td>\n",
       "      <td>3455</td>\n",
       "      <td>3261</td>\n",
       "      <td>0</td>\n",
       "      <td>1000</td>\n",
       "      <td>1000</td>\n",
       "      <td>1000</td>\n",
       "      <td>0</td>\n",
       "      <td>2000</td>\n",
       "      <td>1</td>\n",
       "    </tr>\n",
       "    <tr>\n",
       "      <th>2</th>\n",
       "      <td>3</td>\n",
       "      <td>90000</td>\n",
       "      <td>2</td>\n",
       "      <td>2</td>\n",
       "      <td>2</td>\n",
       "      <td>34</td>\n",
       "      <td>0</td>\n",
       "      <td>0</td>\n",
       "      <td>0</td>\n",
       "      <td>0</td>\n",
       "      <td>...</td>\n",
       "      <td>14331</td>\n",
       "      <td>14948</td>\n",
       "      <td>15549</td>\n",
       "      <td>1518</td>\n",
       "      <td>1500</td>\n",
       "      <td>1000</td>\n",
       "      <td>1000</td>\n",
       "      <td>1000</td>\n",
       "      <td>5000</td>\n",
       "      <td>0</td>\n",
       "    </tr>\n",
       "    <tr>\n",
       "      <th>3</th>\n",
       "      <td>4</td>\n",
       "      <td>50000</td>\n",
       "      <td>2</td>\n",
       "      <td>2</td>\n",
       "      <td>1</td>\n",
       "      <td>37</td>\n",
       "      <td>0</td>\n",
       "      <td>0</td>\n",
       "      <td>0</td>\n",
       "      <td>0</td>\n",
       "      <td>...</td>\n",
       "      <td>28314</td>\n",
       "      <td>28959</td>\n",
       "      <td>29547</td>\n",
       "      <td>2000</td>\n",
       "      <td>2019</td>\n",
       "      <td>1200</td>\n",
       "      <td>1100</td>\n",
       "      <td>1069</td>\n",
       "      <td>1000</td>\n",
       "      <td>0</td>\n",
       "    </tr>\n",
       "    <tr>\n",
       "      <th>4</th>\n",
       "      <td>5</td>\n",
       "      <td>50000</td>\n",
       "      <td>1</td>\n",
       "      <td>2</td>\n",
       "      <td>1</td>\n",
       "      <td>57</td>\n",
       "      <td>0</td>\n",
       "      <td>0</td>\n",
       "      <td>0</td>\n",
       "      <td>0</td>\n",
       "      <td>...</td>\n",
       "      <td>20940</td>\n",
       "      <td>19146</td>\n",
       "      <td>19131</td>\n",
       "      <td>2000</td>\n",
       "      <td>36681</td>\n",
       "      <td>10000</td>\n",
       "      <td>9000</td>\n",
       "      <td>689</td>\n",
       "      <td>679</td>\n",
       "      <td>0</td>\n",
       "    </tr>\n",
       "  </tbody>\n",
       "</table>\n",
       "<p>5 rows × 25 columns</p>\n",
       "</div>"
      ],
      "text/plain": [
       "   ID  LIMIT_BAL  GENDER  EDUCATION  MARITAL  AGE  PAY_SEP  PAY_AUG  PAY_JUL  \\\n",
       "0   1      20000       2          2        1   24        2        2        0   \n",
       "1   2     120000       2          2        2   26        0        2        0   \n",
       "2   3      90000       2          2        2   34        0        0        0   \n",
       "3   4      50000       2          2        1   37        0        0        0   \n",
       "4   5      50000       1          2        1   57        0        0        0   \n",
       "\n",
       "   PAY_JUN  ...  BILL_JUN  BILL_MAY  BILL_APR  PAY_SEP.1  PAY_AUG.1  \\\n",
       "0        0  ...         0         0         0          0        689   \n",
       "1        0  ...      3272      3455      3261          0       1000   \n",
       "2        0  ...     14331     14948     15549       1518       1500   \n",
       "3        0  ...     28314     28959     29547       2000       2019   \n",
       "4        0  ...     20940     19146     19131       2000      36681   \n",
       "\n",
       "   PAY_JUL.1  PAY_JUN.1  PAY_MAY.1  PAY_APR.1  default  \n",
       "0          0          0          0          0        1  \n",
       "1       1000       1000          0       2000        1  \n",
       "2       1000       1000       1000       5000        0  \n",
       "3       1200       1100       1069       1000        0  \n",
       "4      10000       9000        689        679        0  \n",
       "\n",
       "[5 rows x 25 columns]"
      ]
     },
     "metadata": {},
     "output_type": "display_data"
    }
   ],
   "source": [
    "import pandas as pd\n",
    "import numpy as np\n",
    "import matplotlib.pyplot as plt\n",
    "import scipy as sc\n",
    "from scipy import stats\n",
    "%matplotlib inline\n",
    "\n",
    "\n",
    "df = pd.read_csv(\"credit_card_default_analysis.csv\")\n",
    "display(df.head())\n",
    "\n",
    "# Divide the data into defaulted and did not\n",
    "defaulted = df[df.default == 1]\n",
    "not_defaulted = df[df.default == 0]\n",
    "\n",
    "# Let's write a function to draw a histogram for the compared parameters\n",
    "def display_hist(param):\n",
    "    not_defaulted[param].hist(label='not_defaulted')\n",
    "    defaulted[param].hist(label='defaulted')\n",
    "    plt.legend()\n",
    "    plt.title(f'{param}')\n",
    "    plt.show()"
   ]
  },
  {
   "cell_type": "markdown",
   "metadata": {},
   "source": [
    "<a id='1'></a>\n",
    "### 1. Credit limit: test whether there are differences between median credit limits of two groups."
   ]
  },
  {
   "cell_type": "code",
   "execution_count": 2,
   "metadata": {},
   "outputs": [
    {
     "data": {
      "image/png": "[encoded data removed]",
      "text/plain": [
       "<Figure size 432x288 with 1 Axes>"
      ]
     },
     "metadata": {
      "needs_background": "light"
     },
     "output_type": "display_data"
    }
   ],
   "source": [
    "display_hist('LIMIT_BAL')"
   ]
  },
  {
   "cell_type": "markdown",
   "metadata": {},
   "source": [
    "In our case, we cannot use T-test for independent samples, because the distribution is not bell-shaped at all. However, in this case, you can use the Mana-Whitney test or Mood's Median Test.\n",
    "\n",
    "$H_0\\colon medX_{_1} = medX_{_2}$\n",
    "\n",
    "$H_1\\colon$ not equal"
   ]
  },
  {
   "cell_type": "code",
   "execution_count": 3,
   "metadata": {},
   "outputs": [
    {
     "name": "stdout",
     "output_type": "stream",
     "text": [
      "Mann-Whitney test: MannwhitneyuResult(statistic=95786286.5, pvalue=1.2255485818223303e-189)\n",
      "Mood's test: (683.1982729785927, 1.3471418011496707e-150, 140000.0, array([[12396,  2314],\n",
      "       [10968,  4322]]))\n",
      "Different between median credit limits: 36.88 %\n"
     ]
    }
   ],
   "source": [
    "print(\"Mann-Whitney test:\", sc.stats.mannwhitneyu(not_defaulted.LIMIT_BAL, defaulted.LIMIT_BAL))\n",
    "print(\"Mood's test:\", sc.stats.median_test(not_defaulted.LIMIT_BAL, defaulted.LIMIT_BAL))\n",
    "print('Different between median credit limits:', round(np.mean(not_defaulted.LIMIT_BAL)/np.mean(defaulted.LIMIT_BAL)*100 - 100, 2), '%')"
   ]
  },
  {
   "cell_type": "markdown",
   "metadata": {},
   "source": [
    "In both tests, we got p-value < .05. We reject the null hypothesis.\n",
    "\n",
    "The median value of the \"not_defaulted\" group is 37% greater than the median of the \"defaulted\" group"
   ]
  },
  {
   "cell_type": "markdown",
   "metadata": {},
   "source": [
    "<a id='2'></a>\n",
    "### 2. Gender: test whether gender composition of two groups differ."
   ]
  },
  {
   "cell_type": "code",
   "execution_count": 4,
   "metadata": {},
   "outputs": [
    {
     "data": {
      "image/png": "[encoded data removed]",
      "text/plain": [
       "<Figure size 432x288 with 1 Axes>"
      ]
     },
     "metadata": {
      "needs_background": "light"
     },
     "output_type": "display_data"
    }
   ],
   "source": [
    "display_hist('GENDER')"
   ]
  },
  {
   "cell_type": "markdown",
   "metadata": {},
   "source": [
    "Since we are talking about conducting a test on binary data, we know that it is better to use proportions for this\n",
    "\n",
    "$H_0\\colon$ The male distribution is the same\n",
    "\n",
    "$H_1\\colon H_{_0}$ is false "
   ]
  },
  {
   "cell_type": "code",
   "execution_count": 5,
   "metadata": {},
   "outputs": [
    {
     "name": "stdout",
     "output_type": "stream",
     "text": [
      "Z test: (26.39320076074855, 1.6399533900577465e-153)\n",
      "The difference in the attitude of men to women: 28.19%\n"
     ]
    }
   ],
   "source": [
    "# test_proportions_2indep\n",
    "from statsmodels.stats.proportion import test_proportions_2indep\n",
    "\n",
    "not_defaulted_male = len(not_defaulted.query('GENDER == 1'))\n",
    "defaulted_male = len(defaulted.query('GENDER == 1'))\n",
    "\n",
    "not_defaulted_female = len(not_defaulted) - not_defaulted_male\n",
    "defaulted_female = len(defaulted) - defaulted_male\n",
    "\n",
    "print(\"Z test:\", test_proportions_2indep(not_defaulted_female, len(not_defaulted), \n",
    "                              defaulted_male, len(defaulted), \n",
    "                              alternative = 'two-sided',\n",
    "                              method = 'wald',  return_results=False))\n",
    "\n",
    "\n",
    "print('The difference in the attitude of men to women: ', \n",
    "      round((not_defaulted_female/not_defaulted_male - defaulted_female/defaulted_male)*100, 2), '%', sep='')"
   ]
  },
  {
   "cell_type": "markdown",
   "metadata": {},
   "source": [
    "We reject the null hypothesis. The distribution of men in the samples is different. And if so, then the distribution of women is also different.\n",
    "\n",
    "The difference in the ratio of men to women in the samples is equal 28%. This means that the relative number of women in the \"not_defaulted\" group is greater than in the \"defaulted\" group. And there are correspondingly fewer men."
   ]
  },
  {
   "cell_type": "markdown",
   "metadata": {},
   "source": [
    "<a id='3'></a>\n",
    "### 3. Education: test whether education levels differs between two groups. If it does, then how exactly?"
   ]
  },
  {
   "cell_type": "code",
   "execution_count": 6,
   "metadata": {},
   "outputs": [
    {
     "data": {
      "image/png": "[encoded data removed]",
      "text/plain": [
       "<Figure size 432x288 with 1 Axes>"
      ]
     },
     "metadata": {
      "needs_background": "light"
     },
     "output_type": "display_data"
    }
   ],
   "source": [
    "display_hist('EDUCATION')"
   ]
  },
  {
   "cell_type": "code",
   "execution_count": 7,
   "metadata": {},
   "outputs": [
    {
     "data": {
      "text/html": [
       "<div>\n",
       "<style scoped>\n",
       "    .dataframe tbody tr th:only-of-type {\n",
       "        vertical-align: middle;\n",
       "    }\n",
       "\n",
       "    .dataframe tbody tr th {\n",
       "        vertical-align: top;\n",
       "    }\n",
       "\n",
       "    .dataframe thead th {\n",
       "        text-align: right;\n",
       "    }\n",
       "</style>\n",
       "<table border=\"1\" class=\"dataframe\">\n",
       "  <thead>\n",
       "    <tr style=\"text-align: right;\">\n",
       "      <th>EDUCATION</th>\n",
       "      <th>0</th>\n",
       "      <th>1</th>\n",
       "      <th>2</th>\n",
       "      <th>3</th>\n",
       "      <th>4</th>\n",
       "      <th>5</th>\n",
       "      <th>6</th>\n",
       "    </tr>\n",
       "    <tr>\n",
       "      <th>default</th>\n",
       "      <th></th>\n",
       "      <th></th>\n",
       "      <th></th>\n",
       "      <th></th>\n",
       "      <th></th>\n",
       "      <th></th>\n",
       "      <th></th>\n",
       "    </tr>\n",
       "  </thead>\n",
       "  <tbody>\n",
       "    <tr>\n",
       "      <th>0</th>\n",
       "      <td>14</td>\n",
       "      <td>8549</td>\n",
       "      <td>10700</td>\n",
       "      <td>3680</td>\n",
       "      <td>116</td>\n",
       "      <td>262</td>\n",
       "      <td>43</td>\n",
       "    </tr>\n",
       "    <tr>\n",
       "      <th>1</th>\n",
       "      <td>0</td>\n",
       "      <td>2036</td>\n",
       "      <td>3330</td>\n",
       "      <td>1237</td>\n",
       "      <td>7</td>\n",
       "      <td>18</td>\n",
       "      <td>8</td>\n",
       "    </tr>\n",
       "  </tbody>\n",
       "</table>\n",
       "</div>"
      ],
      "text/plain": [
       "EDUCATION   0     1      2     3    4    5   6\n",
       "default                                       \n",
       "0          14  8549  10700  3680  116  262  43\n",
       "1           0  2036   3330  1237    7   18   8"
      ]
     },
     "execution_count": 7,
     "metadata": {},
     "output_type": "execute_result"
    }
   ],
   "source": [
    "ct = pd.crosstab(df.default, df.EDUCATION)\n",
    "ct"
   ]
  },
  {
   "cell_type": "markdown",
   "metadata": {},
   "source": [
    "To begin with, let's check for the independence of these parameters (default and EDUCATION).\n",
    "\n",
    "**Chi squared test for independence**\n",
    "\n",
    "$H_0$: default and EDUCATION in people are independent\n",
    "\n",
    "$H_1$: $H_0$ is false"
   ]
  },
  {
   "cell_type": "code",
   "execution_count": 8,
   "metadata": {},
   "outputs": [
    {
     "data": {
      "text/plain": [
       "(163.21655786997073,\n",
       " 1.2332626245415605e-32,\n",
       " 6,\n",
       " array([[1.0903200e+01, 8.2435980e+03, 1.0926564e+04, 3.8293596e+03,\n",
       "         9.5792400e+01, 2.1806400e+02, 3.9718800e+01],\n",
       "        [3.0968000e+00, 2.3414020e+03, 3.1034360e+03, 1.0876404e+03,\n",
       "         2.7207600e+01, 6.1936000e+01, 1.1281200e+01]]))"
      ]
     },
     "execution_count": 8,
     "metadata": {},
     "output_type": "execute_result"
    }
   ],
   "source": [
    "stats.chi2_contingency(ct)"
   ]
  },
  {
   "cell_type": "markdown",
   "metadata": {},
   "source": [
    "$p=1.23\\times10^{-32}<0.05$ – null hypothesis is rejected. And all of the expected counts are above 5."
   ]
  },
  {
   "cell_type": "code",
   "execution_count": 9,
   "metadata": {},
   "outputs": [
    {
     "data": {
      "text/html": [
       "<div>\n",
       "<style scoped>\n",
       "    .dataframe tbody tr th:only-of-type {\n",
       "        vertical-align: middle;\n",
       "    }\n",
       "\n",
       "    .dataframe tbody tr th {\n",
       "        vertical-align: top;\n",
       "    }\n",
       "\n",
       "    .dataframe thead th {\n",
       "        text-align: right;\n",
       "    }\n",
       "</style>\n",
       "<table border=\"1\" class=\"dataframe\">\n",
       "  <thead>\n",
       "    <tr style=\"text-align: right;\">\n",
       "      <th>EDUCATION</th>\n",
       "      <th>0</th>\n",
       "      <th>1</th>\n",
       "      <th>2</th>\n",
       "      <th>3</th>\n",
       "      <th>4</th>\n",
       "      <th>5</th>\n",
       "      <th>6</th>\n",
       "    </tr>\n",
       "    <tr>\n",
       "      <th>default</th>\n",
       "      <th></th>\n",
       "      <th></th>\n",
       "      <th></th>\n",
       "      <th></th>\n",
       "      <th></th>\n",
       "      <th></th>\n",
       "      <th></th>\n",
       "    </tr>\n",
       "  </thead>\n",
       "  <tbody>\n",
       "    <tr>\n",
       "      <th>0</th>\n",
       "      <td>1.99455</td>\n",
       "      <td>8.890227</td>\n",
       "      <td>-6.316328</td>\n",
       "      <td>-5.612397</td>\n",
       "      <td>4.398948</td>\n",
       "      <td>6.355829</td>\n",
       "      <td>1.107928</td>\n",
       "    </tr>\n",
       "    <tr>\n",
       "      <th>1</th>\n",
       "      <td>-1.99455</td>\n",
       "      <td>-8.890227</td>\n",
       "      <td>6.316328</td>\n",
       "      <td>5.612397</td>\n",
       "      <td>-4.398948</td>\n",
       "      <td>-6.355829</td>\n",
       "      <td>-1.107928</td>\n",
       "    </tr>\n",
       "  </tbody>\n",
       "</table>\n",
       "</div>"
      ],
      "text/plain": [
       "EDUCATION        0         1         2         3         4         5         6\n",
       "default                                                                       \n",
       "0          1.99455  8.890227 -6.316328 -5.612397  4.398948  6.355829  1.107928\n",
       "1         -1.99455 -8.890227  6.316328  5.612397 -4.398948 -6.355829 -1.107928"
      ]
     },
     "execution_count": 9,
     "metadata": {},
     "output_type": "execute_result"
    }
   ],
   "source": [
    "def st_pearson_residuals(ct):\n",
    "    e = stats.chi2_contingency(ct)[3]\n",
    "    r = e\n",
    "    n_plus_j = np.sum(ct, axis=0)\n",
    "    n_i_plus = np.sum(ct, axis=1)\n",
    "    n = sum(n_plus_j)\n",
    "    for i in range(len(n_i_plus)):\n",
    "        for j in range(len(n_plus_j)):\n",
    "            r[i,j] = (ct.values[i,j] - e[i,j]) / np.sqrt(e[i,j] * (1 - n_i_plus[i] / n) * (1 - n_plus_j[j] / n))\n",
    "    return pd.DataFrame(data=r, index = ct.index, columns = ct.columns)\n",
    "\n",
    "st_pearson_residuals(ct)"
   ]
  },
  {
   "cell_type": "markdown",
   "metadata": {},
   "source": [
    "<a id='4'></a>\n",
    "### 4. Marital status: Check how marital status is related to the default indicator: you need to propose a measure by which you can measure the possible relationship of these variables and calculate its value."
   ]
  },
  {
   "cell_type": "code",
   "execution_count": 10,
   "metadata": {},
   "outputs": [
    {
     "data": {
      "image/png": "[encoded data removed]",
      "text/plain": [
       "<Figure size 432x288 with 1 Axes>"
      ]
     },
     "metadata": {
      "needs_background": "light"
     },
     "output_type": "display_data"
    }
   ],
   "source": [
    "display_hist('MARITAL')"
   ]
  },
  {
   "cell_type": "markdown",
   "metadata": {},
   "source": [
    "Let's do it by analogy with the previous task.  Because we have again one categorical variable, and the second binary."
   ]
  },
  {
   "cell_type": "code",
   "execution_count": 11,
   "metadata": {},
   "outputs": [
    {
     "data": {
      "text/html": [
       "<div>\n",
       "<style scoped>\n",
       "    .dataframe tbody tr th:only-of-type {\n",
       "        vertical-align: middle;\n",
       "    }\n",
       "\n",
       "    .dataframe tbody tr th {\n",
       "        vertical-align: top;\n",
       "    }\n",
       "\n",
       "    .dataframe thead th {\n",
       "        text-align: right;\n",
       "    }\n",
       "</style>\n",
       "<table border=\"1\" class=\"dataframe\">\n",
       "  <thead>\n",
       "    <tr style=\"text-align: right;\">\n",
       "      <th>MARITAL</th>\n",
       "      <th>0</th>\n",
       "      <th>1</th>\n",
       "      <th>2</th>\n",
       "      <th>3</th>\n",
       "    </tr>\n",
       "    <tr>\n",
       "      <th>default</th>\n",
       "      <th></th>\n",
       "      <th></th>\n",
       "      <th></th>\n",
       "      <th></th>\n",
       "    </tr>\n",
       "  </thead>\n",
       "  <tbody>\n",
       "    <tr>\n",
       "      <th>0</th>\n",
       "      <td>49</td>\n",
       "      <td>10453</td>\n",
       "      <td>12623</td>\n",
       "      <td>239</td>\n",
       "    </tr>\n",
       "    <tr>\n",
       "      <th>1</th>\n",
       "      <td>5</td>\n",
       "      <td>3206</td>\n",
       "      <td>3341</td>\n",
       "      <td>84</td>\n",
       "    </tr>\n",
       "  </tbody>\n",
       "</table>\n",
       "</div>"
      ],
      "text/plain": [
       "MARITAL   0      1      2    3\n",
       "default                       \n",
       "0        49  10453  12623  239\n",
       "1         5   3206   3341   84"
      ]
     },
     "execution_count": 11,
     "metadata": {},
     "output_type": "execute_result"
    }
   ],
   "source": [
    "ct = pd.crosstab(df.default, df.MARITAL)\n",
    "ct"
   ]
  },
  {
   "cell_type": "markdown",
   "metadata": {},
   "source": [
    "To begin with, let's check for the independence of these parameters (default and MARITAL).\n",
    "\n",
    "**Chi squared test for independence**\n",
    "\n",
    "$H_0$: default and MARITAL in people are independent\n",
    "\n",
    "$H_1$: $H_0$ is false"
   ]
  },
  {
   "cell_type": "code",
   "execution_count": 12,
   "metadata": {},
   "outputs": [
    {
     "data": {
      "text/plain": [
       "(35.66239583433609,\n",
       " 8.825862457577375e-08,\n",
       " 3,\n",
       " array([[4.20552000e+01, 1.06376292e+04, 1.24327632e+04, 2.51552400e+02],\n",
       "        [1.19448000e+01, 3.02137080e+03, 3.53123680e+03, 7.14476000e+01]]))"
      ]
     },
     "execution_count": 12,
     "metadata": {},
     "output_type": "execute_result"
    }
   ],
   "source": [
    "stats.chi2_contingency(ct)"
   ]
  },
  {
   "cell_type": "markdown",
   "metadata": {},
   "source": [
    "$p=8.8\\times10^{-8}<0.05$ – null hypothesis is rejected. And all of the expected counts are above 5."
   ]
  },
  {
   "cell_type": "code",
   "execution_count": 13,
   "metadata": {},
   "outputs": [
    {
     "data": {
      "text/html": [
       "<div>\n",
       "<style scoped>\n",
       "    .dataframe tbody tr th:only-of-type {\n",
       "        vertical-align: middle;\n",
       "    }\n",
       "\n",
       "    .dataframe tbody tr th {\n",
       "        vertical-align: top;\n",
       "    }\n",
       "\n",
       "    .dataframe thead th {\n",
       "        text-align: right;\n",
       "    }\n",
       "</style>\n",
       "<table border=\"1\" class=\"dataframe\">\n",
       "  <thead>\n",
       "    <tr style=\"text-align: right;\">\n",
       "      <th>MARITAL</th>\n",
       "      <th>0</th>\n",
       "      <th>1</th>\n",
       "      <th>2</th>\n",
       "      <th>3</th>\n",
       "    </tr>\n",
       "    <tr>\n",
       "      <th>default</th>\n",
       "      <th></th>\n",
       "      <th></th>\n",
       "      <th></th>\n",
       "      <th></th>\n",
       "    </tr>\n",
       "  </thead>\n",
       "  <tbody>\n",
       "    <tr>\n",
       "      <th>0</th>\n",
       "      <td>2.279022</td>\n",
       "      <td>-5.157114</td>\n",
       "      <td>5.303433</td>\n",
       "      <td>-1.691884</td>\n",
       "    </tr>\n",
       "    <tr>\n",
       "      <th>1</th>\n",
       "      <td>-2.279022</td>\n",
       "      <td>5.157114</td>\n",
       "      <td>-5.303433</td>\n",
       "      <td>1.691884</td>\n",
       "    </tr>\n",
       "  </tbody>\n",
       "</table>\n",
       "</div>"
      ],
      "text/plain": [
       "MARITAL         0         1         2         3\n",
       "default                                        \n",
       "0        2.279022 -5.157114  5.303433 -1.691884\n",
       "1       -2.279022  5.157114 -5.303433  1.691884"
      ]
     },
     "execution_count": 13,
     "metadata": {},
     "output_type": "execute_result"
    }
   ],
   "source": [
    "st_pearson_residuals(ct)"
   ]
  },
  {
   "cell_type": "markdown",
   "metadata": {},
   "source": [
    "<a id='5'></a>\n",
    "### 5. Age: test whether there are differences between mean ages of clients in two groups."
   ]
  },
  {
   "cell_type": "code",
   "execution_count": 14,
   "metadata": {},
   "outputs": [
    {
     "data": {
      "image/png": "[encoded data removed]",
      "text/plain": [
       "<Figure size 432x288 with 1 Axes>"
      ]
     },
     "metadata": {
      "needs_background": "light"
     },
     "output_type": "display_data"
    }
   ],
   "source": [
    "display_hist('AGE')"
   ]
  },
  {
   "cell_type": "markdown",
   "metadata": {},
   "source": [
    "Somewhat resembles a normal distribution. Therefore, we will conduct two tests\n",
    "- T-test\n",
    "- Mann-Whitney Test\n",
    "\n",
    "$H_0\\colon$ average age in both groups is equal\n",
    "\n",
    "$H_1\\colon$ not equal"
   ]
  },
  {
   "cell_type": "code",
   "execution_count": 15,
   "metadata": {},
   "outputs": [
    {
     "name": "stdout",
     "output_type": "stream",
     "text": [
      "Mann-Whitney test: MannwhitneyuResult(statistic=76966879.5, pvalue=0.3725035434898616)\n",
      "T-test: Ttest_indResult(statistic=-2.3195212416592628, pvalue=0.02038649025587463)\n"
     ]
    }
   ],
   "source": [
    "print(\"Mann-Whitney test:\", sc.stats.mannwhitneyu(not_defaulted.AGE, defaulted.AGE))\n",
    "print('T-test:', sc.stats.ttest_ind(not_defaulted.AGE, defaulted.AGE, equal_var = False))"
   ]
  },
  {
   "cell_type": "markdown",
   "metadata": {},
   "source": [
    "The test results are very different. To make a decision, let's check their actual average values. More precisely, the difference between them."
   ]
  },
  {
   "cell_type": "code",
   "execution_count": 16,
   "metadata": {},
   "outputs": [
    {
     "name": "stdout",
     "output_type": "stream",
     "text": [
      "Average age for not_defaulted group: 35.417265879130284\n",
      "Average age for defaulted group: 35.72573839662447\n"
     ]
    }
   ],
   "source": [
    "print('Average age for not_defaulted group:', not_defaulted.AGE.mean())\n",
    "print('Average age for defaulted group:', defaulted.AGE.mean())"
   ]
  },
  {
   "cell_type": "markdown",
   "metadata": {},
   "source": [
    "Comparatively similar. Hence we conclude that we can trust the results of the Mana-Whitney test.\n",
    "We accept the null hypothesis."
   ]
  },
  {
   "cell_type": "code",
   "execution_count": null,
   "metadata": {},
   "outputs": [],
   "source": []
  }
 ],
 "metadata": {
  "kernelspec": {
   "display_name": "Python 3",
   "language": "python",
   "name": "python3"
  },
  "language_info": {
   "codemirror_mode": {
    "name": "ipython",
    "version": 3
   },
   "file_extension": ".py",
   "mimetype": "text/x-python",
   "name": "python",
   "nbconvert_exporter": "python",
   "pygments_lexer": "ipython3",
   "version": "3.8.10"
  }
 },
 "nbformat": 4,
 "nbformat_minor": 4
}
