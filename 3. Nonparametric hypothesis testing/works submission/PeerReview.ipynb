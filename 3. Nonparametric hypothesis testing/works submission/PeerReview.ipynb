{
 "cells": [
  {
   "cell_type": "code",
   "execution_count": 1,
   "id": "6591b4b7",
   "metadata": {},
   "outputs": [],
   "source": [
    "import numpy as np\n",
    "import pandas as pd\n",
    "from scipy import stats\n",
    "\n",
    "import matplotlib.pyplot as plt\n",
    "\n",
    "from statsmodels.stats.proportion import test_proportions_2indep, confint_proportions_2indep\n",
    "from statsmodels.stats.weightstats import DescrStatsW, CompareMeans"
   ]
  },
  {
   "cell_type": "markdown",
   "id": "afe1e5e8",
   "metadata": {},
   "source": [
    "# Data"
   ]
  },
  {
   "cell_type": "code",
   "execution_count": 2,
   "id": "9e938d06",
   "metadata": {},
   "outputs": [],
   "source": [
    "df = pd.read_csv('credit_card_default_analysis.csv')"
   ]
  },
  {
   "cell_type": "code",
   "execution_count": 3,
   "id": "8a7711f4",
   "metadata": {},
   "outputs": [
    {
     "data": {
      "text/html": [
       "<div>\n",
       "<style scoped>\n",
       "    .dataframe tbody tr th:only-of-type {\n",
       "        vertical-align: middle;\n",
       "    }\n",
       "\n",
       "    .dataframe tbody tr th {\n",
       "        vertical-align: top;\n",
       "    }\n",
       "\n",
       "    .dataframe thead th {\n",
       "        text-align: right;\n",
       "    }\n",
       "</style>\n",
       "<table border=\"1\" class=\"dataframe\">\n",
       "  <thead>\n",
       "    <tr style=\"text-align: right;\">\n",
       "      <th></th>\n",
       "      <th>ID</th>\n",
       "      <th>LIMIT_BAL</th>\n",
       "      <th>GENDER</th>\n",
       "      <th>EDUCATION</th>\n",
       "      <th>MARITAL</th>\n",
       "      <th>AGE</th>\n",
       "      <th>PAY_SEP</th>\n",
       "      <th>PAY_AUG</th>\n",
       "      <th>PAY_JUL</th>\n",
       "      <th>PAY_JUN</th>\n",
       "      <th>...</th>\n",
       "      <th>BILL_JUN</th>\n",
       "      <th>BILL_MAY</th>\n",
       "      <th>BILL_APR</th>\n",
       "      <th>PAY_SEP.1</th>\n",
       "      <th>PAY_AUG.1</th>\n",
       "      <th>PAY_JUL.1</th>\n",
       "      <th>PAY_JUN.1</th>\n",
       "      <th>PAY_MAY.1</th>\n",
       "      <th>PAY_APR.1</th>\n",
       "      <th>default</th>\n",
       "    </tr>\n",
       "  </thead>\n",
       "  <tbody>\n",
       "    <tr>\n",
       "      <th>0</th>\n",
       "      <td>1</td>\n",
       "      <td>20000</td>\n",
       "      <td>2</td>\n",
       "      <td>2</td>\n",
       "      <td>1</td>\n",
       "      <td>24</td>\n",
       "      <td>2</td>\n",
       "      <td>2</td>\n",
       "      <td>0</td>\n",
       "      <td>0</td>\n",
       "      <td>...</td>\n",
       "      <td>0</td>\n",
       "      <td>0</td>\n",
       "      <td>0</td>\n",
       "      <td>0</td>\n",
       "      <td>689</td>\n",
       "      <td>0</td>\n",
       "      <td>0</td>\n",
       "      <td>0</td>\n",
       "      <td>0</td>\n",
       "      <td>1</td>\n",
       "    </tr>\n",
       "    <tr>\n",
       "      <th>1</th>\n",
       "      <td>2</td>\n",
       "      <td>120000</td>\n",
       "      <td>2</td>\n",
       "      <td>2</td>\n",
       "      <td>2</td>\n",
       "      <td>26</td>\n",
       "      <td>0</td>\n",
       "      <td>2</td>\n",
       "      <td>0</td>\n",
       "      <td>0</td>\n",
       "      <td>...</td>\n",
       "      <td>3272</td>\n",
       "      <td>3455</td>\n",
       "      <td>3261</td>\n",
       "      <td>0</td>\n",
       "      <td>1000</td>\n",
       "      <td>1000</td>\n",
       "      <td>1000</td>\n",
       "      <td>0</td>\n",
       "      <td>2000</td>\n",
       "      <td>1</td>\n",
       "    </tr>\n",
       "    <tr>\n",
       "      <th>2</th>\n",
       "      <td>3</td>\n",
       "      <td>90000</td>\n",
       "      <td>2</td>\n",
       "      <td>2</td>\n",
       "      <td>2</td>\n",
       "      <td>34</td>\n",
       "      <td>0</td>\n",
       "      <td>0</td>\n",
       "      <td>0</td>\n",
       "      <td>0</td>\n",
       "      <td>...</td>\n",
       "      <td>14331</td>\n",
       "      <td>14948</td>\n",
       "      <td>15549</td>\n",
       "      <td>1518</td>\n",
       "      <td>1500</td>\n",
       "      <td>1000</td>\n",
       "      <td>1000</td>\n",
       "      <td>1000</td>\n",
       "      <td>5000</td>\n",
       "      <td>0</td>\n",
       "    </tr>\n",
       "    <tr>\n",
       "      <th>3</th>\n",
       "      <td>4</td>\n",
       "      <td>50000</td>\n",
       "      <td>2</td>\n",
       "      <td>2</td>\n",
       "      <td>1</td>\n",
       "      <td>37</td>\n",
       "      <td>0</td>\n",
       "      <td>0</td>\n",
       "      <td>0</td>\n",
       "      <td>0</td>\n",
       "      <td>...</td>\n",
       "      <td>28314</td>\n",
       "      <td>28959</td>\n",
       "      <td>29547</td>\n",
       "      <td>2000</td>\n",
       "      <td>2019</td>\n",
       "      <td>1200</td>\n",
       "      <td>1100</td>\n",
       "      <td>1069</td>\n",
       "      <td>1000</td>\n",
       "      <td>0</td>\n",
       "    </tr>\n",
       "    <tr>\n",
       "      <th>4</th>\n",
       "      <td>5</td>\n",
       "      <td>50000</td>\n",
       "      <td>1</td>\n",
       "      <td>2</td>\n",
       "      <td>1</td>\n",
       "      <td>57</td>\n",
       "      <td>0</td>\n",
       "      <td>0</td>\n",
       "      <td>0</td>\n",
       "      <td>0</td>\n",
       "      <td>...</td>\n",
       "      <td>20940</td>\n",
       "      <td>19146</td>\n",
       "      <td>19131</td>\n",
       "      <td>2000</td>\n",
       "      <td>36681</td>\n",
       "      <td>10000</td>\n",
       "      <td>9000</td>\n",
       "      <td>689</td>\n",
       "      <td>679</td>\n",
       "      <td>0</td>\n",
       "    </tr>\n",
       "  </tbody>\n",
       "</table>\n",
       "<p>5 rows × 25 columns</p>\n",
       "</div>"
      ],
      "text/plain": [
       "   ID  LIMIT_BAL  GENDER  EDUCATION  MARITAL  AGE  PAY_SEP  PAY_AUG  PAY_JUL  \\\n",
       "0   1      20000       2          2        1   24        2        2        0   \n",
       "1   2     120000       2          2        2   26        0        2        0   \n",
       "2   3      90000       2          2        2   34        0        0        0   \n",
       "3   4      50000       2          2        1   37        0        0        0   \n",
       "4   5      50000       1          2        1   57        0        0        0   \n",
       "\n",
       "   PAY_JUN  ...  BILL_JUN  BILL_MAY  BILL_APR  PAY_SEP.1  PAY_AUG.1  \\\n",
       "0        0  ...         0         0         0          0        689   \n",
       "1        0  ...      3272      3455      3261          0       1000   \n",
       "2        0  ...     14331     14948     15549       1518       1500   \n",
       "3        0  ...     28314     28959     29547       2000       2019   \n",
       "4        0  ...     20940     19146     19131       2000      36681   \n",
       "\n",
       "   PAY_JUL.1  PAY_JUN.1  PAY_MAY.1  PAY_APR.1  default  \n",
       "0          0          0          0          0        1  \n",
       "1       1000       1000          0       2000        1  \n",
       "2       1000       1000       1000       5000        0  \n",
       "3       1200       1100       1069       1000        0  \n",
       "4      10000       9000        689        679        0  \n",
       "\n",
       "[5 rows x 25 columns]"
      ]
     },
     "execution_count": 3,
     "metadata": {},
     "output_type": "execute_result"
    }
   ],
   "source": [
    "df.head()"
   ]
  },
  {
   "cell_type": "code",
   "execution_count": 4,
   "id": "21666721",
   "metadata": {},
   "outputs": [],
   "source": [
    "default = df.query('default == 1')\n",
    "non_default = df.query('default == 0')"
   ]
  },
  {
   "cell_type": "markdown",
   "id": "3b054fdc",
   "metadata": {},
   "source": [
    "# Comparing median credit limits of two groups"
   ]
  },
  {
   "cell_type": "code",
   "execution_count": 5,
   "id": "5c3179b0",
   "metadata": {},
   "outputs": [
    {
     "data": {
      "image/png": "[encoded data removed]",
      "text/plain": [
       "<Figure size 1080x504 with 2 Axes>"
      ]
     },
     "metadata": {
      "needs_background": "light"
     },
     "output_type": "display_data"
    }
   ],
   "source": [
    "fig, (ax1,ax2) = plt.subplots(1,2,figsize=(15,7))\n",
    "df.hist('LIMIT_BAL', by='default', ax=[ax1, ax2],  color=['lightgrey'])\n",
    "ax1.set_title('Defaulted credit limit',)\n",
    "ax1.set_xlim(0, df.LIMIT_BAL.max())\n",
    "ax2.set_title('Not Defaulted credit limit')\n",
    "ax2.set_xlim(0, df.LIMIT_BAL.max())\n",
    "\n",
    "plt.show()"
   ]
  },
  {
   "cell_type": "markdown",
   "id": "bd5da7e3",
   "metadata": {},
   "source": [
    "**Samples:** the samples represent credit limits provided for defaulted and non-defaulted clients respectively. It's a two-samples question. The samples are both rather large (more than 1000 observations each). However, we can observe that the distribution of both samples is highly right-skewed. \n",
    "\n",
    "**Measurement scale:** The target variable of interest - credit limit - is a continuous one.\n",
    "\n",
    "**Assumptions:** We assume that possible distributions differ only by shifts (which looks reasonable from the plots).\n",
    "\n",
    "**Statistical test:** As no assumptions can be made, Mann-Whitney test can be used, as it provides a tool to compare whether two samples come from one distribution or distribution of another sampled is shifted.\n",
    "\n",
    "**Hypotheses**: \n",
    "$H_0\\colon F_{X_1}(x) = F_{X_2}(x)$ (Samples are coming from the same probability distribution)\n",
    "\n",
    "$H_1\\colon F_{X_1}(x) = F_{X_2}(x + \\Delta), \\Delta\\neq 0$ (Distribution of non-deafulted clients is shifted from defaulted (either to the left or to the right))"
   ]
  },
  {
   "cell_type": "code",
   "execution_count": 6,
   "id": "013b8b7c",
   "metadata": {},
   "outputs": [
    {
     "name": "stdout",
     "output_type": "stream",
     "text": [
      "Mann-Whitney test: MannwhitneyuResult(statistic=59257217.5, pvalue=1.2255485818223303e-189)\n",
      "Difference in sample medians (non-defaulted and defaulted): 60000.0\n"
     ]
    }
   ],
   "source": [
    "print(\"Mann-Whitney test:\", stats.mannwhitneyu(default.LIMIT_BAL, non_default.LIMIT_BAL, alternative='two-sided'))\n",
    "print('Difference in sample medians (non-defaulted and defaulted):', non_default.LIMIT_BAL.median() - default.LIMIT_BAL.median())"
   ]
  },
  {
   "cell_type": "markdown",
   "id": "fef2d028",
   "metadata": {},
   "source": [
    "From the result of the test we should reject $H_0$ in favor of $H_1$ at 0.05. \n",
    "The p-value is extremely small (<1e-188), the difference in sample medians is 60000 NT dollars"
   ]
  },
  {
   "cell_type": "markdown",
   "id": "96459c43",
   "metadata": {},
   "source": [
    "# Comparing gender composition of two groups"
   ]
  },
  {
   "cell_type": "code",
   "execution_count": 7,
   "id": "0fac0797",
   "metadata": {},
   "outputs": [
    {
     "data": {
      "image/png": "[encoded data removed]",
      "text/plain": [
       "<Figure size 1080x504 with 2 Axes>"
      ]
     },
     "metadata": {
      "needs_background": "light"
     },
     "output_type": "display_data"
    }
   ],
   "source": [
    "fig, (ax1,ax2) = plt.subplots(1,2,figsize=(15,7))\n",
    "default.GENDER.value_counts(normalize=True).plot(kind='bar', ax=ax1)\n",
    "ax1.set_title('Defaulted Gender Proportions')\n",
    "ax1.set_ylim(0, 1)\n",
    "non_default.GENDER.value_counts(normalize=True).plot(kind='bar', ax=ax2)\n",
    "ax2.set_title('Non-Defaulted Gender Proportions')\n",
    "ax2.set_ylim(0, 1)\n",
    "plt.show()"
   ]
  },
  {
   "cell_type": "markdown",
   "id": "8b759afa",
   "metadata": {},
   "source": [
    "**Samples:** the samples represent gender provided for defaulted and non-defaulted clients respectively. It's a two-samples question.\n",
    "\n",
    "**Measurement scale:** The target variable of interest - gender - is a binary one (can be represented). We are dealing with proportions.\n",
    "\n",
    "**Assumptions:** No special assumptions can be made. Target variables come from unknown Bernoulli distributions.\n",
    "\n",
    "**Statistical test:** We could use pretty much any statistical test for proportion: Wald, Wilson. Let's compare both. \n",
    "\n",
    "**Hypotheses**: \n",
    "$H_0\\colon p_1 = p_2$ (Proportion of women is the same for both samples)\n",
    "\n",
    "$H_1\\colon p_1\\neq p_2$ (Proportion of women is not the same for both samples)"
   ]
  },
  {
   "cell_type": "code",
   "execution_count": 8,
   "id": "683ef876",
   "metadata": {},
   "outputs": [
    {
     "name": "stdout",
     "output_type": "stream",
     "text": [
      "Wald test: (6.858927391448388, 6.9379488648039966e-12)\n"
     ]
    }
   ],
   "source": [
    "print(\"Wald test:\", test_proportions_2indep(default.GENDER.value_counts()[1], default.shape[0], \n",
    "                                         non_default.GENDER.value_counts()[1], non_default.shape[0], \n",
    "                                         alternative = 'two-sided',\n",
    "                                         method = 'wald',  \n",
    "                                         return_results=False))"
   ]
  },
  {
   "cell_type": "code",
   "execution_count": 9,
   "id": "a359be0c",
   "metadata": {},
   "outputs": [
    {
     "name": "stdout",
     "output_type": "stream",
     "text": [
      "Wilson's test: (6.921259731350102, 4.4764487319331085e-12)\n"
     ]
    }
   ],
   "source": [
    "print(\"Wilson's test:\", test_proportions_2indep(default.GENDER.value_counts()[1], default.shape[0], \n",
    "                                         non_default.GENDER.value_counts()[1], non_default.shape[0], \n",
    "                                         alternative='two-sided',\n",
    "                                         method='score',  \n",
    "                                         correction=False,\n",
    "                                         return_results=False))"
   ]
  },
  {
   "cell_type": "code",
   "execution_count": 10,
   "id": "b466c23d",
   "metadata": {},
   "outputs": [
    {
     "name": "stdout",
     "output_type": "stream",
     "text": [
      "Difference in GENDER 1 proportions: 0.0470915053622627\n",
      "Wilson's interval for difference in GENDER 1 proportions between defaulted and non-defaulted clients: (0.03366755325452624, 0.06056162785542857)\n"
     ]
    }
   ],
   "source": [
    "print('Difference in GENDER 1 proportions:', \n",
    "      default.GENDER.value_counts(normalize=True)[1] -  \n",
    "      non_default.GENDER.value_counts(normalize=True)[1])\n",
    "print(\"Wilson's interval for difference in GENDER 1 proportions between defaulted and non-defaulted clients:\", \n",
    "      confint_proportions_2indep( \n",
    "          default.GENDER.value_counts()[1], default.shape[0], \n",
    "          non_default.GENDER.value_counts()[1], non_default.shape[0], \n",
    "          method='score', compare='diff'))\n"
   ]
  },
  {
   "cell_type": "markdown",
   "id": "1278bd45",
   "metadata": {},
   "source": [
    "From the result of the test we should reject $H_0$ in favor of $H_1$ at 0.05. \n",
    "The p-value is extremely small (<1e-11) for both tests, difference in gender 1 proportions in samples is 0.0471, Wilson's CI for difference in gender 1 proportions is (0.03363493274962867, 0.060548077974896725)."
   ]
  },
  {
   "cell_type": "markdown",
   "id": "cc86daf6",
   "metadata": {},
   "source": [
    "# Test whether education levels differs between two groups"
   ]
  },
  {
   "cell_type": "code",
   "execution_count": 11,
   "id": "d880b2be",
   "metadata": {},
   "outputs": [],
   "source": [
    "def permutation_stat_cat_ind(sample1, sample2):\n",
    "    ct = pd.crosstab(sample1, sample2)\n",
    "    return stats.chi2_contingency(ct)[0]\n",
    "\n",
    "def get_random_permutations(n, max_permutations):\n",
    "    index = np.array(range(n))\n",
    "    indices = set([tuple(index)])        \n",
    "    for i in range(max_permutations - 1):\n",
    "        np.random.shuffle(index)\n",
    "        indices.add(tuple(index))\n",
    "    return list(indices)\n",
    "\n",
    "def permutation_null_dist_cat_ind(sample1, sample2, max_permutations = None):\n",
    "    if not len(sample1) == len(sample2):\n",
    "        raise ValueError(\"Samples should be paired and have the same size\")\n",
    "        \n",
    "    n = len(sample1)\n",
    "    \n",
    "    if max_permutations:\n",
    "        indices = get_random_permutations(n, max_permutations)\n",
    "    else:\n",
    "        indices = list(itertools.permutations(list(range(n))))\n",
    "    \n",
    "    distr = [permutation_stat_cat_ind(sample1, sample2[list(i)]) for i in indices]\n",
    "    return distr\n",
    "\n",
    "def permutation_test_cat_ind(sample1, sample2, max_permutations = None, return_distr = False):    \n",
    "    t_stat = permutation_stat_cat_ind(sample1, sample2)\n",
    "    \n",
    "    null_distr = permutation_null_dist_cat_ind(sample1, sample2, max_permutations)\n",
    "    \n",
    "    p = sum([1. if x >= t_stat else 0. for x in null_distr]) / len(null_distr)\n",
    "        \n",
    "    if return_distr:\n",
    "        return {'t': t_stat, 'p': p, 'null_distr': null_distr}\n",
    "    else:\n",
    "        return {'t': t_stat, 'p': p}\n",
    "    \n",
    "def st_pearson_residuals(ct):\n",
    "    e = stats.chi2_contingency(ct)[3]\n",
    "    r = e\n",
    "    n_plus_j = np.sum(ct, axis=0)\n",
    "    n_i_plus = np.sum(ct, axis=1)\n",
    "    n = sum(n_plus_j)\n",
    "    for i in range(len(n_i_plus)):\n",
    "        for j in range(len(n_plus_j)):\n",
    "            r[i,j] = (ct.values[i,j] - e[i,j]) / np.sqrt(e[i,j] * (1 - n_i_plus[i] / n) * (1 - n_plus_j[j] / n))\n",
    "    return pd.DataFrame(data=r, index = ct.index, columns = ct.columns)"
   ]
  },
  {
   "cell_type": "code",
   "execution_count": 12,
   "id": "217bac75",
   "metadata": {},
   "outputs": [
    {
     "data": {
      "text/html": [
       "<div>\n",
       "<style scoped>\n",
       "    .dataframe tbody tr th:only-of-type {\n",
       "        vertical-align: middle;\n",
       "    }\n",
       "\n",
       "    .dataframe tbody tr th {\n",
       "        vertical-align: top;\n",
       "    }\n",
       "\n",
       "    .dataframe thead th {\n",
       "        text-align: right;\n",
       "    }\n",
       "</style>\n",
       "<table border=\"1\" class=\"dataframe\">\n",
       "  <thead>\n",
       "    <tr style=\"text-align: right;\">\n",
       "      <th>EDUCATION</th>\n",
       "      <th>0</th>\n",
       "      <th>1</th>\n",
       "      <th>2</th>\n",
       "      <th>3</th>\n",
       "      <th>4</th>\n",
       "      <th>5</th>\n",
       "      <th>6</th>\n",
       "    </tr>\n",
       "    <tr>\n",
       "      <th>default</th>\n",
       "      <th></th>\n",
       "      <th></th>\n",
       "      <th></th>\n",
       "      <th></th>\n",
       "      <th></th>\n",
       "      <th></th>\n",
       "      <th></th>\n",
       "    </tr>\n",
       "  </thead>\n",
       "  <tbody>\n",
       "    <tr>\n",
       "      <th>0</th>\n",
       "      <td>14</td>\n",
       "      <td>8549</td>\n",
       "      <td>10700</td>\n",
       "      <td>3680</td>\n",
       "      <td>116</td>\n",
       "      <td>262</td>\n",
       "      <td>43</td>\n",
       "    </tr>\n",
       "    <tr>\n",
       "      <th>1</th>\n",
       "      <td>0</td>\n",
       "      <td>2036</td>\n",
       "      <td>3330</td>\n",
       "      <td>1237</td>\n",
       "      <td>7</td>\n",
       "      <td>18</td>\n",
       "      <td>8</td>\n",
       "    </tr>\n",
       "  </tbody>\n",
       "</table>\n",
       "</div>"
      ],
      "text/plain": [
       "EDUCATION   0     1      2     3    4    5   6\n",
       "default                                       \n",
       "0          14  8549  10700  3680  116  262  43\n",
       "1           0  2036   3330  1237    7   18   8"
      ]
     },
     "execution_count": 12,
     "metadata": {},
     "output_type": "execute_result"
    }
   ],
   "source": [
    "ct = pd.crosstab(df.default, df.EDUCATION)\n",
    "ct"
   ]
  },
  {
   "cell_type": "markdown",
   "id": "6ecdc329",
   "metadata": {},
   "source": [
    "**Samples:** the samples represent education levels provided for defaulted and non-defaulted clients respectively. \n",
    "   \n",
    "\n",
    "**Measurement scale:**  It's a one-binary one-categorical case. The default variable is binary, while the education is categorial. We cannot treat education numerically. \n",
    "\n",
    "**Assumptions:** No special assumptions can be made.\n",
    "\n",
    "**Statistical test:** As some education levels are under-represented, we would expect Chi-square test to perform poorly and thus would use Permutation test. \n",
    "\n",
    "**Hypotheses**: \n",
    "$H_0$: defaulting and education level are independent\n",
    "\n",
    "$H_1$: $H_0$ is false"
   ]
  },
  {
   "cell_type": "code",
   "execution_count": 13,
   "id": "4ed6c875",
   "metadata": {
    "scrolled": true
   },
   "outputs": [
    {
     "name": "stdout",
     "output_type": "stream",
     "text": [
      "Permutation test: t = 163.216558, p = 0.000100\n"
     ]
    }
   ],
   "source": [
    "res= permutation_test_cat_ind(df.default.values, df.EDUCATION.values, \n",
    "                              max_permutations=10000, return_distr=True)\n",
    "print(\"Permutation test: t = %f, p = %f\" % (res['t'], res['p']))"
   ]
  },
  {
   "cell_type": "code",
   "execution_count": 14,
   "id": "a96c7582",
   "metadata": {},
   "outputs": [
    {
     "data": {
      "image/png": "[encoded data removed]",
      "text/plain": [
       "<Figure size 432x288 with 1 Axes>"
      ]
     },
     "metadata": {
      "needs_background": "light"
     },
     "output_type": "display_data"
    }
   ],
   "source": [
    "plt.hist(res['null_distr'], bins = 100);"
   ]
  },
  {
   "cell_type": "markdown",
   "id": "01887d16",
   "metadata": {},
   "source": [
    "Calculate standartized Pearson's residuals to interpret the results:"
   ]
  },
  {
   "cell_type": "code",
   "execution_count": 15,
   "id": "367a0145",
   "metadata": {},
   "outputs": [
    {
     "data": {
      "text/html": [
       "<div>\n",
       "<style scoped>\n",
       "    .dataframe tbody tr th:only-of-type {\n",
       "        vertical-align: middle;\n",
       "    }\n",
       "\n",
       "    .dataframe tbody tr th {\n",
       "        vertical-align: top;\n",
       "    }\n",
       "\n",
       "    .dataframe thead th {\n",
       "        text-align: right;\n",
       "    }\n",
       "</style>\n",
       "<table border=\"1\" class=\"dataframe\">\n",
       "  <thead>\n",
       "    <tr style=\"text-align: right;\">\n",
       "      <th>EDUCATION</th>\n",
       "      <th>0</th>\n",
       "      <th>1</th>\n",
       "      <th>2</th>\n",
       "      <th>3</th>\n",
       "      <th>4</th>\n",
       "      <th>5</th>\n",
       "      <th>6</th>\n",
       "    </tr>\n",
       "    <tr>\n",
       "      <th>default</th>\n",
       "      <th></th>\n",
       "      <th></th>\n",
       "      <th></th>\n",
       "      <th></th>\n",
       "      <th></th>\n",
       "      <th></th>\n",
       "      <th></th>\n",
       "    </tr>\n",
       "  </thead>\n",
       "  <tbody>\n",
       "    <tr>\n",
       "      <th>0</th>\n",
       "      <td>1.99455</td>\n",
       "      <td>8.890227</td>\n",
       "      <td>-6.316328</td>\n",
       "      <td>-5.612397</td>\n",
       "      <td>4.398948</td>\n",
       "      <td>6.355829</td>\n",
       "      <td>1.107928</td>\n",
       "    </tr>\n",
       "    <tr>\n",
       "      <th>1</th>\n",
       "      <td>-1.99455</td>\n",
       "      <td>-8.890227</td>\n",
       "      <td>6.316328</td>\n",
       "      <td>5.612397</td>\n",
       "      <td>-4.398948</td>\n",
       "      <td>-6.355829</td>\n",
       "      <td>-1.107928</td>\n",
       "    </tr>\n",
       "  </tbody>\n",
       "</table>\n",
       "</div>"
      ],
      "text/plain": [
       "EDUCATION        0         1         2         3         4         5         6\n",
       "default                                                                       \n",
       "0          1.99455  8.890227 -6.316328 -5.612397  4.398948  6.355829  1.107928\n",
       "1         -1.99455 -8.890227  6.316328  5.612397 -4.398948 -6.355829 -1.107928"
      ]
     },
     "execution_count": 15,
     "metadata": {},
     "output_type": "execute_result"
    }
   ],
   "source": [
    "st_pearson_residuals(ct)"
   ]
  },
  {
   "cell_type": "markdown",
   "id": "6213ab24",
   "metadata": {},
   "source": [
    "From the results we should reject $H_0$ in favor of $H_1$ at 0.05. \n",
    "The p-value is 0.0001 for Permuation test.\n",
    "\n",
    "From standartized Pearson's residuals we can conclude that people who default have education levels 1, 4, 5 (1 = masters; 4 = elementary education; 5= other) more frequently than it would've been if variables were independent.\n",
    "On the other hand, people who do not default have education levels 2, 3 (2 = bachelor; 3 = school graduate) more frequently than it would've been if variables were independent."
   ]
  },
  {
   "cell_type": "markdown",
   "id": "1d8e8b28",
   "metadata": {},
   "source": [
    "# Check how marital status is related to the default indicator: you need to propose a measure by which you can measure the possible relationship of these variables and calculate its value."
   ]
  },
  {
   "cell_type": "code",
   "execution_count": 16,
   "id": "6a611ffc",
   "metadata": {},
   "outputs": [
    {
     "data": {
      "image/png": "[encoded data removed]",
      "text/plain": [
       "<Figure size 432x288 with 1 Axes>"
      ]
     },
     "metadata": {
      "needs_background": "light"
     },
     "output_type": "display_data"
    }
   ],
   "source": [
    "df.MARITAL.value_counts().plot(kind='bar')\n",
    "plt.title('Distribution of marital statuses\\n0 = no answer; 1 = married; 2 = single; 3 = no data')\n",
    "plt.show()"
   ]
  },
  {
   "cell_type": "markdown",
   "id": "0b795e37",
   "metadata": {},
   "source": [
    "As it's not quite clear what records with 0 (no status) and 3 (no data) marital statuses mean and we can also see that such records represent a negligible proportion of data, we would omit such records. "
   ]
  },
  {
   "cell_type": "code",
   "execution_count": 17,
   "id": "d2dfe271",
   "metadata": {},
   "outputs": [],
   "source": [
    "married_df = df.query('MARITAL == 1')\n",
    "single_df = df.query('MARITAL == 2')"
   ]
  },
  {
   "cell_type": "markdown",
   "id": "40fb5b7d",
   "metadata": {},
   "source": [
    "**Samples:** the samples represent MARITAL statuses provided for defaulted and non-defaulted clients respectively. It's a two-samples question. \n",
    "\n",
    "As soon as we need an indicator varible to compare the groups of different marital statuses, let's use the proprtion of defaulted clients as such a measure. \n",
    "\n",
    "**Measurement scale:** The target variable of interest then is default - is a binary one (can be represented). We are dealing with proportions.\n",
    "\n",
    "**Assumptions:** No special assumptions can be made. Target variables comes from unknown Bernoulli distributions.\n",
    "\n",
    "**Statistical test:** We could use pretty much any statistical test for proportion.Let's use Wilson's due to its higher power. \n",
    "\n",
    "**Hypotheses**: \n",
    "$H_0\\colon p_1 = p_2$ (Proportion of defaulted clients is the same for both marital statuses [married, single])\n",
    "\n",
    "$H_1\\colon p_1\\neq p_2$ (Proportion of defaulted clients is not the same for both marital statuses)"
   ]
  },
  {
   "cell_type": "code",
   "execution_count": 18,
   "id": "ed879a94",
   "metadata": {},
   "outputs": [
    {
     "name": "stdout",
     "output_type": "stream",
     "text": [
      "Wilson's test: (5.258897845627853, 1.4492136371004736e-07)\n"
     ]
    }
   ],
   "source": [
    "print(\"Wilson's test:\", test_proportions_2indep(married_df.default.value_counts()[1], married_df.shape[0], \n",
    "                                         single_df.default.value_counts()[1], single_df.shape[0], \n",
    "                                         alternative='two-sided',\n",
    "                                         method='score',  \n",
    "                                         correction=False,\n",
    "                                         return_results=False))"
   ]
  },
  {
   "cell_type": "code",
   "execution_count": 19,
   "id": "e0cfacd6",
   "metadata": {},
   "outputs": [
    {
     "name": "stdout",
     "output_type": "stream",
     "text": [
      "Difference between defaulted clients proportions: 0.025433648764115607\n",
      "Wilson's interval for difference between defaulted clients proportions: (0.015941300964356704, 0.03494048449164513)\n"
     ]
    }
   ],
   "source": [
    "print('Difference between defaulted clients proportions:', \n",
    "      married_df.default.value_counts(normalize=True)[1] -  \n",
    "      single_df.default.value_counts(normalize=True)[1])\n",
    "print(\"Wilson's interval for difference between defaulted clients proportions:\", \n",
    "      confint_proportions_2indep( \n",
    "          married_df.default.value_counts()[1], married_df.shape[0], \n",
    "          single_df.default.value_counts()[1], single_df.shape[0],\n",
    "          method='score', compare='diff'))\n"
   ]
  },
  {
   "cell_type": "markdown",
   "id": "498b749c",
   "metadata": {},
   "source": [
    "From the result of the test we should reject $H_0$ in favor of $H_1$ at 0.05. \n",
    "The p-value is extremely small (<1e-7) for both tests, difference in the proprtions of defaulted clients is 0.0254, Wilson's CI for difference between defaulted clients proportions is (0.015941300964356704, 0.03494048449164513).\n",
    "\n",
    "We can conclude that difference in the proprtions of defaulted clients across two major marital statuses is statistically significant, however, it's not that big in its effect which is shown by the diffrence CI."
   ]
  },
  {
   "cell_type": "markdown",
   "id": "84226422",
   "metadata": {},
   "source": [
    "# Test whether there are differences between mean ages of clients in two groups."
   ]
  },
  {
   "cell_type": "code",
   "execution_count": 20,
   "id": "114632d6",
   "metadata": {},
   "outputs": [
    {
     "data": {
      "image/png": "[encoded data removed]",
      "text/plain": [
       "<Figure size 1080x504 with 2 Axes>"
      ]
     },
     "metadata": {
      "needs_background": "light"
     },
     "output_type": "display_data"
    }
   ],
   "source": [
    "fig, (ax1,ax2) = plt.subplots(1,2,figsize=(15,7))\n",
    "df.hist('AGE', by='default', ax=[ax1, ax2],  color=['lightgrey'])\n",
    "ax1.set_title('Defaulted Age',)\n",
    "ax1.set_xlim(0, df.AGE.max())\n",
    "ax2.set_title('Not Defaulted Age')\n",
    "ax2.set_xlim(0, df.AGE.max())\n",
    "\n",
    "plt.show()"
   ]
  },
  {
   "cell_type": "code",
   "execution_count": 21,
   "id": "493476a1",
   "metadata": {},
   "outputs": [
    {
     "data": {
      "image/png": "[encoded data removed]",
      "text/plain": [
       "<Figure size 864x720 with 2 Axes>"
      ]
     },
     "metadata": {
      "needs_background": "light"
     },
     "output_type": "display_data"
    }
   ],
   "source": [
    "plt.figure(figsize=(12,10))\n",
    "plt.subplot(2,2,1)\n",
    "stats.probplot(default.AGE, dist=\"norm\", plot=plt)\n",
    "plt.subplot(2,2,2)\n",
    "stats.probplot(non_default.AGE, dist=\"norm\", plot=plt)\n",
    "plt.show()"
   ]
  },
  {
   "cell_type": "markdown",
   "id": "e853b626",
   "metadata": {},
   "source": [
    "**Samples:** the samples represent age provided for defaulted and non-defaulted clients respectively. It's a two-samples question.\n",
    "\n",
    "**Measurement scale:** The target variable of interest - age - is a continuous one.\n",
    "\n",
    "**Assumptions:** Distribution of age in both groups is rather right-skewed. However, we have many samples to assure that Central Limit Theorem works. Thus we can assume that the distribution of sample means is aprroximately normal.\n",
    "\n",
    "**Statistical test:** As we are comparing the means and have large sample sizes (and rather normal distribution), let's use t-test for the means. \n",
    "\n",
    "**Hypotheses**: \n",
    "$H_0\\colon \\mu_1 = \\mu_2$ (Average ages are equal for defaulted and non-defaulted clients).\n",
    "\n",
    "$H_1\\colon \\mu_1 \\ne \\mu_2$ (Not equal)."
   ]
  },
  {
   "cell_type": "code",
   "execution_count": 22,
   "id": "24cd1672",
   "metadata": {},
   "outputs": [
    {
     "name": "stdout",
     "output_type": "stream",
     "text": [
      "T test: Ttest_indResult(statistic=2.3195212416592628, pvalue=0.02038649025587463)\n"
     ]
    }
   ],
   "source": [
    "print('T test:', stats.ttest_ind(default.AGE, non_default.AGE, equal_var = False))"
   ]
  },
  {
   "cell_type": "code",
   "execution_count": 23,
   "id": "97a3fb39",
   "metadata": {},
   "outputs": [
    {
     "name": "stdout",
     "output_type": "stream",
     "text": [
      "Difference between sample means: 0.308472517494188\n",
      "95% confidence interval for the difference: [0.047786, 0.569159]\n"
     ]
    }
   ],
   "source": [
    "cm = CompareMeans(DescrStatsW(default.AGE), DescrStatsW(non_default.AGE))\n",
    "print('Difference between sample means:', default.AGE.mean() - non_default.AGE.mean())\n",
    "print(\"95%% confidence interval for the difference: [%f, %f]\" % cm.tconfint_diff(usevar='unequal'))"
   ]
  },
  {
   "cell_type": "markdown",
   "id": "a52d39df",
   "metadata": {},
   "source": [
    "From the result of the test we should reject $H_0$ in favor of $H_1$ at 0.05. \n",
    "The p-value is 0.02, difference of sample means is 0.3085, CI for difference is [0.047786, 0.569159].\n",
    "We can conclude that difference in the ages is statistically significant, however, it's not that big in its size which is shown by the diffrence CI."
   ]
  },
  {
   "cell_type": "code",
   "execution_count": null,
   "id": "69308716",
   "metadata": {},
   "outputs": [],
   "source": []
  }
 ],
 "metadata": {
  "kernelspec": {
   "display_name": "Python 3 (ipykernel)",
   "language": "python",
   "name": "python3"
  },
  "language_info": {
   "codemirror_mode": {
    "name": "ipython",
    "version": 3
   },
   "file_extension": ".py",
   "mimetype": "text/x-python",
   "name": "python",
   "nbconvert_exporter": "python",
   "pygments_lexer": "ipython3",
   "version": "3.7.10"
  }
 },
 "nbformat": 4,
 "nbformat_minor": 5
}
