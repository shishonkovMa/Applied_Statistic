{
 "cells": [
  {
   "cell_type": "code",
   "execution_count": 1,
   "id": "bbef9ef8",
   "metadata": {},
   "outputs": [],
   "source": [
    "import numpy as np\n",
    "import pandas as pd\n",
    "from scipy import stats\n",
    "import matplotlib.pyplot as plt\n",
    "\n",
    "%matplotlib inline"
   ]
  },
  {
   "cell_type": "code",
   "execution_count": 2,
   "id": "01a93c4e",
   "metadata": {},
   "outputs": [],
   "source": [
    "data = pd.read_csv('credit_card_default_analysis.csv')"
   ]
  },
  {
   "cell_type": "code",
   "execution_count": 3,
   "id": "b833ba9e",
   "metadata": {},
   "outputs": [
    {
     "data": {
      "text/html": [
       "<div>\n",
       "<style scoped>\n",
       "    .dataframe tbody tr th:only-of-type {\n",
       "        vertical-align: middle;\n",
       "    }\n",
       "\n",
       "    .dataframe tbody tr th {\n",
       "        vertical-align: top;\n",
       "    }\n",
       "\n",
       "    .dataframe thead th {\n",
       "        text-align: right;\n",
       "    }\n",
       "</style>\n",
       "<table border=\"1\" class=\"dataframe\">\n",
       "  <thead>\n",
       "    <tr style=\"text-align: right;\">\n",
       "      <th></th>\n",
       "      <th>ID</th>\n",
       "      <th>LIMIT_BAL</th>\n",
       "      <th>GENDER</th>\n",
       "      <th>EDUCATION</th>\n",
       "      <th>MARITAL</th>\n",
       "      <th>AGE</th>\n",
       "      <th>PAY_SEP</th>\n",
       "      <th>PAY_AUG</th>\n",
       "      <th>PAY_JUL</th>\n",
       "      <th>PAY_JUN</th>\n",
       "      <th>...</th>\n",
       "      <th>BILL_JUN</th>\n",
       "      <th>BILL_MAY</th>\n",
       "      <th>BILL_APR</th>\n",
       "      <th>PAY_SEP.1</th>\n",
       "      <th>PAY_AUG.1</th>\n",
       "      <th>PAY_JUL.1</th>\n",
       "      <th>PAY_JUN.1</th>\n",
       "      <th>PAY_MAY.1</th>\n",
       "      <th>PAY_APR.1</th>\n",
       "      <th>default</th>\n",
       "    </tr>\n",
       "  </thead>\n",
       "  <tbody>\n",
       "    <tr>\n",
       "      <th>0</th>\n",
       "      <td>1</td>\n",
       "      <td>20000</td>\n",
       "      <td>2</td>\n",
       "      <td>2</td>\n",
       "      <td>1</td>\n",
       "      <td>24</td>\n",
       "      <td>2</td>\n",
       "      <td>2</td>\n",
       "      <td>0</td>\n",
       "      <td>0</td>\n",
       "      <td>...</td>\n",
       "      <td>0</td>\n",
       "      <td>0</td>\n",
       "      <td>0</td>\n",
       "      <td>0</td>\n",
       "      <td>689</td>\n",
       "      <td>0</td>\n",
       "      <td>0</td>\n",
       "      <td>0</td>\n",
       "      <td>0</td>\n",
       "      <td>1</td>\n",
       "    </tr>\n",
       "    <tr>\n",
       "      <th>1</th>\n",
       "      <td>2</td>\n",
       "      <td>120000</td>\n",
       "      <td>2</td>\n",
       "      <td>2</td>\n",
       "      <td>2</td>\n",
       "      <td>26</td>\n",
       "      <td>0</td>\n",
       "      <td>2</td>\n",
       "      <td>0</td>\n",
       "      <td>0</td>\n",
       "      <td>...</td>\n",
       "      <td>3272</td>\n",
       "      <td>3455</td>\n",
       "      <td>3261</td>\n",
       "      <td>0</td>\n",
       "      <td>1000</td>\n",
       "      <td>1000</td>\n",
       "      <td>1000</td>\n",
       "      <td>0</td>\n",
       "      <td>2000</td>\n",
       "      <td>1</td>\n",
       "    </tr>\n",
       "    <tr>\n",
       "      <th>2</th>\n",
       "      <td>3</td>\n",
       "      <td>90000</td>\n",
       "      <td>2</td>\n",
       "      <td>2</td>\n",
       "      <td>2</td>\n",
       "      <td>34</td>\n",
       "      <td>0</td>\n",
       "      <td>0</td>\n",
       "      <td>0</td>\n",
       "      <td>0</td>\n",
       "      <td>...</td>\n",
       "      <td>14331</td>\n",
       "      <td>14948</td>\n",
       "      <td>15549</td>\n",
       "      <td>1518</td>\n",
       "      <td>1500</td>\n",
       "      <td>1000</td>\n",
       "      <td>1000</td>\n",
       "      <td>1000</td>\n",
       "      <td>5000</td>\n",
       "      <td>0</td>\n",
       "    </tr>\n",
       "    <tr>\n",
       "      <th>3</th>\n",
       "      <td>4</td>\n",
       "      <td>50000</td>\n",
       "      <td>2</td>\n",
       "      <td>2</td>\n",
       "      <td>1</td>\n",
       "      <td>37</td>\n",
       "      <td>0</td>\n",
       "      <td>0</td>\n",
       "      <td>0</td>\n",
       "      <td>0</td>\n",
       "      <td>...</td>\n",
       "      <td>28314</td>\n",
       "      <td>28959</td>\n",
       "      <td>29547</td>\n",
       "      <td>2000</td>\n",
       "      <td>2019</td>\n",
       "      <td>1200</td>\n",
       "      <td>1100</td>\n",
       "      <td>1069</td>\n",
       "      <td>1000</td>\n",
       "      <td>0</td>\n",
       "    </tr>\n",
       "    <tr>\n",
       "      <th>4</th>\n",
       "      <td>5</td>\n",
       "      <td>50000</td>\n",
       "      <td>1</td>\n",
       "      <td>2</td>\n",
       "      <td>1</td>\n",
       "      <td>57</td>\n",
       "      <td>0</td>\n",
       "      <td>0</td>\n",
       "      <td>0</td>\n",
       "      <td>0</td>\n",
       "      <td>...</td>\n",
       "      <td>20940</td>\n",
       "      <td>19146</td>\n",
       "      <td>19131</td>\n",
       "      <td>2000</td>\n",
       "      <td>36681</td>\n",
       "      <td>10000</td>\n",
       "      <td>9000</td>\n",
       "      <td>689</td>\n",
       "      <td>679</td>\n",
       "      <td>0</td>\n",
       "    </tr>\n",
       "  </tbody>\n",
       "</table>\n",
       "<p>5 rows × 25 columns</p>\n",
       "</div>"
      ],
      "text/plain": [
       "   ID  LIMIT_BAL  GENDER  EDUCATION  MARITAL  AGE  PAY_SEP  PAY_AUG  PAY_JUL  \\\n",
       "0   1      20000       2          2        1   24        2        2        0   \n",
       "1   2     120000       2          2        2   26        0        2        0   \n",
       "2   3      90000       2          2        2   34        0        0        0   \n",
       "3   4      50000       2          2        1   37        0        0        0   \n",
       "4   5      50000       1          2        1   57        0        0        0   \n",
       "\n",
       "   PAY_JUN  ...  BILL_JUN  BILL_MAY  BILL_APR  PAY_SEP.1  PAY_AUG.1  \\\n",
       "0        0  ...         0         0         0          0        689   \n",
       "1        0  ...      3272      3455      3261          0       1000   \n",
       "2        0  ...     14331     14948     15549       1518       1500   \n",
       "3        0  ...     28314     28959     29547       2000       2019   \n",
       "4        0  ...     20940     19146     19131       2000      36681   \n",
       "\n",
       "   PAY_JUL.1  PAY_JUN.1  PAY_MAY.1  PAY_APR.1  default  \n",
       "0          0          0          0          0        1  \n",
       "1       1000       1000          0       2000        1  \n",
       "2       1000       1000       1000       5000        0  \n",
       "3       1200       1100       1069       1000        0  \n",
       "4      10000       9000        689        679        0  \n",
       "\n",
       "[5 rows x 25 columns]"
      ]
     },
     "execution_count": 3,
     "metadata": {},
     "output_type": "execute_result"
    }
   ],
   "source": [
    "data.head()"
   ]
  },
  {
   "cell_type": "markdown",
   "id": "7a8f3b5e",
   "metadata": {},
   "source": [
    "## 1. Credit limit tests"
   ]
  },
  {
   "cell_type": "markdown",
   "id": "d0dfd888",
   "metadata": {},
   "source": [
    "#### Assignment\n",
    "1. Credit limit: test whether there are differences between median credit limits of two groups."
   ]
  },
  {
   "cell_type": "code",
   "execution_count": 4,
   "id": "ae71a3a6",
   "metadata": {},
   "outputs": [],
   "source": [
    "credit_limit_default = data[data['default'] == 1]['LIMIT_BAL']\n",
    "credit_limit_no_default = data[data['default'] == 0]['LIMIT_BAL']"
   ]
  },
  {
   "cell_type": "code",
   "execution_count": 5,
   "id": "4ea329a5",
   "metadata": {},
   "outputs": [
    {
     "name": "stdout",
     "output_type": "stream",
     "text": [
      "Median credit limit for default group: 90000.0\n",
      "Median credit limit for no default group: 150000.0\n",
      "Difference in medians between two groups: 60000.0\n"
     ]
    }
   ],
   "source": [
    "print('Median credit limit for default group:', credit_limit_default.median())\n",
    "print('Median credit limit for no default group:', credit_limit_no_default.median())\n",
    "print('Difference in medians between two groups:', credit_limit_no_default.median() - credit_limit_default.median())"
   ]
  },
  {
   "cell_type": "code",
   "execution_count": 6,
   "id": "4b1fc440",
   "metadata": {},
   "outputs": [
    {
     "data": {
      "text/plain": [
       "Text(0.5, 1.0, 'Credit limit distribution without defaults')"
      ]
     },
     "execution_count": 6,
     "metadata": {},
     "output_type": "execute_result"
    },
    {
     "data": {
      "image/png": "[encoded data removed]",
      "text/plain": [
       "<Figure size 720x360 with 2 Axes>"
      ]
     },
     "metadata": {
      "needs_background": "light"
     },
     "output_type": "display_data"
    }
   ],
   "source": [
    "fig, ax = plt.subplots(1, 2, figsize=(10, 5))\n",
    "fig.tight_layout(w_pad=5)\n",
    "\n",
    "ax[0].hist(credit_limit_default / 1000, bins=15, color='r')\n",
    "ax[0].set_ylabel('Number of cardholders', fontsize=12)\n",
    "ax[0].set_xlabel('Credit limit, K NT dollars', fontsize=12)\n",
    "ax[0].set_title('Credit limit distribution with defaults', fontsize=14)\n",
    "ax[1].hist(credit_limit_no_default / 1000,bins=15,  color='b')\n",
    "ax[1].set_ylabel('Number of cardholders', fontsize=12)\n",
    "ax[1].set_xlabel('Credit limit, K NT dollars', fontsize=12)\n",
    "ax[1].set_title('Credit limit distribution without defaults', fontsize=14)"
   ]
  },
  {
   "cell_type": "markdown",
   "id": "14e99dbe",
   "metadata": {},
   "source": [
    "<b> Let us test the following hypothesis:</b><br>\n",
    "$H_0\\colon median_1 = median_0$ Median credit limits are the same for default and no default groups. \n",
    "\n",
    "$H_1\\colon median_1 ≠ median_0$ Median credit limits are not the same for default and no default groups. "
   ]
  },
  {
   "cell_type": "markdown",
   "id": "bf02aaff",
   "metadata": {},
   "source": [
    "<b>Conditions</b>\n",
    "<p>Sample: two independent samples</p>\n",
    "<p>Question: about the average (median)</p>\n",
    "<p>Measurement scale: continuous</p>\n",
    "<p><b>Candidates</b></p>\n",
    "<p>1. t-test</p>\n",
    "<p>2. Mann-Whitney rank test</p>\n",
    "<p>3. permutation test</p>"
   ]
  },
  {
   "cell_type": "code",
   "execution_count": 7,
   "id": "e27a4c1a",
   "metadata": {},
   "outputs": [
    {
     "name": "stdout",
     "output_type": "stream",
     "text": [
      "The size of default sample: 6636\n",
      "The size of no default sample: 23364\n",
      "Standard deviation of default sample: 115378.54\n",
      "Standard deviation of no default sample: 131628.36\n"
     ]
    }
   ],
   "source": [
    "print(f'The size of default sample: {credit_limit_default.shape[0]}\\n'+\\\n",
    "      f'The size of no default sample: {credit_limit_no_default.shape[0]}\\n' +\\\n",
    "      f'Standard deviation of default sample: {credit_limit_default.std():.2f}\\n' +\\\n",
    "      f'Standard deviation of no default sample: {credit_limit_no_default.std():.2f}' )"
   ]
  },
  {
   "cell_type": "markdown",
   "id": "7f650836",
   "metadata": {},
   "source": [
    "We can see that the distribution of the variables is rather skewed and the sample sizes are different. However, the sample sizes are rather large and the deviation of the larger sample is larger. However, t-test is usedd to test hypothesis about the mean and in our task we have medians.<br>"
   ]
  },
  {
   "cell_type": "markdown",
   "id": "3719ca86",
   "metadata": {},
   "source": [
    "### Mann-Whitney rank test"
   ]
  },
  {
   "cell_type": "code",
   "execution_count": 8,
   "id": "fc220a01",
   "metadata": {},
   "outputs": [
    {
     "name": "stdout",
     "output_type": "stream",
     "text": [
      "Mann-Whitney test: MannwhitneyuResult(statistic=59257217.5, pvalue=1.2255485818223303e-189)\n"
     ]
    }
   ],
   "source": [
    "print(\"Mann-Whitney test:\", stats.mannwhitneyu(credit_limit_default, credit_limit_no_default))"
   ]
  },
  {
   "cell_type": "markdown",
   "id": "2e7e6873",
   "metadata": {},
   "source": [
    "### Permutation test"
   ]
  },
  {
   "cell_type": "code",
   "execution_count": 9,
   "id": "24638091",
   "metadata": {},
   "outputs": [],
   "source": [
    "def permutation_t_stat_2s(sample1, sample2):\n",
    "    return np.median(sample1) - np.median(sample2)\n",
    "\n",
    "def get_random_combinations(n1, n2, max_permutations):\n",
    "    index = np.array(range(n1 + n2))\n",
    "    indices = set([tuple(index)])\n",
    "    for i in range(max_permutations - 1):\n",
    "        np.random.shuffle(index)\n",
    "        indices.add(tuple(index))\n",
    "    return [(index[:n1], index[n1:]) for index in indices]\n",
    "\n",
    "def permutation_null_dist_2s(sample1, sample2, max_permutations = None):\n",
    "    pooled_sample = np.hstack((sample1, sample2))\n",
    "    n1 = len(sample1)\n",
    "    n2 = len(sample2)\n",
    "    n = n1 + n2\n",
    "    \n",
    "    if max_permutations:\n",
    "        indices = get_random_combinations(n1, n2, max_permutations)\n",
    "    else:\n",
    "        indices = [(list(index), filter(lambda i: i not in index, range(n))) \\\n",
    "                    for index in itertools.combinations(range(n), n1)]\n",
    "    \n",
    "    distr = [permutation_t_stat_2s(pooled_sample[list(i[0])], pooled_sample[list(i[1])]) \\\n",
    "             for i in indices]\n",
    "    return distr\n",
    "\n",
    "def permutation_test_2s(sample1, sample2, max_permutations = None, alternative = 'two-sided', return_distr = False):\n",
    "    if alternative not in ('two-sided', 'less', 'greater'):\n",
    "        raise ValueError(\"alternative not recognized\\n\"\n",
    "                         \"should be 'two-sided', 'less' or 'greater'\")\n",
    "    \n",
    "    t_stat = permutation_t_stat_2s(sample1, sample2)\n",
    "    \n",
    "    null_distr = permutation_null_dist_2s(sample1, sample2, max_permutations)\n",
    "    \n",
    "    if alternative == 'two-sided':\n",
    "        p = sum([1. if abs(x) >= abs(t_stat) else 0. for x in null_distr]) / len(null_distr)\n",
    "    elif alternative == 'less':\n",
    "        p = sum([1. if x <= t_stat else 0. for x in null_distr]) / len(null_distr)\n",
    "    else: # alternative == 'greater':\n",
    "        p = sum([1. if x >= t_stat else 0. for x in null_distr]) / len(null_distr)\n",
    "    \n",
    "    if return_distr:\n",
    "        return {'t': t_stat, 'p': p, 'null_distr': null_distr}\n",
    "    else:\n",
    "        return {'t': t_stat, 'p': p}"
   ]
  },
  {
   "cell_type": "code",
   "execution_count": 10,
   "id": "7b65fa9d",
   "metadata": {},
   "outputs": [
    {
     "name": "stdout",
     "output_type": "stream",
     "text": [
      "Permutation test: t = -60000.000000, p = 0.000100\n"
     ]
    }
   ],
   "source": [
    "res = permutation_test_2s(credit_limit_default, credit_limit_no_default, max_permutations = 10000, return_distr = True)\n",
    "print(\"Permutation test: t = %f, p = %f\" % (res['t'], res['p']))"
   ]
  },
  {
   "cell_type": "markdown",
   "id": "99961b15",
   "metadata": {},
   "source": [
    "Null distribution of the permutation test statistic for our data:"
   ]
  },
  {
   "cell_type": "code",
   "execution_count": 11,
   "id": "f629ba4e",
   "metadata": {},
   "outputs": [
    {
     "data": {
      "image/png": "[encoded data removed]",
      "text/plain": [
       "<Figure size 432x288 with 1 Axes>"
      ]
     },
     "metadata": {
      "needs_background": "light"
     },
     "output_type": "display_data"
    }
   ],
   "source": [
    "plt.hist(res['null_distr'], bins=15);"
   ]
  },
  {
   "cell_type": "markdown",
   "id": "b0d509e6",
   "metadata": {},
   "source": [
    "The distribution doesn't look very symmetric. Thus, we will use the results of Mann-Whitney rank test"
   ]
  },
  {
   "cell_type": "markdown",
   "id": "9f1cf2b5",
   "metadata": {},
   "source": [
    "<b>Confidence intervals</b>"
   ]
  },
  {
   "cell_type": "code",
   "execution_count": 12,
   "id": "2f4700b6",
   "metadata": {},
   "outputs": [
    {
     "name": "stdout",
     "output_type": "stream",
     "text": [
      "95% confidence interval for Default group median: (87223.49042765315, 92776.50957234685)\n",
      "95% confidence interval for No default group median: (148312.10097837186, 151687.89902162814)\n"
     ]
    }
   ],
   "source": [
    "from statsmodels.stats.weightstats import _tconfint_generic\n",
    "n_1 = len(credit_limit_default)\n",
    "print(\"95% confidence interval for Default group median:\", _tconfint_generic(credit_limit_default.median(), \n",
    "                                                    credit_limit_default.std(ddof=1) / np.sqrt(n_1),\n",
    "                                                    dof = n_1-1,\n",
    "                                                    alpha=0.05,\n",
    "                                                    alternative = 'two-sided'))\n",
    "n_0 = len(credit_limit_no_default)\n",
    "print(\"95% confidence interval for No default group median:\", _tconfint_generic(credit_limit_no_default.median(), \n",
    "                                                    credit_limit_no_default.std(ddof=1) / np.sqrt(n_0),\n",
    "                                                    dof = n_0-1,\n",
    "                                                    alpha=0.05,\n",
    "                                                    alternative = 'two-sided'))\n"
   ]
  },
  {
   "cell_type": "code",
   "execution_count": 13,
   "id": "4f7114a5",
   "metadata": {},
   "outputs": [],
   "source": [
    "def get_bootstrap_samples(x, n_resamples):\n",
    "    indices = np.random.randint(0, len(x), (n_resamples, len(x)))\n",
    "    resamples = x[indices]\n",
    "    return resamples\n",
    "\n",
    "def percentile_interval(stat, alpha):\n",
    "    boundaries = np.percentile(stat, [100 * alpha / 2., 100 * (1 - alpha / 2.)])\n",
    "    return boundaries"
   ]
  },
  {
   "cell_type": "code",
   "execution_count": 14,
   "id": "8aec35b1",
   "metadata": {},
   "outputs": [
    {
     "name": "stdout",
     "output_type": "stream",
     "text": [
      "95% confidence interval for the difference in mean age between groups: [-70000. -60000.]\n"
     ]
    }
   ],
   "source": [
    "np.random.seed(0)\n",
    "\n",
    "default_median_scores = list(map(np.median, get_bootstrap_samples(credit_limit_default.values, 5000)))\n",
    "no_default_median_scores = list(map(np.median, get_bootstrap_samples(credit_limit_no_default.values, 5000)))\n",
    "\n",
    "print(\"95% confidence interval for the difference in mean age between groups:\",  \n",
    "      percentile_interval(np.array(default_median_scores) - np.array(no_default_median_scores), 0.05))"
   ]
  },
  {
   "cell_type": "markdown",
   "id": "df71923d",
   "metadata": {},
   "source": [
    "#### Effect size"
   ]
  },
  {
   "cell_type": "code",
   "execution_count": 15,
   "id": "025b6854",
   "metadata": {},
   "outputs": [
    {
     "name": "stdout",
     "output_type": "stream",
     "text": [
      "0.5200273786001954\n"
     ]
    }
   ],
   "source": [
    "# Cohen’s d\n",
    "d_1 = abs((credit_limit_default.median() - credit_limit_no_default.median())) / credit_limit_default.std(ddof=1)\n",
    "print(d_1)"
   ]
  },
  {
   "cell_type": "markdown",
   "id": "a5c25ea9",
   "metadata": {},
   "source": [
    "<b>Conclusion</b><br>\n",
    "The $H_0$ hypothesis that $median_1 = median_0$ can be rejected at 95% confidence level. The difference of the median credit limits between the default and no default groups is statistically significant: according to Mann Whitney tests, p-value for two-sided alternative is p=1.23e-189, which is less than the significance level of 0.05. Median credit limit for no default group is 60000 NT dollars higher than the median credit limit for default group. The confidence intervals for the median of these two groups do not intersect. And the confidence interval for the difference is [-70000; -60000].<br>\n",
    "The effect size, according to Cohen's, is 0.52 which is medium size effect. Thus, we can conclude that default borrowers tend to have lower credit limits."
   ]
  },
  {
   "cell_type": "markdown",
   "id": "423128db",
   "metadata": {},
   "source": [
    "## Gender tests"
   ]
  },
  {
   "cell_type": "markdown",
   "id": "d7bdf829",
   "metadata": {},
   "source": [
    "#### Assignment\n",
    "2. Gender: test whether gender composition of two groups differ."
   ]
  },
  {
   "cell_type": "code",
   "execution_count": 16,
   "id": "149275ec",
   "metadata": {},
   "outputs": [],
   "source": [
    "gender_default = data[data['default'] == 1]['GENDER']\n",
    "gender_no_default = data[data['default'] == 0]['GENDER']"
   ]
  },
  {
   "cell_type": "code",
   "execution_count": 17,
   "id": "2f9642f1",
   "metadata": {},
   "outputs": [],
   "source": [
    "default_female, default_male = gender_default.value_counts()"
   ]
  },
  {
   "cell_type": "code",
   "execution_count": 18,
   "id": "326160f1",
   "metadata": {},
   "outputs": [],
   "source": [
    "no_default_female, no_default_male = gender_no_default.value_counts()"
   ]
  },
  {
   "cell_type": "code",
   "execution_count": 19,
   "id": "c5cbf270",
   "metadata": {},
   "outputs": [
    {
     "name": "stdout",
     "output_type": "stream",
     "text": [
      "Proportion of women in default group: 56.71%\n",
      "Proportion of women in no default group: 61.41%\n",
      "Difference in proportions between two groups: 4.71 p.p.\n"
     ]
    }
   ],
   "source": [
    "print('Proportion of women in default group: ', round(100 * default_female / (default_female + default_male), 2), '%', sep='')\n",
    "print('Proportion of women in no default group: ', round(100 * no_default_female / (no_default_female + no_default_male), 2),\n",
    "      '%', sep='')\n",
    "print('Difference in proportions between two groups: ', round(100 * abs((default_female / (default_female + default_male)) - \n",
    "     no_default_female / (no_default_female + no_default_male)), 2), ' p.p.', sep='')"
   ]
  },
  {
   "cell_type": "code",
   "execution_count": 20,
   "id": "46f67038",
   "metadata": {
    "scrolled": true
   },
   "outputs": [
    {
     "data": {
      "image/png": "[encoded data removed]",
      "text/plain": [
       "<Figure size 720x360 with 2 Axes>"
      ]
     },
     "metadata": {
      "needs_background": "light"
     },
     "output_type": "display_data"
    }
   ],
   "source": [
    "fig, ax = plt.subplots(1, 2, figsize=(10, 5))\n",
    "fig.tight_layout(w_pad=5)\n",
    "\n",
    "ax[0].bar(['female', 'male'], [default_female / (default_female + default_male), \n",
    "          default_male / (default_female + default_male)], color='r')\n",
    "ax[0].set_ylabel('Percent, %', fontsize=12)\n",
    "ax[0].set_title('Proportion of male and female borrowers, default', fontsize=14)\n",
    "ax[1].bar(['female', 'male'], [no_default_female / (no_default_female + no_default_male), \n",
    "          no_default_male / (no_default_female + no_default_male)], color='b')\n",
    "ax[1].set_ylabel('Percent, %', fontsize=12)\n",
    "ax[1].set_title('Proportion of male and female borrowers, no default', fontsize=14);"
   ]
  },
  {
   "cell_type": "markdown",
   "id": "b1d5bc23",
   "metadata": {},
   "source": [
    "<b>Let us test the following hypothesis:</b>\n",
    "\n",
    "$H_0\\colon p_1 = p_0$ <br>\n",
    "$H_1\\colon p_1 ≠ p_0$, <br>\n",
    "where p_1 is the proportion of women in the default group and p_0 is the proportion of women in no default group.\n",
    "\n",
    "<b>Conditions</b>\n",
    "\n",
    "Sample: two independent samples\n",
    "\n",
    "Question: about proportions\n",
    "\n",
    "Measurement scale: binary\n",
    "\n",
    "<b>Candidates</b>\n",
    "\n",
    "1. Wald test\n",
    "\n",
    "2. Wilson test\n",
    "\n",
    "3. Likelihood ratio test"
   ]
  },
  {
   "cell_type": "markdown",
   "id": "2142cfab",
   "metadata": {},
   "source": [
    "### Wald's test"
   ]
  },
  {
   "cell_type": "code",
   "execution_count": 21,
   "id": "dd5feb01",
   "metadata": {},
   "outputs": [
    {
     "name": "stdout",
     "output_type": "stream",
     "text": [
      "Wald's test: (-6.858927391448388, 6.9379488648039966e-12)\n"
     ]
    }
   ],
   "source": [
    "from statsmodels.stats.proportion import test_proportions_2indep\n",
    "\n",
    "print(\"Wald's test:\", test_proportions_2indep(default_female, (default_female + default_male), \n",
    "                                         no_default_female, (no_default_female + no_default_male), \n",
    "                                         alternative = 'two-sided', method = 'wald',  return_results=False))"
   ]
  },
  {
   "cell_type": "markdown",
   "id": "9be76299",
   "metadata": {},
   "source": [
    "<b>Confiddence interval for the difference</b>"
   ]
  },
  {
   "cell_type": "code",
   "execution_count": 22,
   "id": "38cd6d85",
   "metadata": {},
   "outputs": [
    {
     "name": "stdout",
     "output_type": "stream",
     "text": [
      "Wald's interval: (-0.060548077974896725, -0.03363493274962867)\n"
     ]
    }
   ],
   "source": [
    "from statsmodels.stats.proportion import confint_proportions_2indep\n",
    "\n",
    "print(\"Wald's interval:\", confint_proportions_2indep(default_female, (default_female + default_male), \n",
    "                                                     no_default_female, (no_default_female + no_default_male), \n",
    "                                                     method = 'wald', compare='diff'))"
   ]
  },
  {
   "cell_type": "markdown",
   "id": "6e945785",
   "metadata": {},
   "source": [
    "### Wilson's test"
   ]
  },
  {
   "cell_type": "code",
   "execution_count": 23,
   "id": "514a6f7a",
   "metadata": {},
   "outputs": [
    {
     "name": "stdout",
     "output_type": "stream",
     "text": [
      "Wilson's test: (-6.921259731350102, 4.4764487319331085e-12)\n"
     ]
    }
   ],
   "source": [
    "print(\"Wilson's test:\", test_proportions_2indep(default_female, (default_female + default_male), \n",
    "                                         no_default_female, (no_default_female + no_default_male), \n",
    "                                         alternative = 'two-sided', method = 'score',  return_results=False))"
   ]
  },
  {
   "cell_type": "code",
   "execution_count": 24,
   "id": "90c6d428",
   "metadata": {},
   "outputs": [
    {
     "name": "stdout",
     "output_type": "stream",
     "text": [
      "Wilson's interval: (-0.06058281496669314, -0.03365945358802056)\n"
     ]
    }
   ],
   "source": [
    "print(\"Wilson's interval:\", confint_proportions_2indep(default_female, (default_female + default_male), \n",
    "                                                     no_default_female, (no_default_female + no_default_male), \n",
    "                                                     method = 'score', compare='diff'))"
   ]
  },
  {
   "cell_type": "markdown",
   "id": "d9eb907b",
   "metadata": {},
   "source": [
    "#### Effect size"
   ]
  },
  {
   "cell_type": "code",
   "execution_count": 25,
   "id": "7a69c90b",
   "metadata": {},
   "outputs": [
    {
     "name": "stdout",
     "output_type": "stream",
     "text": [
      "0.09580886242615905\n"
     ]
    }
   ],
   "source": [
    "#  Cohen's h\n",
    "\n",
    "h_2 = abs(2*np.arcsin(np.sqrt(default_female / (default_female + default_male))) \n",
    "          - 2*np.arcsin(np.sqrt(no_default_female / (no_default_female + no_default_male))))\n",
    "print(h_2)"
   ]
  },
  {
   "cell_type": "markdown",
   "id": "9ed10e75",
   "metadata": {},
   "source": [
    "<b>Conclusion</b><br>\n",
    "The $H_0$ hypothesis that $p_1=p_0$ can be rejected at 95% confidence level. The difference of the gender composition of two groups is statistically significant, according to Wald and Wilson tests (p-values for two-sided alternative are p=6.94e-12 and p=4.48e-12 accordingly, which is less than the signifficance level of 0.05), taking into account that Wilson's test is more accurate. The difference in proportions of female borrowers between two groups is 4.71 percentage points (the proportion of female borrowers in no default group is larger). And the confidence intervals for this difference is [3.34; 6.1] percentage points.<br>\n",
    "So, compostion of two groups differs and this difference is statistically significant. However, the effect size, according to Cohen's h, is small (0.1) and we can say that the difference in proportions is not practically significant."
   ]
  },
  {
   "cell_type": "markdown",
   "id": "aa9f9226",
   "metadata": {},
   "source": [
    "## Education tests"
   ]
  },
  {
   "cell_type": "markdown",
   "id": "1a988bfb",
   "metadata": {},
   "source": [
    "#### Assignment\n",
    "3. Education: test whether education levels differs between two groups. If it does, then how exactly?"
   ]
  },
  {
   "cell_type": "code",
   "execution_count": 26,
   "id": "a94ba6dc",
   "metadata": {},
   "outputs": [],
   "source": [
    "education_default = data[data['default'] == 1]['EDUCATION']\n",
    "education_no_default = data[data['default'] == 0]['EDUCATION']"
   ]
  },
  {
   "cell_type": "code",
   "execution_count": 27,
   "id": "988a8c9a",
   "metadata": {},
   "outputs": [],
   "source": [
    "num_default = len(education_default)\n",
    "num_no_default = len(education_no_default)"
   ]
  },
  {
   "cell_type": "code",
   "execution_count": 28,
   "id": "b79af940",
   "metadata": {},
   "outputs": [],
   "source": [
    "d_freq = education_default.value_counts().sort_index() / num_default\n",
    "d_freq[0] = 0.0\n",
    "d_freq = d_freq.sort_index()\n",
    "n_freq = education_no_default.value_counts().sort_index() / num_no_default"
   ]
  },
  {
   "cell_type": "code",
   "execution_count": 29,
   "id": "89586e8a",
   "metadata": {},
   "outputs": [
    {
     "data": {
      "text/plain": [
       "Text(0.5, 1.0, \"Proportions of borrower' levels of education, no default\")"
      ]
     },
     "execution_count": 29,
     "metadata": {},
     "output_type": "execute_result"
    },
    {
     "data": {
      "image/png": "[encoded data removed]",
      "text/plain": [
       "<Figure size 1080x360 with 2 Axes>"
      ]
     },
     "metadata": {
      "needs_background": "light"
     },
     "output_type": "display_data"
    }
   ],
   "source": [
    "fig, ax = plt.subplots(1, 2, figsize=(15, 5))\n",
    "fig.tight_layout(w_pad=5)\n",
    "\n",
    "ax[0].bar(['doctorate', 'masters', 'bachelor', 'school \\ngraduate', 'elementary \\neducation', 'other',  'no data'], \n",
    "          d_freq * 100, color='r')\n",
    "ax[0].set_ylabel('Percent, %', fontsize=12)\n",
    "ax[0].set_title('Proportions of borrower\\' levels of education, default', fontsize=14)\n",
    "ax[1].bar(['doctorate', 'masters', 'bachelor', 'school \\ngraduate', 'elementary \\neducation', 'other',  'no data'], \n",
    "          n_freq * 100, color='b')\n",
    "ax[1].set_ylabel('Percent, %', fontsize=12)\n",
    "ax[1].set_title('Proportions of borrower\\' levels of education, no default', fontsize=14)"
   ]
  },
  {
   "cell_type": "code",
   "execution_count": 30,
   "id": "27b17dfe",
   "metadata": {},
   "outputs": [
    {
     "name": "stdout",
     "output_type": "stream",
     "text": [
      "Difference in percentage points of education levels between two groups:\n",
      "0    0.06\n",
      "1    5.91\n",
      "2    4.38\n",
      "3    2.89\n",
      "4    0.39\n",
      "5    0.85\n",
      "6    0.06\n",
      "Name: EDUCATION, dtype: float64\n"
     ]
    }
   ],
   "source": [
    "print('Difference in percentage points of education levels between two groups:\\n', round(abs(d_freq - n_freq) * 100, 2), sep='')"
   ]
  },
  {
   "cell_type": "markdown",
   "id": "9e0bf598",
   "metadata": {},
   "source": [
    "<b>Let us test the following hypothesis:</b>\n",
    "\n",
    "$H_0\\colon$ education level and default of the borrower are independent <br>\n",
    "$H_1\\colon$ education level and default of the borrower are not independent<br>\n",
    "\n",
    "<b>Conditions</b>\n",
    "\n",
    "Sample: two variables for one sample\n",
    "\n",
    "Question: dependence of the variables\n",
    "\n",
    "Measurement scale: binary and categorical\n",
    "\n",
    "<b>Candidates</b>\n",
    "\n",
    "1. Chi squared test for independence\n",
    "\n",
    "2. Permutation test for independence"
   ]
  },
  {
   "cell_type": "markdown",
   "id": "badd1766",
   "metadata": {},
   "source": [
    "### Chi squared test for independence¶"
   ]
  },
  {
   "cell_type": "code",
   "execution_count": 31,
   "id": "bbc2faf5",
   "metadata": {},
   "outputs": [],
   "source": [
    "education_ct = pd.crosstab(data.EDUCATION, data.default)\n",
    "education_ct.rename(index={0: 'doctorate', 1: 'masters', 2: 'bachelor', 3: 'school graduate', \n",
    "                           4: 'elementary education', 5: 'other',  6: 'no data'}, \n",
    "                  columns={0: 'No default', 1: 'Default'}, inplace=True)"
   ]
  },
  {
   "cell_type": "code",
   "execution_count": 32,
   "id": "02584404",
   "metadata": {},
   "outputs": [
    {
     "data": {
      "text/html": [
       "<div>\n",
       "<style scoped>\n",
       "    .dataframe tbody tr th:only-of-type {\n",
       "        vertical-align: middle;\n",
       "    }\n",
       "\n",
       "    .dataframe tbody tr th {\n",
       "        vertical-align: top;\n",
       "    }\n",
       "\n",
       "    .dataframe thead th {\n",
       "        text-align: right;\n",
       "    }\n",
       "</style>\n",
       "<table border=\"1\" class=\"dataframe\">\n",
       "  <thead>\n",
       "    <tr style=\"text-align: right;\">\n",
       "      <th>default</th>\n",
       "      <th>No default</th>\n",
       "      <th>Default</th>\n",
       "    </tr>\n",
       "    <tr>\n",
       "      <th>EDUCATION</th>\n",
       "      <th></th>\n",
       "      <th></th>\n",
       "    </tr>\n",
       "  </thead>\n",
       "  <tbody>\n",
       "    <tr>\n",
       "      <th>doctorate</th>\n",
       "      <td>14</td>\n",
       "      <td>0</td>\n",
       "    </tr>\n",
       "    <tr>\n",
       "      <th>masters</th>\n",
       "      <td>8549</td>\n",
       "      <td>2036</td>\n",
       "    </tr>\n",
       "    <tr>\n",
       "      <th>bachelor</th>\n",
       "      <td>10700</td>\n",
       "      <td>3330</td>\n",
       "    </tr>\n",
       "    <tr>\n",
       "      <th>school graduate</th>\n",
       "      <td>3680</td>\n",
       "      <td>1237</td>\n",
       "    </tr>\n",
       "    <tr>\n",
       "      <th>elementary education</th>\n",
       "      <td>116</td>\n",
       "      <td>7</td>\n",
       "    </tr>\n",
       "    <tr>\n",
       "      <th>other</th>\n",
       "      <td>262</td>\n",
       "      <td>18</td>\n",
       "    </tr>\n",
       "    <tr>\n",
       "      <th>no data</th>\n",
       "      <td>43</td>\n",
       "      <td>8</td>\n",
       "    </tr>\n",
       "  </tbody>\n",
       "</table>\n",
       "</div>"
      ],
      "text/plain": [
       "default               No default  Default\n",
       "EDUCATION                                \n",
       "doctorate                     14        0\n",
       "masters                     8549     2036\n",
       "bachelor                   10700     3330\n",
       "school graduate             3680     1237\n",
       "elementary education         116        7\n",
       "other                        262       18\n",
       "no data                       43        8"
      ]
     },
     "execution_count": 32,
     "metadata": {},
     "output_type": "execute_result"
    }
   ],
   "source": [
    "education_ct"
   ]
  },
  {
   "cell_type": "markdown",
   "id": "a109ef3d",
   "metadata": {},
   "source": [
    "We can see that our table is not dense enough and chi squared test might not work for it"
   ]
  },
  {
   "cell_type": "code",
   "execution_count": 33,
   "id": "b822140b",
   "metadata": {},
   "outputs": [
    {
     "data": {
      "text/plain": [
       "(163.21655786997073,\n",
       " 1.2332626245415605e-32,\n",
       " 6,\n",
       " array([[1.0903200e+01, 3.0968000e+00],\n",
       "        [8.2435980e+03, 2.3414020e+03],\n",
       "        [1.0926564e+04, 3.1034360e+03],\n",
       "        [3.8293596e+03, 1.0876404e+03],\n",
       "        [9.5792400e+01, 2.7207600e+01],\n",
       "        [2.1806400e+02, 6.1936000e+01],\n",
       "        [3.9718800e+01, 1.1281200e+01]]))"
      ]
     },
     "execution_count": 33,
     "metadata": {},
     "output_type": "execute_result"
    }
   ],
   "source": [
    "stats.chi2_contingency(education_ct)"
   ]
  },
  {
   "cell_type": "markdown",
   "id": "0b9bca4c",
   "metadata": {},
   "source": [
    "Indeed, we have values lower than 5 in the expected count. Thus, let us do Permutation test for independence"
   ]
  },
  {
   "cell_type": "markdown",
   "id": "2e1e1914",
   "metadata": {},
   "source": [
    "### Permutation test for independence"
   ]
  },
  {
   "cell_type": "code",
   "execution_count": 34,
   "id": "7d62607e",
   "metadata": {},
   "outputs": [],
   "source": [
    "def permutation_stat_cat_ind(sample1, sample2):\n",
    "    ct = pd.crosstab(sample1, sample2)\n",
    "    return stats.chi2_contingency(ct)[0]\n",
    "\n",
    "def get_random_permutations(n, max_permutations):\n",
    "    index = np.array(range(n))\n",
    "    indices = set([tuple(index)])        \n",
    "    for i in range(max_permutations - 1):\n",
    "        np.random.shuffle(index)\n",
    "        indices.add(tuple(index))\n",
    "    return list(indices)\n",
    "\n",
    "def permutation_null_dist_cat_ind(sample1, sample2, max_permutations = None):\n",
    "    if not len(sample1) == len(sample2):\n",
    "        raise ValueError(\"Samples should be paired and have the same size\")\n",
    "        \n",
    "    n = len(sample1)\n",
    "    \n",
    "    if max_permutations:\n",
    "        indices = get_random_permutations(n, max_permutations)\n",
    "    else:\n",
    "        indices = list(itertools.permutations(list(range(n))))\n",
    "    \n",
    "    distr = [permutation_stat_cat_ind(sample1, sample2[list(i)]) for i in indices]\n",
    "    return distr\n",
    "\n",
    "def permutation_test_cat_ind(sample1, sample2, max_permutations = None, return_distr = False):    \n",
    "    t_stat = permutation_stat_cat_ind(sample1, sample2)\n",
    "    \n",
    "    null_distr = permutation_null_dist_cat_ind(sample1, sample2, max_permutations)\n",
    "    \n",
    "    p = sum([1. if x >= t_stat else 0. for x in null_distr]) / len(null_distr)\n",
    "        \n",
    "    if return_distr:\n",
    "        return {'t': t_stat, 'p': p, 'null_distr': null_distr}\n",
    "    else:\n",
    "        return {'t': t_stat, 'p': p}"
   ]
  },
  {
   "cell_type": "code",
   "execution_count": 35,
   "id": "4072f5f0",
   "metadata": {},
   "outputs": [
    {
     "name": "stdout",
     "output_type": "stream",
     "text": [
      "Permutation test: t = 163.216558, p = 0.000100\n"
     ]
    }
   ],
   "source": [
    "res = permutation_test_cat_ind(data.EDUCATION.values, data.default.values, \n",
    "                              max_permutations = 10000, return_distr = True)\n",
    "print(\"Permutation test: t = %f, p = %f\" % (res['t'], res['p']))"
   ]
  },
  {
   "cell_type": "code",
   "execution_count": 36,
   "id": "0bedd648",
   "metadata": {},
   "outputs": [
    {
     "data": {
      "image/png": "[encoded data removed]",
      "text/plain": [
       "<Figure size 432x288 with 1 Axes>"
      ]
     },
     "metadata": {
      "needs_background": "light"
     },
     "output_type": "display_data"
    }
   ],
   "source": [
    "plt.hist(res['null_distr'], bins = 100);"
   ]
  },
  {
   "cell_type": "markdown",
   "id": "80512304",
   "metadata": {},
   "source": [
    "P-value p = 0.000100 is lower than 0.05, thus the $H_0$ hypothesis can be rejected and education and default variables are not independent"
   ]
  },
  {
   "cell_type": "markdown",
   "id": "77151d15",
   "metadata": {},
   "source": [
    "### Follow-up: standardized Pearson residuals¶"
   ]
  },
  {
   "cell_type": "code",
   "execution_count": 37,
   "id": "11458b6f",
   "metadata": {},
   "outputs": [],
   "source": [
    "def st_pearson_residuals(ct):\n",
    "    e = stats.chi2_contingency(ct)[3]\n",
    "    r = e\n",
    "    n_plus_j = ct.sum(axis=0)\n",
    "    n_i_plus = ct.sum(axis=1)\n",
    "    n = sum(n_plus_j)\n",
    "    for i in range(len(n_i_plus)):\n",
    "        for j in range(len(n_plus_j)):\n",
    "            r[i,j] = (ct.values[i,j] - e[i,j]) / np.sqrt(e[i,j] * (1 - n_i_plus[i] / n) * (1 - n_plus_j[j] / n))\n",
    "    return pd.DataFrame(data=r, index = ct.index, columns = ct.columns)"
   ]
  },
  {
   "cell_type": "code",
   "execution_count": 38,
   "id": "f6213206",
   "metadata": {},
   "outputs": [
    {
     "data": {
      "text/html": [
       "<div>\n",
       "<style scoped>\n",
       "    .dataframe tbody tr th:only-of-type {\n",
       "        vertical-align: middle;\n",
       "    }\n",
       "\n",
       "    .dataframe tbody tr th {\n",
       "        vertical-align: top;\n",
       "    }\n",
       "\n",
       "    .dataframe thead th {\n",
       "        text-align: right;\n",
       "    }\n",
       "</style>\n",
       "<table border=\"1\" class=\"dataframe\">\n",
       "  <thead>\n",
       "    <tr style=\"text-align: right;\">\n",
       "      <th>default</th>\n",
       "      <th>No default</th>\n",
       "      <th>Default</th>\n",
       "    </tr>\n",
       "    <tr>\n",
       "      <th>EDUCATION</th>\n",
       "      <th></th>\n",
       "      <th></th>\n",
       "    </tr>\n",
       "  </thead>\n",
       "  <tbody>\n",
       "    <tr>\n",
       "      <th>doctorate</th>\n",
       "      <td>1.994550</td>\n",
       "      <td>-1.994550</td>\n",
       "    </tr>\n",
       "    <tr>\n",
       "      <th>masters</th>\n",
       "      <td>8.890227</td>\n",
       "      <td>-8.890227</td>\n",
       "    </tr>\n",
       "    <tr>\n",
       "      <th>bachelor</th>\n",
       "      <td>-6.316328</td>\n",
       "      <td>6.316328</td>\n",
       "    </tr>\n",
       "    <tr>\n",
       "      <th>school graduate</th>\n",
       "      <td>-5.612397</td>\n",
       "      <td>5.612397</td>\n",
       "    </tr>\n",
       "    <tr>\n",
       "      <th>elementary education</th>\n",
       "      <td>4.398948</td>\n",
       "      <td>-4.398948</td>\n",
       "    </tr>\n",
       "    <tr>\n",
       "      <th>other</th>\n",
       "      <td>6.355829</td>\n",
       "      <td>-6.355829</td>\n",
       "    </tr>\n",
       "    <tr>\n",
       "      <th>no data</th>\n",
       "      <td>1.107928</td>\n",
       "      <td>-1.107928</td>\n",
       "    </tr>\n",
       "  </tbody>\n",
       "</table>\n",
       "</div>"
      ],
      "text/plain": [
       "default               No default   Default\n",
       "EDUCATION                                 \n",
       "doctorate               1.994550 -1.994550\n",
       "masters                 8.890227 -8.890227\n",
       "bachelor               -6.316328  6.316328\n",
       "school graduate        -5.612397  5.612397\n",
       "elementary education    4.398948 -4.398948\n",
       "other                   6.355829 -6.355829\n",
       "no data                 1.107928 -1.107928"
      ]
     },
     "execution_count": 38,
     "metadata": {},
     "output_type": "execute_result"
    }
   ],
   "source": [
    "st_pearson_residuals(education_ct)"
   ]
  },
  {
   "cell_type": "code",
   "execution_count": 39,
   "id": "ceda9947",
   "metadata": {},
   "outputs": [
    {
     "name": "stdout",
     "output_type": "stream",
     "text": [
      "Default proportion for masters: 19.23%\n",
      "Default proportion for other than masters: 23.69%\n",
      "Wilson's interval: (-0.05409798904994272, -0.034948500775926435)\n",
      "Wilson's test: (-8.890078676360112, 6.10656547696002e-19) \n",
      "\n",
      "Default proportion for bachelor: 23.73%\n",
      "Default proportion for other than bachelor: 20.70%\n",
      "Wilson's interval: (0.02091038006499823, 0.039769622045038595)\n",
      "Wilson's test: (6.316223166900704, 2.680329168621314e-10) \n",
      "\n",
      "Default proportion for school graduate: 25.16%\n",
      "Default proportion for other than school graduate: 21.52%\n",
      "Wilson's interval: (0.023346908200124066, 0.04960784776806514)\n",
      "Wilson's test: (5.612303581315203, 1.9965077381172197e-08) \n",
      "\n",
      "Default proportion for elementary education: 5.69%\n",
      "Default proportion for other than elementary education: 22.19%\n",
      "Wald's interval: (-0.20617793530193018, -0.1237536459699022)\n",
      "Wald's test: (-7.845430296041002, 4.314714509742473e-15) \n",
      "\n",
      "Default proportion for other: 6.43%\n",
      "Default proportion for other than other: 22.27%\n",
      "Wald's interval: (-0.18750692200482677, -0.1292783116040946)\n",
      "Wald's test: (-10.6629308931574, 1.5173879316633374e-26) \n",
      "\n"
     ]
    }
   ],
   "source": [
    "level = ['masters', 'bachelor', 'school graduate', 'elementary education', 'other']\n",
    "test = ['score', 'wald']\n",
    "\n",
    "for lev in level:\n",
    "    if lev == 'elementary education' or lev == 'other':\n",
    "        t = test[1]\n",
    "        text = \"Wald's\"\n",
    "    else:\n",
    "        t = test[0]\n",
    "        text = \"Wilson's\"\n",
    "    print(f'Default proportion for {lev}: {100*education_ct.loc[lev, \"Default\"] / education_ct.loc[lev].sum():.2f}%')\n",
    "    print(f'Default proportion for other than {lev}: {100*(education_ct[\"Default\"].sum() - education_ct.loc[lev, \"Default\"]) / (education_ct.sum().sum() - education_ct.loc[lev].sum()):.2f}%')\n",
    "    print(f\"{text} interval:\", confint_proportions_2indep(education_ct.loc[lev, 'Default'], education_ct.loc[lev].sum(), \n",
    "                                                     (education_ct['Default'].sum() - education_ct.loc[lev, 'Default']), (education_ct.sum().sum() - education_ct.loc[lev].sum()), \n",
    "                                                     method = t, compare='diff'))\n",
    "    print(f\"{text} test:\", test_proportions_2indep(education_ct.loc[lev, 'Default'], education_ct.loc[lev].sum(), \n",
    "                                                     (education_ct['Default'].sum() - education_ct.loc[lev, 'Default']), (education_ct.sum().sum() - education_ct.loc[lev].sum()), \n",
    "                                         alternative = 'two-sided', method = t,  return_results=False), '\\n')"
   ]
  },
  {
   "cell_type": "markdown",
   "id": "a39e95dc",
   "metadata": {},
   "source": [
    "<p><b>Conclusions</b></p>\n",
    "<p>Education level and default are not independent variables (p-value < 0.05, $H_0$ can be rejected).</p>\n",
    "<p><b>Follow up</b></p>\n",
    "There are 19% default borrowers of borrowers with master's degree (against 24% with other levels of education)<br>\n",
    "95% Wilson's confidence interval for the difference is [-5.4; -3.5] p.p. (corresponding p-value is p=6.1e-19)<br>\n",
    "<p></p>\n",
    "There are 24% default borrowers of borrowers with bachelor's degree (against 21% with other levels of education)<br>\n",
    "95% Wilson's confidence interval for the difference is [2.1; 4.0] p.p. (corresponding p-value is p=2.7e-10)<br>\n",
    "<p></p>\n",
    "There are 25% default borrowers of school graduate borrowers (against 22% with other levels of education)<br>\n",
    "95% Wilson's confidence interval for the difference is [2.3; 5.0] p.p. (corresponding p-value is p=2.0e-8)<br>\n",
    "<p></p>\n",
    "There are 6% default borrowers of borrowers with elementary education (against 22% with other levels of education)<br>\n",
    "95% Wald's confidence interval for the difference is [-20.6; -12.4] p.p. (corresponding p-value is p=4.3e-15)<br>\n",
    "<p></p>\n",
    "There are 6% default borrowers of borrowers with 'other' type education (against 22% with other levels of education)<br>\n",
    "95% Wald's confidence interval for the difference is [-18.8; -12.9] p.p. (corresponding p-value is p=1.6e-26)<br>\n",
    "<p></p>\n",
    "We can see that borrowers with low level of education and with high level of education are better in repaying their debts while borrowers with bachelor degree and school graduate borrowers are more likely to have a default.\n",
    "However, hypotheses suggested by follow-up results ideally should be tested on different data."
   ]
  },
  {
   "cell_type": "markdown",
   "id": "9ed56dc6",
   "metadata": {},
   "source": [
    "## Marital status tests"
   ]
  },
  {
   "cell_type": "markdown",
   "id": "6a48e2b6",
   "metadata": {},
   "source": [
    "#### Assignment\n",
    "4. Marital status: Check how marital status is related to the default indicator: you need to propose a measure by which you can measure the possible relationship of these variables and calculate its value."
   ]
  },
  {
   "cell_type": "code",
   "execution_count": 40,
   "id": "64f46d65",
   "metadata": {},
   "outputs": [],
   "source": [
    "marital_default = data[data['default'] == 1]['MARITAL']\n",
    "marital_no_default = data[data['default'] == 0]['MARITAL']"
   ]
  },
  {
   "cell_type": "code",
   "execution_count": 41,
   "id": "cf0cf507",
   "metadata": {},
   "outputs": [],
   "source": [
    "marital_default_nums = marital_default.value_counts().sort_index()\n",
    "marital_no_default_nums = marital_no_default.value_counts().sort_index()"
   ]
  },
  {
   "cell_type": "code",
   "execution_count": 42,
   "id": "e8f9d974",
   "metadata": {},
   "outputs": [
    {
     "data": {
      "text/plain": [
       "Text(0.5, 1.0, 'Marital status of no default group borrowers')"
      ]
     },
     "execution_count": 42,
     "metadata": {},
     "output_type": "execute_result"
    },
    {
     "data": {
      "image/png": "[encoded data removed]",
      "text/plain": [
       "<Figure size 720x360 with 2 Axes>"
      ]
     },
     "metadata": {
      "needs_background": "light"
     },
     "output_type": "display_data"
    }
   ],
   "source": [
    "fig, ax = plt.subplots(1, 2, figsize=(10, 5))\n",
    "fig.tight_layout(w_pad=5)\n",
    "\n",
    "ax[0].bar(['no answer', 'married', 'single', 'no data'], 100 * marital_default_nums / len(marital_default), color='r')\n",
    "ax[0].set_ylabel('Proportion, %', fontsize=12)\n",
    "ax[0].set_title('Marital status of default group borrowers', fontsize=14)\n",
    "ax[1].bar(['no answer', 'married', 'single', 'no data'], 100 * marital_no_default_nums / len(marital_no_default), color='b')\n",
    "ax[1].set_ylabel('Proportion, %', fontsize=12)\n",
    "ax[1].set_title('Marital status of no default group borrowers', fontsize=14)"
   ]
  },
  {
   "cell_type": "code",
   "execution_count": 43,
   "id": "37398d61",
   "metadata": {},
   "outputs": [],
   "source": [
    "marital_ct = pd.crosstab(data.MARITAL, data.default)\n",
    "marital_ct.rename(index={0: 'No answer', 1: 'Married', 2: 'Single', 3: 'No data'}, \n",
    "                  columns={0: 'No default', 1: 'Default'}, inplace=True)"
   ]
  },
  {
   "cell_type": "code",
   "execution_count": 44,
   "id": "f5860b5e",
   "metadata": {},
   "outputs": [
    {
     "data": {
      "text/html": [
       "<div>\n",
       "<style scoped>\n",
       "    .dataframe tbody tr th:only-of-type {\n",
       "        vertical-align: middle;\n",
       "    }\n",
       "\n",
       "    .dataframe tbody tr th {\n",
       "        vertical-align: top;\n",
       "    }\n",
       "\n",
       "    .dataframe thead th {\n",
       "        text-align: right;\n",
       "    }\n",
       "</style>\n",
       "<table border=\"1\" class=\"dataframe\">\n",
       "  <thead>\n",
       "    <tr style=\"text-align: right;\">\n",
       "      <th>default</th>\n",
       "      <th>No default</th>\n",
       "      <th>Default</th>\n",
       "    </tr>\n",
       "    <tr>\n",
       "      <th>MARITAL</th>\n",
       "      <th></th>\n",
       "      <th></th>\n",
       "    </tr>\n",
       "  </thead>\n",
       "  <tbody>\n",
       "    <tr>\n",
       "      <th>No answer</th>\n",
       "      <td>49</td>\n",
       "      <td>5</td>\n",
       "    </tr>\n",
       "    <tr>\n",
       "      <th>Married</th>\n",
       "      <td>10453</td>\n",
       "      <td>3206</td>\n",
       "    </tr>\n",
       "    <tr>\n",
       "      <th>Single</th>\n",
       "      <td>12623</td>\n",
       "      <td>3341</td>\n",
       "    </tr>\n",
       "    <tr>\n",
       "      <th>No data</th>\n",
       "      <td>239</td>\n",
       "      <td>84</td>\n",
       "    </tr>\n",
       "  </tbody>\n",
       "</table>\n",
       "</div>"
      ],
      "text/plain": [
       "default    No default  Default\n",
       "MARITAL                       \n",
       "No answer          49        5\n",
       "Married         10453     3206\n",
       "Single          12623     3341\n",
       "No data           239       84"
      ]
     },
     "execution_count": 44,
     "metadata": {},
     "output_type": "execute_result"
    }
   ],
   "source": [
    "marital_ct"
   ]
  },
  {
   "cell_type": "markdown",
   "id": "d6c583a1",
   "metadata": {},
   "source": [
    "First, let us see whether these two variables are independent"
   ]
  },
  {
   "cell_type": "markdown",
   "id": "acc3b5b2",
   "metadata": {},
   "source": [
    "### Chi squared test for independence"
   ]
  },
  {
   "cell_type": "markdown",
   "id": "789b8ae9",
   "metadata": {},
   "source": [
    "$H_0$: marital status and default are independent\n",
    "\n",
    "$H_1$: marital status and default are not independent"
   ]
  },
  {
   "cell_type": "code",
   "execution_count": 45,
   "id": "892bcb62",
   "metadata": {},
   "outputs": [
    {
     "data": {
      "text/plain": [
       "(35.66239583433609,\n",
       " 8.825862457577375e-08,\n",
       " 3,\n",
       " array([[4.20552000e+01, 1.19448000e+01],\n",
       "        [1.06376292e+04, 3.02137080e+03],\n",
       "        [1.24327632e+04, 3.53123680e+03],\n",
       "        [2.51552400e+02, 7.14476000e+01]]))"
      ]
     },
     "execution_count": 45,
     "metadata": {},
     "output_type": "execute_result"
    }
   ],
   "source": [
    "stats.chi2_contingency(marital_ct)"
   ]
  },
  {
   "cell_type": "markdown",
   "id": "72e6988a",
   "metadata": {},
   "source": [
    "None of the expected counts are below 5, so chi-squared test is accurate.<br>\n",
    "P-value p-value=8.83e-08 is less than 0.05. Thus, at confidence level of 95% $H_0$ can be rejejcted and we can say that marital status and default are not independent."
   ]
  },
  {
   "cell_type": "code",
   "execution_count": 46,
   "id": "fc727920",
   "metadata": {},
   "outputs": [
    {
     "name": "stdout",
     "output_type": "stream",
     "text": [
      "The share of \"no answer\" and \"no data\" observations for Marital feature:1.26%\n"
     ]
    }
   ],
   "source": [
    "print('The share of \"no answer\" and \"no data\" observations for Marital feature:'+\\\n",
    "      f'{100.0 * marital_ct.loc[[\"No answer\", \"No data\"]].sum().sum() / marital_ct.sum().sum():.2f}%')"
   ]
  },
  {
   "cell_type": "markdown",
   "id": "30cfc748",
   "metadata": {},
   "source": [
    "We can see that observations with 'no answer' and 'no data' response for marital status are just a little bit more than 1% of all the observations. So, we can neglect these answers and concentrate on more important relations. Let us investigate how being married influences default.\n",
    "We have two groups of borrowers: default and no default. Let us compare the proportions of married people in each of the groups."
   ]
  },
  {
   "cell_type": "markdown",
   "id": "c30e19c6",
   "metadata": {},
   "source": [
    "<b> Thus, let us test the following hypothesis:</b><br>\n",
    "$H_0$: $p_1$ = $p_0$ (the proportion of married people is equal in both groups)\n",
    "\n",
    "$H_1$: $p_1$ ≠ $p_0$ (the proportion of married people in different groups is not equal)\n",
    "\n",
    "<b>Conditions</b>\n",
    "\n",
    "Sample: two independent samples\n",
    "\n",
    "Question: about proportions\n",
    "\n",
    "Measurement scale: binary\n",
    "\n",
    "<b>Candidates</b>\n",
    "\n",
    "1. Wald test\n",
    "\n",
    "2. Wilson test\n",
    "\n",
    "3. Likelihood ratio test"
   ]
  },
  {
   "cell_type": "code",
   "execution_count": 47,
   "id": "4322f97c",
   "metadata": {},
   "outputs": [],
   "source": [
    "married_no_default, married_default = marital_ct.loc['Married']"
   ]
  },
  {
   "cell_type": "code",
   "execution_count": 48,
   "id": "7604df60",
   "metadata": {},
   "outputs": [],
   "source": [
    "no_default, default = marital_ct['No default'].sum(), marital_ct['Default'].sum()"
   ]
  },
  {
   "cell_type": "code",
   "execution_count": 49,
   "id": "7b68e811",
   "metadata": {},
   "outputs": [
    {
     "name": "stdout",
     "output_type": "stream",
     "text": [
      "Proportion of married people in default group: 48.31%\n",
      "Proportion of married people in no default group: 44.74%\n",
      "Difference in proportions: 3.57 p.p.\n"
     ]
    }
   ],
   "source": [
    "print(f'Proportion of married people in default group: {100 * married_default/default:.2f}%')\n",
    "print(f'Proportion of married people in no default group: {100 * married_no_default/no_default:.2f}%')\n",
    "print(f'Difference in proportions: {(100 * married_default/default) - (100 * married_no_default/no_default):.2f} p.p.')"
   ]
  },
  {
   "cell_type": "markdown",
   "id": "e143ce53",
   "metadata": {},
   "source": [
    "### Wald's test"
   ]
  },
  {
   "cell_type": "code",
   "execution_count": 50,
   "id": "5a959e9a",
   "metadata": {},
   "outputs": [
    {
     "name": "stdout",
     "output_type": "stream",
     "text": [
      "Wald's test: (5.145051844054842, 2.674469403959236e-07)\n"
     ]
    }
   ],
   "source": [
    "print(\"Wald's test:\", test_proportions_2indep(married_default, default, married_no_default, no_default, \n",
    "                                         alternative = 'two-sided', method = 'wald',  return_results=False))"
   ]
  },
  {
   "cell_type": "markdown",
   "id": "f69326a1",
   "metadata": {},
   "source": [
    "<b>Confidence interval for the difference</b>"
   ]
  },
  {
   "cell_type": "code",
   "execution_count": 51,
   "id": "249d51a0",
   "metadata": {},
   "outputs": [
    {
     "name": "stdout",
     "output_type": "stream",
     "text": [
      "Wald's interval: (0.022115651063397662, 0.04933366293043459)\n"
     ]
    }
   ],
   "source": [
    "print(\"Wald's interval:\", confint_proportions_2indep(married_default, default, married_no_default, no_default, \n",
    "                                                     method = 'wald', compare='diff'))"
   ]
  },
  {
   "cell_type": "markdown",
   "id": "3ece75a7",
   "metadata": {},
   "source": [
    "### Wilson's test"
   ]
  },
  {
   "cell_type": "code",
   "execution_count": 52,
   "id": "8273292f",
   "metadata": {},
   "outputs": [
    {
     "name": "stdout",
     "output_type": "stream",
     "text": [
      "Wilson's test: (5.157027848383254, 2.5090049917692524e-07)\n"
     ]
    }
   ],
   "source": [
    "print(\"Wilson's test:\", test_proportions_2indep(married_default, default, married_no_default, no_default, \n",
    "                                         alternative = 'two-sided', method = 'score',  return_results=False))"
   ]
  },
  {
   "cell_type": "markdown",
   "id": "cfcb8039",
   "metadata": {},
   "source": [
    "<b>Confidence interval for the difference</b>"
   ]
  },
  {
   "cell_type": "code",
   "execution_count": 53,
   "id": "1338cb24",
   "metadata": {},
   "outputs": [
    {
     "name": "stdout",
     "output_type": "stream",
     "text": [
      "Wilson's interval: (0.022124266680710995, 0.049335332456007686)\n"
     ]
    }
   ],
   "source": [
    "print(\"Wilson's interval:\", confint_proportions_2indep(married_default, default, married_no_default, no_default, \n",
    "                                                     method = 'score', compare='diff'))"
   ]
  },
  {
   "cell_type": "markdown",
   "id": "56fc7da8",
   "metadata": {},
   "source": [
    "#### Effect size"
   ]
  },
  {
   "cell_type": "code",
   "execution_count": 54,
   "id": "d71d3a1b",
   "metadata": {},
   "outputs": [
    {
     "name": "stdout",
     "output_type": "stream",
     "text": [
      "0.07163794095484266\n"
     ]
    }
   ],
   "source": [
    "#  Cohen's h\n",
    "\n",
    "h_4 = abs(2*np.arcsin(np.sqrt(married_default / default)) \n",
    "          - 2*np.arcsin(np.sqrt(married_no_default / no_default)))\n",
    "print(h_4)"
   ]
  },
  {
   "cell_type": "markdown",
   "id": "df44c13a",
   "metadata": {},
   "source": [
    "<b>Conclusion</b><br>\n",
    "The $H_0$ hypothesis that $p_1=p_0$ can be rejected at 95% confidence level. The difference of proportions of married people of two groups is statistically significant, according to Wald and Wilson tests (p-values for two-sided alternative are p=2.67e-07 and p=2.51e-07 accordingly, which is less than the signifficance level of 0.05), taking into account that Wilson's test is more accurate. The difference in proportions of married borrowers between two groups is 3.57 percentage points. And the confidence intervals for this difference is [2.2; 4.9] percentage points.<br>\n",
    "We can see that the proportion of married people is higher in the default group than in no default group. But the effect size, according to Cohen's h, is very small (0.07) and we can say that the difference in proportions between two groups is not practically significant.<br>\n",
    "It's also worth mentioning that hypotheses formulated after seeing the data ideally should be tested on different data."
   ]
  },
  {
   "cell_type": "markdown",
   "id": "7c4d570e",
   "metadata": {},
   "source": [
    "## Age tests"
   ]
  },
  {
   "cell_type": "markdown",
   "id": "a72fb77d",
   "metadata": {},
   "source": [
    "#### Assignment\n",
    "5. Age: test whether there are differences between mean ages of clients in two groups."
   ]
  },
  {
   "cell_type": "code",
   "execution_count": 55,
   "id": "4b5c2ca2",
   "metadata": {},
   "outputs": [],
   "source": [
    "age_default = data[data['default'] == 1]['AGE']\n",
    "age_no_default = data[data['default'] == 0]['AGE']"
   ]
  },
  {
   "cell_type": "code",
   "execution_count": 56,
   "id": "618784a0",
   "metadata": {},
   "outputs": [
    {
     "name": "stdout",
     "output_type": "stream",
     "text": [
      "Mean age for default group: 35.73\n",
      "Mean age for no default group: 35.42\n",
      "Difference in means between two groups: 0.31\n"
     ]
    }
   ],
   "source": [
    "print('Mean age for default group:', round(age_default.mean(), 2))\n",
    "print('Mean age for no default group:', round(age_no_default.mean(), 2))\n",
    "print('Difference in means between two groups:', round(abs(age_no_default.mean() - age_default.mean()), 2))"
   ]
  },
  {
   "cell_type": "code",
   "execution_count": 57,
   "id": "91f43f5f",
   "metadata": {},
   "outputs": [
    {
     "data": {
      "text/plain": [
       "Text(0.5, 1.0, 'Age distribution of no default group borrowers')"
      ]
     },
     "execution_count": 57,
     "metadata": {},
     "output_type": "execute_result"
    },
    {
     "data": {
      "image/png": "[encoded data removed]",
      "text/plain": [
       "<Figure size 720x360 with 2 Axes>"
      ]
     },
     "metadata": {
      "needs_background": "light"
     },
     "output_type": "display_data"
    }
   ],
   "source": [
    "fig, ax = plt.subplots(1, 2, figsize=(10, 5))\n",
    "fig.tight_layout(w_pad=5)\n",
    "\n",
    "ax[0].hist(age_default, color='r')\n",
    "ax[0].set_ylabel('Number of borrowers', fontsize=12)\n",
    "ax[0].set_xlabel('Age', fontsize=12)\n",
    "ax[0].set_title('Age distribution of default group borrowers', fontsize=14)\n",
    "ax[1].hist(age_no_default, color='b')\n",
    "ax[1].set_ylabel('Number of borrowers', fontsize=12)\n",
    "ax[1].set_xlabel('Age', fontsize=12)\n",
    "ax[1].set_title('Age distribution of no default group borrowers', fontsize=14)"
   ]
  },
  {
   "cell_type": "markdown",
   "id": "fd954017",
   "metadata": {},
   "source": [
    "<b> Let us test the following hypothesis:</b><br>\n",
    "$H_0\\colon mean_1 = mean_0$ Mean age is the same for default and no default groups. \n",
    "\n",
    "$H_1\\colon mean_1 ≠ mean_0$ Mean age is not the same for default and no default groups. "
   ]
  },
  {
   "cell_type": "markdown",
   "id": "b48f8e09",
   "metadata": {},
   "source": [
    "<b>Conditions</b>\n",
    "<p>Sample: two independent samples</p>\n",
    "<p>Question: about the average (mean)</p>\n",
    "<p>Measurement scale: continuous</p>\n",
    "<p><b>Candidates</b></p>\n",
    "<p>1. t-test</p>\n",
    "<p>2. Mann-Whitney rank test</p>\n",
    "<p>3. permutation test</p>"
   ]
  },
  {
   "cell_type": "code",
   "execution_count": 58,
   "id": "2d995669",
   "metadata": {},
   "outputs": [
    {
     "name": "stdout",
     "output_type": "stream",
     "text": [
      "The size of default sample: 6636\n",
      "The size of no default sample: 23364\n",
      "Standard deviation of default sample: 9.69\n",
      "Standard deviation of no default sample: 9.08\n"
     ]
    }
   ],
   "source": [
    "print(f'The size of default sample: {age_default.shape[0]}\\n'+\\\n",
    "      f'The size of no default sample: {age_no_default.shape[0]}\\n' +\\\n",
    "      f'Standard deviation of default sample: {age_default.std():.2f}\\n' +\\\n",
    "      f'Standard deviation of no default sample: {age_no_default.std():.2f}' )"
   ]
  },
  {
   "cell_type": "markdown",
   "id": "a275762d",
   "metadata": {},
   "source": [
    "The sizes of samples are not equal and the deviation of the larger sample is smaller than the deviation of the smaller sample. Thus, we cannot use t-test. Mann-Whitney rank test is for the median and not for the mean. So, we are left with permutation test."
   ]
  },
  {
   "cell_type": "markdown",
   "id": "3bc643a4",
   "metadata": {},
   "source": [
    "### Permutation test"
   ]
  },
  {
   "cell_type": "code",
   "execution_count": 59,
   "id": "3cbca2c2",
   "metadata": {},
   "outputs": [],
   "source": [
    "def permutation_t_stat_2s(sample1, sample2):\n",
    "    return np.mean(sample1) - np.mean(sample2)\n",
    "\n",
    "def get_random_combinations(n1, n2, max_permutations):\n",
    "    index = np.array(range(n1 + n2))\n",
    "    indices = set([tuple(index)])\n",
    "    for i in range(max_permutations - 1):\n",
    "        np.random.shuffle(index)\n",
    "        indices.add(tuple(index))\n",
    "    return [(index[:n1], index[n1:]) for index in indices]\n",
    "\n",
    "def permutation_null_dist_2s(sample1, sample2, max_permutations = None):\n",
    "    pooled_sample = np.hstack((sample1, sample2))\n",
    "    n1 = len(sample1)\n",
    "    n2 = len(sample2)\n",
    "    n = n1 + n2\n",
    "    \n",
    "    if max_permutations:\n",
    "        indices = get_random_combinations(n1, n2, max_permutations)\n",
    "    else:\n",
    "        indices = [(list(index), filter(lambda i: i not in index, range(n))) \\\n",
    "                    for index in itertools.combinations(range(n), n1)]\n",
    "    \n",
    "    distr = [permutation_t_stat_2s(pooled_sample[list(i[0])], pooled_sample[list(i[1])]) \\\n",
    "             for i in indices]\n",
    "    return distr\n",
    "\n",
    "def permutation_test_2s(sample1, sample2, max_permutations = None, alternative = 'two-sided', return_distr = False):\n",
    "    if alternative not in ('two-sided', 'less', 'greater'):\n",
    "        raise ValueError(\"alternative not recognized\\n\"\n",
    "                         \"should be 'two-sided', 'less' or 'greater'\")\n",
    "    \n",
    "    t_stat = permutation_t_stat_2s(sample1, sample2)\n",
    "    \n",
    "    null_distr = permutation_null_dist_2s(sample1, sample2, max_permutations)\n",
    "    \n",
    "    if alternative == 'two-sided':\n",
    "        p = sum([1. if abs(x) >= abs(t_stat) else 0. for x in null_distr]) / len(null_distr)\n",
    "    elif alternative == 'less':\n",
    "        p = sum([1. if x <= t_stat else 0. for x in null_distr]) / len(null_distr)\n",
    "    else: # alternative == 'greater':\n",
    "        p = sum([1. if x >= t_stat else 0. for x in null_distr]) / len(null_distr)\n",
    "    \n",
    "    if return_distr:\n",
    "        return {'t': t_stat, 'p': p, 'null_distr': null_distr}\n",
    "    else:\n",
    "        return {'t': t_stat, 'p': p}"
   ]
  },
  {
   "cell_type": "code",
   "execution_count": 60,
   "id": "9bd32251",
   "metadata": {},
   "outputs": [
    {
     "name": "stdout",
     "output_type": "stream",
     "text": [
      "Permutation test: t = 0.308473, p = 0.017700\n"
     ]
    }
   ],
   "source": [
    "res = permutation_test_2s(age_default, age_no_default, max_permutations = 10000, return_distr = True)\n",
    "print(\"Permutation test: t = %f, p = %f\" % (res['t'], res['p']))"
   ]
  },
  {
   "cell_type": "markdown",
   "id": "afa5bef2",
   "metadata": {},
   "source": [
    "Null distribution of the permutation test statistic for our data:"
   ]
  },
  {
   "cell_type": "code",
   "execution_count": 61,
   "id": "ebd7c9eb",
   "metadata": {},
   "outputs": [
    {
     "data": {
      "image/png": "[encoded data removed]",
      "text/plain": [
       "<Figure size 432x288 with 1 Axes>"
      ]
     },
     "metadata": {
      "needs_background": "light"
     },
     "output_type": "display_data"
    }
   ],
   "source": [
    "plt.hist(res['null_distr'], bins=100);"
   ]
  },
  {
   "cell_type": "markdown",
   "id": "9beb0c09",
   "metadata": {},
   "source": [
    "The distribution looks quite symmetric."
   ]
  },
  {
   "cell_type": "code",
   "execution_count": 62,
   "id": "d83bdda0",
   "metadata": {},
   "outputs": [],
   "source": [
    "def get_bootstrap_samples(x, n_resamples):\n",
    "    indices = np.random.randint(0, len(x), (n_resamples, len(x)))\n",
    "    resamples = x[indices]\n",
    "    return resamples\n",
    "\n",
    "def percentile_interval(stat, alpha):\n",
    "    boundaries = np.percentile(stat, [100 * alpha / 2., 100 * (1 - alpha / 2.)])\n",
    "    return boundaries"
   ]
  },
  {
   "cell_type": "code",
   "execution_count": 63,
   "id": "7f8a6fe1",
   "metadata": {},
   "outputs": [
    {
     "name": "stdout",
     "output_type": "stream",
     "text": [
      "95% confidence interval for the difference in mean age between groups: [0.05528542 0.57533472]\n"
     ]
    }
   ],
   "source": [
    "np.random.seed(0)\n",
    "\n",
    "default_mean_scores = list(map(np.mean, get_bootstrap_samples(age_default.values, 5000)))\n",
    "no_default_mean_scores = list(map(np.mean, get_bootstrap_samples(age_no_default.values, 5000)))\n",
    "\n",
    "print(\"95% confidence interval for the difference in mean age between groups:\",  \n",
    "      percentile_interval(np.array(default_mean_scores) - np.array(no_default_mean_scores), 0.05))"
   ]
  },
  {
   "cell_type": "markdown",
   "id": "f8f0e9fc",
   "metadata": {},
   "source": [
    "#### Effect size"
   ]
  },
  {
   "cell_type": "code",
   "execution_count": 64,
   "id": "cc3ac7b6",
   "metadata": {},
   "outputs": [
    {
     "name": "stdout",
     "output_type": "stream",
     "text": [
      "0.031822816847021755\n"
     ]
    }
   ],
   "source": [
    "# Cohen’s d\n",
    "d_5 = abs((age_default.mean() - age_no_default.mean())) / age_default.std(ddof=1)\n",
    "print(d_5)"
   ]
  },
  {
   "cell_type": "markdown",
   "id": "65191583",
   "metadata": {},
   "source": [
    "<b>Conclusion</b><br>\n",
    "The $H_0$ hypothesis that $mean_1 = mean_0$ can be rejected at 95% confidence level. The difference of the mean age between the default and no default groups is statistically significant: according to permutation test, p-value for two-sided alternative is p=0.018, which is less than the signifficance level of 0.05. However, mean age for default group is 0.3 year higher than the mean age for no default group. And the confidence intervals for the difference is [0.055; 0.575] which is less than a year. The effect size, according to Cohen's d, is 0.03 which is very small. Thus, we can conclude that the difference in means of age for default and no default groups is not practically significant."
   ]
  },
  {
   "cell_type": "code",
   "execution_count": null,
   "id": "bb13dbdc",
   "metadata": {},
   "outputs": [],
   "source": []
  }
 ],
 "metadata": {
  "kernelspec": {
   "display_name": "Python 3 (ipykernel)",
   "language": "python",
   "name": "python3"
  },
  "language_info": {
   "codemirror_mode": {
    "name": "ipython",
    "version": 3
   },
   "file_extension": ".py",
   "mimetype": "text/x-python",
   "name": "python",
   "nbconvert_exporter": "python",
   "pygments_lexer": "ipython3",
   "version": "3.8.8"
  }
 },
 "nbformat": 4,
 "nbformat_minor": 5
}
