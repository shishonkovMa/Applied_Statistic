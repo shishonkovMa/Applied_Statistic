{
 "cells": [
  {
   "cell_type": "markdown",
   "metadata": {},
   "source": [
    "#   Credit Card Defaults."
   ]
  },
  {
   "cell_type": "markdown",
   "metadata": {},
   "source": [
    "The dataset for this assignment was collected in Taiwan in 2005, when the credit card issuers faced the cash and credit card debt crisis. In order to increase market share, card-issuing banks over-issued cash and credit cards to unqualified applicants. At the same time, most cardholders, irrespective of their repayment ability, overused credit card for consumption and accumulated heavy credit and cash–card debts. The crisis caused the blow to consumer finance confidence and was a big challenge for both banks and cardholders.\n",
    "\n",
    "The data were collected from an important bank (a cash and credit card issuer) in Taiwan and the targets were credit card holders of the bank. Variables the dataset contains are:\n",
    "\n",
    "·       **LIMIT_BAL**: credit limit in NT dollars (including for client's family)\n",
    "\n",
    "·       **GENDER**: 1 = male, 2 = female\n",
    "\n",
    "·       **EDUCATION**: 0 = doctorate, 1 = masters; 2 = bachelor; 3 = school graduate; 4 = elementary education; 5= other; 6 = no data.\n",
    "\n",
    "·       **MARITAL**: marital status: 0 = no answer; 1 = married; 2 = single; 3 = no data.\n",
    "\n",
    "·       **AGE**: age in years\n",
    "\n",
    "·       **default**: binary indicator of a default (1 = Yes, 0 = No)\n",
    "\n",
    "We would like to explore whether there are differences between customers who defaulted and did not."
   ]
  },
  {
   "cell_type": "code",
   "execution_count": 68,
   "metadata": {},
   "outputs": [],
   "source": [
    "import numpy as np\n",
    "import pandas as pd\n",
    "import matplotlib.pyplot as plt\n",
    "import scipy.stats as st\n",
    "\n",
    "from statsmodels.stats.proportion import confint_proportions_2indep\n",
    "from statsmodels.stats.proportion import test_proportions_2indep\n",
    "from scipy.stats import chi2_contingency\n",
    "\n",
    "%matplotlib inline"
   ]
  },
  {
   "cell_type": "code",
   "execution_count": 2,
   "metadata": {},
   "outputs": [
    {
     "data": {
      "text/html": [
       "<div>\n",
       "<style scoped>\n",
       "    .dataframe tbody tr th:only-of-type {\n",
       "        vertical-align: middle;\n",
       "    }\n",
       "\n",
       "    .dataframe tbody tr th {\n",
       "        vertical-align: top;\n",
       "    }\n",
       "\n",
       "    .dataframe thead th {\n",
       "        text-align: right;\n",
       "    }\n",
       "</style>\n",
       "<table border=\"1\" class=\"dataframe\">\n",
       "  <thead>\n",
       "    <tr style=\"text-align: right;\">\n",
       "      <th></th>\n",
       "      <th>ID</th>\n",
       "      <th>LIMIT_BAL</th>\n",
       "      <th>GENDER</th>\n",
       "      <th>EDUCATION</th>\n",
       "      <th>MARITAL</th>\n",
       "      <th>AGE</th>\n",
       "      <th>PAY_SEP</th>\n",
       "      <th>PAY_AUG</th>\n",
       "      <th>PAY_JUL</th>\n",
       "      <th>PAY_JUN</th>\n",
       "      <th>...</th>\n",
       "      <th>BILL_JUN</th>\n",
       "      <th>BILL_MAY</th>\n",
       "      <th>BILL_APR</th>\n",
       "      <th>PAY_SEP.1</th>\n",
       "      <th>PAY_AUG.1</th>\n",
       "      <th>PAY_JUL.1</th>\n",
       "      <th>PAY_JUN.1</th>\n",
       "      <th>PAY_MAY.1</th>\n",
       "      <th>PAY_APR.1</th>\n",
       "      <th>default</th>\n",
       "    </tr>\n",
       "  </thead>\n",
       "  <tbody>\n",
       "    <tr>\n",
       "      <th>0</th>\n",
       "      <td>1</td>\n",
       "      <td>20000</td>\n",
       "      <td>2</td>\n",
       "      <td>2</td>\n",
       "      <td>1</td>\n",
       "      <td>24</td>\n",
       "      <td>2</td>\n",
       "      <td>2</td>\n",
       "      <td>0</td>\n",
       "      <td>0</td>\n",
       "      <td>...</td>\n",
       "      <td>0</td>\n",
       "      <td>0</td>\n",
       "      <td>0</td>\n",
       "      <td>0</td>\n",
       "      <td>689</td>\n",
       "      <td>0</td>\n",
       "      <td>0</td>\n",
       "      <td>0</td>\n",
       "      <td>0</td>\n",
       "      <td>1</td>\n",
       "    </tr>\n",
       "    <tr>\n",
       "      <th>1</th>\n",
       "      <td>2</td>\n",
       "      <td>120000</td>\n",
       "      <td>2</td>\n",
       "      <td>2</td>\n",
       "      <td>2</td>\n",
       "      <td>26</td>\n",
       "      <td>0</td>\n",
       "      <td>2</td>\n",
       "      <td>0</td>\n",
       "      <td>0</td>\n",
       "      <td>...</td>\n",
       "      <td>3272</td>\n",
       "      <td>3455</td>\n",
       "      <td>3261</td>\n",
       "      <td>0</td>\n",
       "      <td>1000</td>\n",
       "      <td>1000</td>\n",
       "      <td>1000</td>\n",
       "      <td>0</td>\n",
       "      <td>2000</td>\n",
       "      <td>1</td>\n",
       "    </tr>\n",
       "    <tr>\n",
       "      <th>2</th>\n",
       "      <td>3</td>\n",
       "      <td>90000</td>\n",
       "      <td>2</td>\n",
       "      <td>2</td>\n",
       "      <td>2</td>\n",
       "      <td>34</td>\n",
       "      <td>0</td>\n",
       "      <td>0</td>\n",
       "      <td>0</td>\n",
       "      <td>0</td>\n",
       "      <td>...</td>\n",
       "      <td>14331</td>\n",
       "      <td>14948</td>\n",
       "      <td>15549</td>\n",
       "      <td>1518</td>\n",
       "      <td>1500</td>\n",
       "      <td>1000</td>\n",
       "      <td>1000</td>\n",
       "      <td>1000</td>\n",
       "      <td>5000</td>\n",
       "      <td>0</td>\n",
       "    </tr>\n",
       "    <tr>\n",
       "      <th>3</th>\n",
       "      <td>4</td>\n",
       "      <td>50000</td>\n",
       "      <td>2</td>\n",
       "      <td>2</td>\n",
       "      <td>1</td>\n",
       "      <td>37</td>\n",
       "      <td>0</td>\n",
       "      <td>0</td>\n",
       "      <td>0</td>\n",
       "      <td>0</td>\n",
       "      <td>...</td>\n",
       "      <td>28314</td>\n",
       "      <td>28959</td>\n",
       "      <td>29547</td>\n",
       "      <td>2000</td>\n",
       "      <td>2019</td>\n",
       "      <td>1200</td>\n",
       "      <td>1100</td>\n",
       "      <td>1069</td>\n",
       "      <td>1000</td>\n",
       "      <td>0</td>\n",
       "    </tr>\n",
       "    <tr>\n",
       "      <th>4</th>\n",
       "      <td>5</td>\n",
       "      <td>50000</td>\n",
       "      <td>1</td>\n",
       "      <td>2</td>\n",
       "      <td>1</td>\n",
       "      <td>57</td>\n",
       "      <td>0</td>\n",
       "      <td>0</td>\n",
       "      <td>0</td>\n",
       "      <td>0</td>\n",
       "      <td>...</td>\n",
       "      <td>20940</td>\n",
       "      <td>19146</td>\n",
       "      <td>19131</td>\n",
       "      <td>2000</td>\n",
       "      <td>36681</td>\n",
       "      <td>10000</td>\n",
       "      <td>9000</td>\n",
       "      <td>689</td>\n",
       "      <td>679</td>\n",
       "      <td>0</td>\n",
       "    </tr>\n",
       "  </tbody>\n",
       "</table>\n",
       "<p>5 rows × 25 columns</p>\n",
       "</div>"
      ],
      "text/plain": [
       "   ID  LIMIT_BAL  GENDER  EDUCATION  MARITAL  AGE  PAY_SEP  PAY_AUG  PAY_JUL  \\\n",
       "0   1      20000       2          2        1   24        2        2        0   \n",
       "1   2     120000       2          2        2   26        0        2        0   \n",
       "2   3      90000       2          2        2   34        0        0        0   \n",
       "3   4      50000       2          2        1   37        0        0        0   \n",
       "4   5      50000       1          2        1   57        0        0        0   \n",
       "\n",
       "   PAY_JUN  ...  BILL_JUN  BILL_MAY  BILL_APR  PAY_SEP.1  PAY_AUG.1  \\\n",
       "0        0  ...         0         0         0          0        689   \n",
       "1        0  ...      3272      3455      3261          0       1000   \n",
       "2        0  ...     14331     14948     15549       1518       1500   \n",
       "3        0  ...     28314     28959     29547       2000       2019   \n",
       "4        0  ...     20940     19146     19131       2000      36681   \n",
       "\n",
       "   PAY_JUL.1  PAY_JUN.1  PAY_MAY.1  PAY_APR.1  default  \n",
       "0          0          0          0          0        1  \n",
       "1       1000       1000          0       2000        1  \n",
       "2       1000       1000       1000       5000        0  \n",
       "3       1200       1100       1069       1000        0  \n",
       "4      10000       9000        689        679        0  \n",
       "\n",
       "[5 rows x 25 columns]"
      ]
     },
     "execution_count": 2,
     "metadata": {},
     "output_type": "execute_result"
    }
   ],
   "source": [
    "data = pd.read_csv('credit_card_default_analysis.csv')\n",
    "data.head()"
   ]
  },
  {
   "cell_type": "markdown",
   "metadata": {},
   "source": [
    "### 1. Credit limit: test whether there are differences between median credit limits of two groups."
   ]
  },
  {
   "cell_type": "markdown",
   "metadata": {},
   "source": [
    "First, let's look at the median values of \"defaulted\" people and \"not defaulted\"."
   ]
  },
  {
   "cell_type": "code",
   "execution_count": 14,
   "metadata": {},
   "outputs": [
    {
     "data": {
      "text/plain": [
       "default\n",
       "0    150000\n",
       "1     90000\n",
       "Name: LIMIT_BAL, dtype: int64"
      ]
     },
     "execution_count": 14,
     "metadata": {},
     "output_type": "execute_result"
    }
   ],
   "source": [
    "data.groupby('default')['LIMIT_BAL'].median()"
   ]
  },
  {
   "cell_type": "code",
   "execution_count": 15,
   "metadata": {},
   "outputs": [],
   "source": [
    "all_with_default_NO = data.loc[data.default == 0]  # Length: 23364\n",
    "all_with_default_YES = data.loc[data.default == 1]  # Length: 6636"
   ]
  },
  {
   "cell_type": "markdown",
   "metadata": {},
   "source": [
    "Let's plot the histogram of the credit limit (**LIMIT_BAL**)"
   ]
  },
  {
   "cell_type": "code",
   "execution_count": 16,
   "metadata": {},
   "outputs": [
    {
     "data": {
      "image/png": "[encoded data removed]",
      "text/plain": [
       "<Figure size 576x576 with 1 Axes>"
      ]
     },
     "metadata": {
      "needs_background": "light"
     },
     "output_type": "display_data"
    }
   ],
   "source": [
    "plt.figure(figsize=(8,8))\n",
    "plt.title(f'Credit limit in NT dollars (LIMIT_BALL) Histogram')\n",
    "plt.hist(data['LIMIT_BAL'], edgecolor='black');\n",
    "plt.xlabel(f'Credit Limit, NT$', fontsize=12)\n",
    "plt.ylabel(f'Number of Cardholders', fontsize=12)\n",
    "plt.grid()\n",
    "plt.xlim(0, 10**6-1);"
   ]
  },
  {
   "cell_type": "markdown",
   "metadata": {},
   "source": [
    "Now let's build a comparative histogram for credit limit for cases for \"default\" and \"not default\""
   ]
  },
  {
   "cell_type": "code",
   "execution_count": 22,
   "metadata": {},
   "outputs": [
    {
     "data": {
      "image/png": "[encoded data removed]",
      "text/plain": [
       "<Figure size 576x576 with 1 Axes>"
      ]
     },
     "metadata": {
      "needs_background": "light"
     },
     "output_type": "display_data"
    }
   ],
   "source": [
    "plt.figure(figsize=(8,8))\n",
    "plt.subplot()\n",
    "plt.title(f'Credit Limit in NT dollars (LIMIT_BALL) Histogram for default = Yes / No')\n",
    "plt.hist(all_with_default_NO.LIMIT_BAL, color='green',edgecolor='black', label='Default = No')\n",
    "plt.hist(all_with_default_YES.LIMIT_BAL, color='tomato',edgecolor='black', label='Default = Yes')\n",
    "plt.xlim(0, 10**6-1)\n",
    "plt.grid()\n",
    "plt.xlabel(f'Credit limit, NT$', fontsize=12)\n",
    "plt.ylabel(f'Number of cardholders', fontsize=12)\n",
    "plt.legend(fontsize=15);"
   ]
  },
  {
   "cell_type": "markdown",
   "metadata": {},
   "source": [
    "We will check that medians from two populations are equal.\n",
    "\n",
    "**Null hypothesis**: Medians of credit limit are equal in samples of clients who paid and did not pay their debt\n",
    "<br> $H_{0}: \\mu_{1} = \\mu_{2}$ \n",
    "\n",
    "**Alternative hypothesis**: medians are not equal.\n",
    "<br> $H_{1}: \\mu_{1} ≠ \\mu_{2}$\n"
   ]
  },
  {
   "cell_type": "markdown",
   "metadata": {},
   "source": [
    "As showen above:"
   ]
  },
  {
   "cell_type": "code",
   "execution_count": 23,
   "metadata": {},
   "outputs": [
    {
     "name": "stdout",
     "output_type": "stream",
     "text": [
      "Median credit limit for all cardholders without default: 150000.0\n",
      "Median credit limit for all cardholders with default: 90000.0\n",
      "Median credit limit for all cardholders: 140000.0\n"
     ]
    }
   ],
   "source": [
    "# Median credit limit\n",
    "\n",
    "print(f'Median credit limit for all cardholders without default: {all_with_default_NO.LIMIT_BAL.median()}')\n",
    "print(f'Median credit limit for all cardholders with default: {all_with_default_YES.LIMIT_BAL.median()}')\n",
    "print(f'Median credit limit for all cardholders: {data.LIMIT_BAL.median()}')"
   ]
  },
  {
   "cell_type": "markdown",
   "metadata": {},
   "source": [
    "As we want to estimate **medians**, not means, then it's better to use **Bootstrap** method. So we will estimate the confidence interval using **Bootstrap**. Bootstrapping is a resampling procedure that uses data from one sample to generate a sampling distribution by repeatedly taking random samples from the known sample, with replacement.\n",
    "\n",
    "**Steps to create a bootstrap sample:**\n",
    "1. Replace the population with the sample\n",
    "2. Sample with replacement n_samples. It should be large, say 1000...5000\n",
    "3. Compute sample medians each time, \n",
    "4. Obtain the approximate distribution of the sample median. To obtain, a 95% confidence interval we will find the middle 95% of the sample medians. For this, find the medians at the 2.5% and 97.5% quartiles. The 2.5th percentile will be at the position (0.025)(N + 1), and the 97.5th percentile will be at the position (0.975)(N + 1). If any of these numbers are not integers, round to the nearest integer. The values of these positions are the lower and upper limits of the 95% bootstrap interval for the median."
   ]
  },
  {
   "cell_type": "code",
   "execution_count": 25,
   "metadata": {},
   "outputs": [],
   "source": [
    "# Function to generate bootstrap samples\n",
    "def get_bootstrap_samples(data, n_samples):\n",
    "    indices = np.random.randint(0, len(data), (n_samples, len(data)))\n",
    "    samples = data[indices]\n",
    "    return samples\n",
    "\n",
    "# Function for building an interval\n",
    "def stat_intervals(stat, alpha):\n",
    "    boundaries = np.percentile(stat, [100 * alpha / 2., 100 * (1 - alpha / 2.)])\n",
    "    return boundaries"
   ]
  },
  {
   "cell_type": "code",
   "execution_count": 26,
   "metadata": {},
   "outputs": [
    {
     "name": "stdout",
     "output_type": "stream",
     "text": [
      "CI for default = 0: [150000.0, 150000.0]\n",
      "CI for default = 1: [80000.0, 90000.0]\n"
     ]
    }
   ],
   "source": [
    "#  Confidence intervals estimation\n",
    "\n",
    "np.random.seed(0)\n",
    "\n",
    "limit_bal_0_bst_median = list(map(np.median, get_bootstrap_samples(all_with_default_NO.LIMIT_BAL.values, 100)))\n",
    "limit_bal_1_bst_median = list(map(np.median, get_bootstrap_samples(all_with_default_YES.LIMIT_BAL.values, 100)))\n",
    "\n",
    "bnd_0 = stat_intervals(limit_bal_0_bst_median, 0.05)\n",
    "bnd_1 = stat_intervals(limit_bal_1_bst_median, 0.05)\n",
    "\n",
    "print(f'CI for default = 0: [{bnd_0[0]}, {bnd_0[1]}]')\n",
    "print(f'CI for default = 1: [{bnd_1[0]}, {bnd_1[1]}]')"
   ]
  },
  {
   "cell_type": "markdown",
   "metadata": {},
   "source": [
    "Confidence intervals do not intersect, which means that with a high degree of probability, the medians in the populations are different. In other words **medians do not match**. People who do not pay the debt usually take a smaller amount"
   ]
  },
  {
   "cell_type": "markdown",
   "metadata": {},
   "source": [
    "Let test the hypothesis about the equality of distributions using one of the nonparametric test for checking the equality of means.\n",
    "<br>$H_0\\colon F_{X_1}(x) = F_{X_2}(x)$\n",
    "<br>$H_1\\colon F_{X_1}(x) = F_{X_2}(x + \\Delta), \\Delta\\neq 0$"
   ]
  },
  {
   "cell_type": "code",
   "execution_count": 97,
   "metadata": {},
   "outputs": [],
   "source": [
    "def permutation_t_stat_2s(sample1, sample2):\n",
    "    return np.mean(sample1) - np.mean(sample2)\n",
    "\n",
    "def get_random_combinations(n1, n2, max_permutations):\n",
    "    index = np.array(range(n1 + n2))\n",
    "    indices = set([tuple(index)])\n",
    "    for i in range(max_permutations - 1):\n",
    "        np.random.shuffle(index)\n",
    "        indices.add(tuple(index))\n",
    "    return [(index[:n1], index[n1:]) for index in indices]\n",
    "\n",
    "def permutation_null_dist_2s(sample1, sample2, max_permutations = None):\n",
    "    pooled_sample = np.hstack((sample1, sample2))\n",
    "    n1 = len(sample1)\n",
    "    n2 = len(sample2)\n",
    "    n = n1 + n2\n",
    "    \n",
    "    if max_permutations:\n",
    "        indices = get_random_combinations(n1, n2, max_permutations)\n",
    "    else:\n",
    "        indices = [(list(index), filter(lambda i: i not in index, range(n))) \\\n",
    "                    for index in itertools.combinations(range(n), n1)]\n",
    "    \n",
    "    distr = [permutation_t_stat_2s(pooled_sample[list(i[0])], pooled_sample[list(i[1])]) \\\n",
    "             for i in indices]\n",
    "    return distr\n",
    "\n",
    "def permutation_test_2s(sample1, sample2, max_permutations = None, alternative = 'two-sided', return_distr = False):\n",
    "    if alternative not in ('two-sided', 'less', 'greater'):\n",
    "        raise ValueError(\"alternative not recognized\\n\"\n",
    "                         \"should be 'two-sided', 'less' or 'greater'\")\n",
    "    \n",
    "    t_stat = permutation_t_stat_2s(sample1, sample2)\n",
    "    \n",
    "    null_distr = permutation_null_dist_2s(sample1, sample2, max_permutations)\n",
    "    \n",
    "    if alternative == 'two-sided':\n",
    "        p = sum([1. if abs(x) >= abs(t_stat) else 0. for x in null_distr]) / len(null_distr)\n",
    "    elif alternative == 'less':\n",
    "        p = sum([1. if x <= t_stat else 0. for x in null_distr]) / len(null_distr)\n",
    "    else: # alternative == 'greater':\n",
    "        p = sum([1. if x >= t_stat else 0. for x in null_distr]) / len(null_distr)\n",
    "    \n",
    "    if return_distr:\n",
    "        return {'t': t_stat, 'p': p, 'null_distr': null_distr}\n",
    "    else:\n",
    "        return {'t': t_stat, 'p': p}"
   ]
  },
  {
   "cell_type": "code",
   "execution_count": 109,
   "metadata": {},
   "outputs": [
    {
     "name": "stdout",
     "output_type": "stream",
     "text": [
      "Permutation test: p-value = 0.001\n"
     ]
    }
   ],
   "source": [
    "np.random.seed(0)\n",
    "\n",
    "res = permutation_test_2s(all_with_default_NO.LIMIT_BAL, \n",
    "                          all_with_default_YES.LIMIT_BAL, \n",
    "                          max_permutations = 1000, \n",
    "                          return_distr = True)\n",
    "print(f\"Permutation test: p-value = {res['p']}\")"
   ]
  },
  {
   "cell_type": "markdown",
   "metadata": {},
   "source": [
    "The **p-value** is quite small and the null hypothesis is **rejected** at a significance level of 0.05.\n",
    "\n",
    "The result is practically significant because the difference in the LIMIT_BAL median values is significantly larger. \n",
    "<br>There are differences between median credit limits of two groups."
   ]
  },
  {
   "cell_type": "markdown",
   "metadata": {},
   "source": [
    "#### Conclusions:\n",
    "1. The median values of the two groups are not equal.\n",
    "2. Confidence intervals do not intersect which means medians do not match. \n",
    "3. The p-value is less than significance level. There is a significant difference between the medians of two groups."
   ]
  },
  {
   "cell_type": "markdown",
   "metadata": {},
   "source": [
    "### 2. Gender: test whether gender composition of two groups differ."
   ]
  },
  {
   "cell_type": "markdown",
   "metadata": {},
   "source": [
    "Let's test the hypothesis that the gender of people who paid and did not pay the loan is different.\n",
    "\n",
    "**GENDER:** \n",
    "<br>1 = male\n",
    "<br>2 = female"
   ]
  },
  {
   "cell_type": "markdown",
   "metadata": {},
   "source": [
    "First, let's build a histogram showing the ratio of people with and without default loans, grouped by gender."
   ]
  },
  {
   "cell_type": "code",
   "execution_count": 294,
   "metadata": {},
   "outputs": [
    {
     "data": {
      "image/png": "[encoded data removed]",
      "text/plain": [
       "<Figure size 504x504 with 1 Axes>"
      ]
     },
     "metadata": {
      "needs_background": "light"
     },
     "output_type": "display_data"
    }
   ],
   "source": [
    "plt.figure(1, figsize=(7,7))\n",
    "plt.subplot()\n",
    "plt.title('Histogram of GENDER for default = Yes / No')\n",
    "plt.hist(x=all_with_default_NO.GENDER, bins=[0.7, 1.3, 1.7, 2.3], align='mid', color='green', edgecolor='black', label='Default = No')\n",
    "plt.hist(x=all_with_default_YES.GENDER, bins=[0.7, 1.3, 1.7, 2.3], align='mid', color='tomato', edgecolor='black', label='Default = Yes')\n",
    "plt.xticks([1, 2], ['Male', 'Female'], fontsize=18)\n",
    "plt.ylabel(f'Number of cardholders', fontsize=12)\n",
    "plt.legend(fontsize=15);"
   ]
  },
  {
   "cell_type": "markdown",
   "metadata": {},
   "source": [
    "**Null hypothesis**: Gender composition does not differ between the two groups:\n",
    "<br>$H_0\\colon$ $p_{1} = p_{2}$\n",
    " \n",
    "**Alternative hypothesis**:\n",
    "<br>$H_1\\colon$ $p_{1} ≠ p_{2}$"
   ]
  },
  {
   "cell_type": "code",
   "execution_count": 27,
   "metadata": {},
   "outputs": [],
   "source": [
    "n1 = all_with_default_YES.GENDER.count()\n",
    "n2 = all_with_default_NO.GENDER.count()\n",
    "\n",
    "N1 = (all_with_default_YES.GENDER-1).sum()\n",
    "N2 = (all_with_default_NO.GENDER-1).sum()"
   ]
  },
  {
   "cell_type": "markdown",
   "metadata": {},
   "source": [
    "Confidence interval for the difference in proportions:"
   ]
  },
  {
   "cell_type": "code",
   "execution_count": 44,
   "metadata": {},
   "outputs": [
    {
     "name": "stdout",
     "output_type": "stream",
     "text": [
      "Wald's 95% confidence interval for a difference between proportions: [-0.061, -0.034]:\n"
     ]
    }
   ],
   "source": [
    "interval = confint_proportions_2indep(N1, n1, N2, n2, \n",
    "                                      method='wald', \n",
    "                                      compare='diff', \n",
    "                                      alpha=0.05, \n",
    "                                      correction=True)\n",
    "print(f\"Wald's 95% confidence interval for a difference between proportions: [{interval[0].round(3)}, {interval[1].round(3)}]:\")"
   ]
  },
  {
   "cell_type": "markdown",
   "metadata": {},
   "source": [
    "Let's test the hypothesis of equal proportions against two-sided alternative based on **Wilson's interval test**."
   ]
  },
  {
   "cell_type": "code",
   "execution_count": 45,
   "metadata": {},
   "outputs": [
    {
     "name": "stdout",
     "output_type": "stream",
     "text": [
      "Wilson's interval based test: -6.921, \n",
      "p-value: 4.4764487319331085e-12\n",
      "p-value < 0.05: True\n"
     ]
    }
   ],
   "source": [
    "Wilson_test = test_proportions_2indep(N1, n1, N2, n2, \n",
    "                                      alternative = 'two-sided',\n",
    "                                      method = 'score',\n",
    "                                      compare='diff', \n",
    "                                      correction=False,\n",
    "                                      return_results=False)\n",
    "\n",
    "print(f\"Wilson's interval based test: {Wilson_test[0].round(3)}, \\np-value: {Wilson_test[1]}\")    \n",
    "print(f\"p-value < 0.05: {Wilson_test[1]<0.05}\")    "
   ]
  },
  {
   "cell_type": "markdown",
   "metadata": {},
   "source": [
    "#### Conclusions:\n",
    "\n",
    "Since the p-value is very small and it's less than the significance level of 0.05, the null hypothesis of equal proportions of men and women in the samples is **rejected**, we can say that there is a significant difference between the number of men and women in our samples. Gender may influence loan default."
   ]
  },
  {
   "cell_type": "markdown",
   "metadata": {},
   "source": [
    "### 3. Education: test whether education levels differs between two groups. If it does, then how exactly?"
   ]
  },
  {
   "cell_type": "markdown",
   "metadata": {},
   "source": [
    "Let's consider how the level of education affects loan delinquencies.\n",
    "\n",
    "**EDUCATION**:\n",
    "<br>0 = doctorate,\n",
    "<br>1 = masters;\n",
    "<br>2 = bachelor; \n",
    "<br>3 = school graduate;\n",
    "<br>4 = elementary education;\n",
    "<br>5 = other; \n",
    "<br>6 = no data."
   ]
  },
  {
   "cell_type": "code",
   "execution_count": 47,
   "metadata": {},
   "outputs": [
    {
     "data": {
      "image/png": "[encoded data removed]",
      "text/plain": [
       "<Figure size 504x504 with 1 Axes>"
      ]
     },
     "metadata": {
      "needs_background": "light"
     },
     "output_type": "display_data"
    }
   ],
   "source": [
    "plt.figure(1, figsize=(7,7))\n",
    "plt.subplot()\n",
    "plt.title(f'EDUCATION Histogram for default = Yes / No')\n",
    "plt.hist(x=all_with_default_NO.EDUCATION, \n",
    "         bins=[0, 0.5, 1.5, 2.5, 3.5, 4.5, 5.5, 6.5], \n",
    "         align='mid', color='green', edgecolor='black', label='Default = No')\n",
    "plt.hist(x=all_with_default_YES.EDUCATION, \n",
    "         bins=[0, 0.5, 1.5, 2.5, 3.5, 4.5, 5.5, 6.5], \n",
    "         align='mid', color='tomato', edgecolor='black', label='Default = Yes')\n",
    "plt.xticks([0, 1, 2, 3, 4, 5, 6], \n",
    "           ['doctorate', \n",
    "            'masters', \n",
    "            \"bachelor\", \n",
    "            \"school\", \n",
    "            \"elementary\", \n",
    "            \"other\", \n",
    "            \"no data\"], rotation=60, fontsize=12)\n",
    "plt.grid()\n",
    "plt.ylabel(f'Number of cardholders', fontsize=12)\n",
    "plt.xlabel(f'Education', fontsize=12)\n",
    "plt.legend(fontsize=15);"
   ]
  },
  {
   "cell_type": "markdown",
   "metadata": {},
   "source": [
    "PhDs have no loan arrears at all, but also there are few of them in total. There is also a small percentage of non-return among those who completed only elementary school and indicated their education as \"other\". Significantly high defaults for school graduates, bachelors graduates and those wuth \"no data\". "
   ]
  },
  {
   "cell_type": "markdown",
   "metadata": {},
   "source": [
    "Let's check whether the type of education and the presence / absence of delays in paying the loan are dependent. To do this, we use the chi-square test. \n",
    "<br><br>**Null hypothesis** $H_0$: education does not affect the probability of debt default (i.e. education has a normal distribution and the influence is random)\n",
    "<br><br>**Alternativehypothesis** $H_a$: education has affect on debt default.\n",
    "<br>\n",
    "<br>Let's build a contingency table, where the columns will be people who paid the debt, and the rows will be the level of education."
   ]
  },
  {
   "cell_type": "code",
   "execution_count": 63,
   "metadata": {},
   "outputs": [
    {
     "name": "stdout",
     "output_type": "stream",
     "text": [
      "Overall expected value of loan repayment = 0.8629526580788338\n"
     ]
    },
    {
     "data": {
      "text/html": [
       "<div>\n",
       "<style scoped>\n",
       "    .dataframe tbody tr th:only-of-type {\n",
       "        vertical-align: middle;\n",
       "    }\n",
       "\n",
       "    .dataframe tbody tr th {\n",
       "        vertical-align: top;\n",
       "    }\n",
       "\n",
       "    .dataframe thead th {\n",
       "        text-align: right;\n",
       "    }\n",
       "</style>\n",
       "<table border=\"1\" class=\"dataframe\">\n",
       "  <thead>\n",
       "    <tr style=\"text-align: right;\">\n",
       "      <th></th>\n",
       "      <th>default = NO</th>\n",
       "      <th>default = YES</th>\n",
       "    </tr>\n",
       "  </thead>\n",
       "  <tbody>\n",
       "    <tr>\n",
       "      <th>0</th>\n",
       "      <td>14</td>\n",
       "      <td>0.0</td>\n",
       "    </tr>\n",
       "    <tr>\n",
       "      <th>1</th>\n",
       "      <td>8549</td>\n",
       "      <td>2036.0</td>\n",
       "    </tr>\n",
       "    <tr>\n",
       "      <th>2</th>\n",
       "      <td>10700</td>\n",
       "      <td>3330.0</td>\n",
       "    </tr>\n",
       "    <tr>\n",
       "      <th>3</th>\n",
       "      <td>3680</td>\n",
       "      <td>1237.0</td>\n",
       "    </tr>\n",
       "    <tr>\n",
       "      <th>4</th>\n",
       "      <td>116</td>\n",
       "      <td>7.0</td>\n",
       "    </tr>\n",
       "    <tr>\n",
       "      <th>5</th>\n",
       "      <td>262</td>\n",
       "      <td>18.0</td>\n",
       "    </tr>\n",
       "    <tr>\n",
       "      <th>6</th>\n",
       "      <td>43</td>\n",
       "      <td>8.0</td>\n",
       "    </tr>\n",
       "  </tbody>\n",
       "</table>\n",
       "</div>"
      ],
      "text/plain": [
       "   default = NO  default = YES\n",
       "0            14            0.0\n",
       "1          8549         2036.0\n",
       "2         10700         3330.0\n",
       "3          3680         1237.0\n",
       "4           116            7.0\n",
       "5           262           18.0\n",
       "6            43            8.0"
      ]
     },
     "execution_count": 63,
     "metadata": {},
     "output_type": "execute_result"
    }
   ],
   "source": [
    "percent = []\n",
    "\n",
    "for i in range(7):\n",
    "    percent.append(sum(np.where(all_with_default_NO.EDUCATION == i, 1, 0)) / sum(np.where(data.EDUCATION == i, 1, 0)))\n",
    "\n",
    "EX = np.mean(percent)\n",
    "print(f'Overall expected value of loan repayment = {EX}')\n",
    "\n",
    "contingency_table_Education = pd.DataFrame({f'default = NO': all_with_default_NO.EDUCATION.value_counts(),\n",
    "                                            f'default = YES': all_with_default_YES.EDUCATION.value_counts()}).fillna(0)\n",
    "\n",
    "contingency_table_Education"
   ]
  },
  {
   "cell_type": "code",
   "execution_count": 64,
   "metadata": {},
   "outputs": [
    {
     "data": {
      "image/png": "[encoded data removed]",
      "text/plain": [
       "<Figure size 720x432 with 1 Axes>"
      ]
     },
     "metadata": {
      "needs_background": "light"
     },
     "output_type": "display_data"
    }
   ],
   "source": [
    "plt.figure(figsize=(10,6))\n",
    "plt.plot(np.arange(0,7,1), list(map(lambda x: (x * 100).round(2), percent)), linewidth=6, label = 'Observed')\n",
    "plt.plot(np.arange(0,7,1), [EX*100 for i in range(7)], linewidth=6, label = 'Expected', color='green')\n",
    "plt.xlabel(f'Education', fontsize=12)\n",
    "plt.ylabel(f'Persent of clients without debt', fontsize=12)\n",
    "plt.ylim(70)\n",
    "plt.xticks([0, 1, 2, 3, 4, 5, 6], \n",
    "           ['doctorate', \n",
    "            'masters', \n",
    "            \"bachelor\", \n",
    "            \"school\", \n",
    "            \"elementary\", \n",
    "            \"other\", \n",
    "            \"no data\"], \n",
    "           rotation=60, fontsize=14)\n",
    "plt.grid()\n",
    "plt.legend(fontsize=15);"
   ]
  },
  {
   "cell_type": "markdown",
   "metadata": {},
   "source": [
    "We will use **chi2_contingency** as we want to test whether groups with different level of education have the same distribution. We don't know the underlying distribution, but we want to test whether two (or more) groups have the same distribution. "
   ]
  },
  {
   "cell_type": "code",
   "execution_count": 69,
   "metadata": {},
   "outputs": [
    {
     "name": "stdout",
     "output_type": "stream",
     "text": [
      "chi-square statistic: 163.22\n",
      "p-value: 1.2332626245415605e-32\n",
      "p-value < 0.05: True\n"
     ]
    }
   ],
   "source": [
    "chi_2_test = chi2_contingency(contingency_table_Education, correction=False)\n",
    "print (f\"chi-square statistic: {chi_2_test[0].round(2)}\")\n",
    "print (f\"p-value: {chi_2_test[1]}\")\n",
    "print(f\"p-value < 0.05: {chi_2_test[1]<0.05}\")    "
   ]
  },
  {
   "cell_type": "markdown",
   "metadata": {},
   "source": [
    "#### Conclusions:\n",
    "\n",
    "1. From the plot and contingency table, we can see how loan defaults differ depending on the level of education.\n",
    "\n",
    "2. Since the p-value is very small and it's less than the significance level of 0.05, the null hypothesis that education does not affect on debt default is rejected. There is a relationship between the level of education and loan payments."
   ]
  },
  {
   "cell_type": "markdown",
   "metadata": {},
   "source": [
    "### 4.  Marital status: Check how marital status is related to the default indicator: you need to propose a measure by which you can measure the possible relationship of these variables and calculate its value."
   ]
  },
  {
   "cell_type": "markdown",
   "metadata": {},
   "source": [
    "Now let's look at how marital status affects loan delinquency.\n",
    "\n",
    "**MARITAL**: \n",
    "<br>marital status:\n",
    "<br>0 = no answer; \n",
    "<br>1 = married; \n",
    "<br>2 = single; \n",
    "<br>3 = no data."
   ]
  },
  {
   "cell_type": "code",
   "execution_count": 313,
   "metadata": {},
   "outputs": [
    {
     "data": {
      "image/png": "[encoded data removed]",
      "text/plain": [
       "<Figure size 504x504 with 1 Axes>"
      ]
     },
     "metadata": {
      "needs_background": "light"
     },
     "output_type": "display_data"
    }
   ],
   "source": [
    "plt.figure(1, figsize=(7,7))\n",
    "plt.subplot()\n",
    "plt.title('Histogram of MARITAL for default = Yes / No')\n",
    "plt.hist(x=all_with_default_NO.MARITAL,\n",
    "         bins=[-0.4, 0.4, 0.6, 1.4, 1.6, 2.4, 2.6, 3.4],\n",
    "         align='mid', color='green', edgecolor='black', label='Default = No')\n",
    "plt.hist(x=all_with_default_YES.MARITAL, \n",
    "         bins=[-0.4, 0.4, 0.6, 1.4, 1.6, 2.4, 2.6, 3.4],\n",
    "         align='mid', color='tomato', edgecolor='black', label='Default = Yes')\n",
    "plt.xticks([0, 1, 2 , 3], ['no answer', \n",
    "                           'married', \n",
    "                           'single', \n",
    "                           'no data'], \n",
    "           rotation=60, fontsize=12)\n",
    "plt.ylabel(f'Number of cardholders', fontsize=12)\n",
    "plt.xlabel(f'Marital status', fontsize=12)\n",
    "plt.legend(fontsize=15);"
   ]
  },
  {
   "cell_type": "markdown",
   "metadata": {},
   "source": [
    "The share of defaults among married and single people differs by about 10%.\n",
    "\n",
    "**Null hypothesis**: composition of married and single people in samples are the same:\n",
    "<br>$H_0\\colon$ $p_{1} = p_{2}$\n",
    " \n",
    "**Alternative hypothesis**: composition of married and single people in samples are not the same:\n",
    "<br>$H_1\\colon$ $p_{1} ≠ p_{2}$"
   ]
  },
  {
   "cell_type": "markdown",
   "metadata": {},
   "source": [
    "We will do as we did in 2nd question about prorotions in gender, so let's test the hypothesis of equal proportions against two-sided alternative based on **Wilson's interval test**."
   ]
  },
  {
   "cell_type": "code",
   "execution_count": 70,
   "metadata": {},
   "outputs": [],
   "source": [
    "n1 = all_with_default_YES.MARITAL.count()\n",
    "n2 = all_with_default_NO.MARITAL.count()\n",
    "\n",
    "N1 = (all_with_default_YES.MARITAL-1).sum()\n",
    "N2 = (all_with_default_NO.MARITAL-1).sum()"
   ]
  },
  {
   "cell_type": "code",
   "execution_count": 71,
   "metadata": {},
   "outputs": [
    {
     "name": "stdout",
     "output_type": "stream",
     "text": [
      "Wilson's interval based test: -4.425, \n",
      "p-value: 9.660646237783034e-06\n",
      "p-value < 0.05: True\n"
     ]
    }
   ],
   "source": [
    "Wilson_test_MARITAL = test_proportions_2indep(N1, n1, N2, n2, \n",
    "                                      alternative = 'two-sided',\n",
    "                                      method = 'score',\n",
    "                                      compare='diff', \n",
    "                                      correction=False,\n",
    "                                      return_results=False)\n",
    "\n",
    "print(f\"Wilson's interval based test: {Wilson_test_MARITAL[0].round(3)}, \\np-value: {Wilson_test_MARITAL[1]}\")    \n",
    "print(f\"p-value < 0.05: {Wilson_test_MARITAL[1]<0.05}\")  "
   ]
  },
  {
   "cell_type": "markdown",
   "metadata": {},
   "source": [
    "Now we will use the **chi2_contingency test** to check the independence of marital status and default on loans.\n",
    "\n",
    "**Null hypothesis** $H_0\\colon$ marital status and default on loans are independent\n",
    "<br>\n",
    " \n",
    "**Alternative hypothesis** $H_1\\colon$ marital status and default on loans not are independent\n",
    "\n",
    "To perform check, we will make a contingency table:"
   ]
  },
  {
   "cell_type": "code",
   "execution_count": 72,
   "metadata": {},
   "outputs": [
    {
     "data": {
      "text/html": [
       "<div>\n",
       "<style scoped>\n",
       "    .dataframe tbody tr th:only-of-type {\n",
       "        vertical-align: middle;\n",
       "    }\n",
       "\n",
       "    .dataframe tbody tr th {\n",
       "        vertical-align: top;\n",
       "    }\n",
       "\n",
       "    .dataframe thead th {\n",
       "        text-align: right;\n",
       "    }\n",
       "</style>\n",
       "<table border=\"1\" class=\"dataframe\">\n",
       "  <thead>\n",
       "    <tr style=\"text-align: right;\">\n",
       "      <th></th>\n",
       "      <th>default = NO</th>\n",
       "      <th>default = YES</th>\n",
       "    </tr>\n",
       "  </thead>\n",
       "  <tbody>\n",
       "    <tr>\n",
       "      <th>2</th>\n",
       "      <td>12623</td>\n",
       "      <td>3341</td>\n",
       "    </tr>\n",
       "    <tr>\n",
       "      <th>1</th>\n",
       "      <td>10453</td>\n",
       "      <td>3206</td>\n",
       "    </tr>\n",
       "    <tr>\n",
       "      <th>3</th>\n",
       "      <td>239</td>\n",
       "      <td>84</td>\n",
       "    </tr>\n",
       "    <tr>\n",
       "      <th>0</th>\n",
       "      <td>49</td>\n",
       "      <td>5</td>\n",
       "    </tr>\n",
       "  </tbody>\n",
       "</table>\n",
       "</div>"
      ],
      "text/plain": [
       "   default = NO  default = YES\n",
       "2         12623           3341\n",
       "1         10453           3206\n",
       "3           239             84\n",
       "0            49              5"
      ]
     },
     "execution_count": 72,
     "metadata": {},
     "output_type": "execute_result"
    }
   ],
   "source": [
    "contingency_table_MARITAL = pd.DataFrame({f'default = NO': all_with_default_NO.MARITAL.value_counts(),\n",
    "                                          f'default = YES': all_with_default_YES.MARITAL.value_counts()})\n",
    "contingency_table_MARITAL"
   ]
  },
  {
   "cell_type": "code",
   "execution_count": 73,
   "metadata": {},
   "outputs": [
    {
     "name": "stdout",
     "output_type": "stream",
     "text": [
      "chi-square statistic:  35.66\n",
      "p-value:  8.825862457577375e-08\n",
      "p-value < 0.05: True\n"
     ]
    }
   ],
   "source": [
    "chi_2_test_MARITAL = chi2_contingency(contingency_table_MARITAL, correction=False)\n",
    "\n",
    "print (\"chi-square statistic: \", chi_2_test_MARITAL[0].round(2))\n",
    "print (\"p-value: \", chi_2_test_MARITAL[1])\n",
    "print(f\"p-value < 0.05: {chi_2_test_MARITAL[1]<0.05}\")  "
   ]
  },
  {
   "cell_type": "markdown",
   "metadata": {},
   "source": [
    "#### Conclusions:\n",
    "\n",
    "1. p-value for the Wilson's interval test is less than the significance level of 0.05, so we rejected the null hypothesis of equal proportions of the number of single and married people.\n",
    "2. p-value for the Chi squared is less than the significance level of 0.05, so null the hypothesis of independence of marital status default on loans is rejected. Marital status has an impact on default on loans."
   ]
  },
  {
   "cell_type": "markdown",
   "metadata": {},
   "source": [
    "### 5. Age: test whether there are differences between mean ages of clients in two groups."
   ]
  },
  {
   "cell_type": "markdown",
   "metadata": {},
   "source": [
    "Finally, consider the effect of age on loan delinquency."
   ]
  },
  {
   "cell_type": "code",
   "execution_count": 317,
   "metadata": {},
   "outputs": [
    {
     "data": {
      "image/png": "[encoded data removed]",
      "text/plain": [
       "<Figure size 576x576 with 1 Axes>"
      ]
     },
     "metadata": {
      "needs_background": "light"
     },
     "output_type": "display_data"
    }
   ],
   "source": [
    "plt.figure(figsize=(8,8))\n",
    "plt.subplot()\n",
    "plt.title('Histogram of AGE for default = Yes / No')\n",
    "plt.hist(all_with_default_NO.AGE, bins=30, color='green', edgecolor='black', label='Default = No')\n",
    "plt.hist(all_with_default_YES.AGE, bins=30, color='tomato', edgecolor='black', label='Default = Yes')\n",
    "plt.grid()\n",
    "plt.xlabel(f'Age, years', fontsize=12)\n",
    "plt.ylabel(f'Number of cardholders', fontsize=12)\n",
    "plt.legend(fontsize=15);"
   ]
  },
  {
   "cell_type": "markdown",
   "metadata": {},
   "source": [
    "**Null Hypothesis** $H_0\\colon$  the means values of the credit limit for people who repaid and who did not repay the credit are equal\n",
    "\n",
    "    \n",
    "**Alternative Hypothesis** $H_1\\colon$  means are different.\n",
    "\n"
   ]
  },
  {
   "cell_type": "code",
   "execution_count": 91,
   "metadata": {},
   "outputs": [
    {
     "name": "stdout",
     "output_type": "stream",
     "text": [
      "Mean age for all cardholders without default: 35.4 years\n",
      "Mean age for all cardholders with default: 35.7 years\n",
      "Mean age for all cardholders: 35.5 years\n"
     ]
    }
   ],
   "source": [
    "# Mean age\n",
    "\n",
    "print(f'Mean age for all cardholders without default: {round(all_with_default_NO.AGE.mean(), 1)} years')\n",
    "print(f'Mean age for all cardholders with default: {round(all_with_default_YES.AGE.mean(), 1)} years')\n",
    "print(f'Mean age for all cardholders: {round(data.AGE.mean(), 1)} years')"
   ]
  },
  {
   "cell_type": "markdown",
   "metadata": {},
   "source": [
    "Let's find confidence intervals using Bootstrap method, described in 1st question."
   ]
  },
  {
   "cell_type": "code",
   "execution_count": 94,
   "metadata": {},
   "outputs": [
    {
     "name": "stdout",
     "output_type": "stream",
     "text": [
      "95% confidence interval for limit_0 mean: [35.30169492 35.53493088]\n",
      "95% confidence interval for limit_1 mean: [35.49349759 35.95      ]\n"
     ]
    }
   ],
   "source": [
    "np.random.seed(0)\n",
    "\n",
    "age_0_bst_mean = list(map(np.mean, get_bootstrap_samples(np.array(all_with_default_NO.AGE), 5000)))\n",
    "age_1_bst_mean = list(map(np.mean, get_bootstrap_samples(np.array(all_with_default_YES.AGE), 5000)))\n",
    "\n",
    "print(\"95% confidence interval for limit_0 mean:\",  stat_intervals(age_0_bst_mean, 0.05))\n",
    "print(\"95% confidence interval for limit_1 mean:\",  stat_intervals(age_1_bst_mean, 0.05))"
   ]
  },
  {
   "cell_type": "markdown",
   "metadata": {},
   "source": [
    "Confidence intervals intersect. We **cannot reject null hypothesis** that the means values of the credit limit for people who repaid and who did not repay the credit do not match"
   ]
  },
  {
   "cell_type": "markdown",
   "metadata": {},
   "source": [
    "Let us test the hypothesis about the equality of distributions using one of the appropriate nonparametric tests for checking the **equality of means**. \n",
    "\n",
    "To test the hypothesis, a **permutation test** for independent samples is suitable.\n",
    "\n",
    "**Null Hypothesis** $H_0\\colon$ sample distributions are equal\n",
    "<br>$H_0\\colon F_{X_1}(x) = F_{X_2}(x)$\n",
    "<br>**Alternative hypothesis** $H_1\\colon$ sample distributions differ by the amount of shift\n",
    "<br>$H_1\\colon F_{X_1}(x) = F_{X_2}(x + \\Delta), \\Delta\\neq 0$"
   ]
  },
  {
   "cell_type": "code",
   "execution_count": 103,
   "metadata": {},
   "outputs": [
    {
     "name": "stdout",
     "output_type": "stream",
     "text": [
      "Permutation test: p-value = 0.026\n",
      "p-value < 0.05: True\n"
     ]
    }
   ],
   "source": [
    "permutation_test = permutation_test_2s(all_with_default_NO.AGE, \n",
    "                              all_with_default_YES.AGE, \n",
    "                              max_permutations = 1000, \n",
    "                              return_distr = True)\n",
    "\n",
    "print(f\"Permutation test: p-value = {permutation_test['p']}\")\n",
    "print(f\"p-value < 0.05: {permutation_test['p']<0.05}\")  "
   ]
  },
  {
   "cell_type": "code",
   "execution_count": 102,
   "metadata": {},
   "outputs": [
    {
     "name": "stdout",
     "output_type": "stream",
     "text": [
      "Difference in means = -0.308473\n"
     ]
    }
   ],
   "source": [
    "delta_mean = np.mean(all_with_default_NO.AGE) - np.mean(all_with_default_YES.AGE)\n",
    "print('Difference in means = %f' % delta_mean)"
   ]
  },
  {
   "cell_type": "markdown",
   "metadata": {},
   "source": [
    "#### Conclusions:\n",
    "\n",
    "1. As confidence intervals for BST method intersect we **cannot reject null hypothesis** that the means values of the credit limit for people who repaid and who did not repay the credit do not match. This result is of practical importance - the probability of default on loans does not depend on the age of the client.\n",
    "\n",
    "2. p-value for the permutation test is less than the significance level of 0.05, so we **rejected the null hypothesis** of equal sample distributions. The result is statistically significant, the difference in distributions is visible and these data can be taken into account when issuing a loan. But in practice, the difference in age mean values is **less than half a year**, so from a practical point of view, the significance of these results can be called into question."
   ]
  },
  {
   "cell_type": "code",
   "execution_count": null,
   "metadata": {},
   "outputs": [],
   "source": []
  }
 ],
 "metadata": {
  "kernelspec": {
   "display_name": "Python 3",
   "language": "python",
   "name": "python3"
  },
  "language_info": {
   "codemirror_mode": {
    "name": "ipython",
    "version": 3
   },
   "file_extension": ".py",
   "mimetype": "text/x-python",
   "name": "python",
   "nbconvert_exporter": "python",
   "pygments_lexer": "ipython3",
   "version": "3.8.10"
  }
 },
 "nbformat": 4,
 "nbformat_minor": 5
}
